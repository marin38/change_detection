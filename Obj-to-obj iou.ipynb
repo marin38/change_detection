{
 "cells": [
  {
   "cell_type": "code",
   "execution_count": 1,
   "metadata": {},
   "outputs": [],
   "source": [
    "import cv2\n",
    "import numpy as np\n",
    "from np_metrics import np_jaccard_coef\n",
    "\n"
   ]
  },
  {
   "cell_type": "code",
   "execution_count": 26,
   "metadata": {
    "collapsed": true
   },
   "outputs": [],
   "source": [
    "IMG_GT_PATH = 'test/gt_test.png'\n",
    "IMG_PRED_PATH = 'test/pred_test.png'\n",
    "\n",
    "def calculate_objectwise_metrics(img_pred_path, img_gt_path, threshold=0.5):\n",
    "    IOU_THRESHOLD = threshold\n",
    "    img_gt = cv2.imread(IMG_GT_PATH)\n",
    "    img_pred = cv2.imread(IMG_PRED_PATH)\n",
    "    assert img_gt.shape == img_pred.shape\n",
    "    contours_gt = get_contours(img_gt)\n",
    "    contours_pred = get_contours(img_pred)\n",
    "    return calculate_obj_classification_matrix(contours_pred, contours_gt, img_gt.shape)\n",
    "\n",
    "def get_contours(img):\n",
    "    img_gray = cv2.cvtColor(img,cv2.COLOR_BGR2GRAY)\n",
    "    _,thresh = cv2.threshold(img_gray,127,255,0)\n",
    "    _, contours, _ = cv2.findContours(thresh ,cv2.RETR_TREE,cv2.CHAIN_APPROX_SIMPLE)\n",
    "    return contours\n",
    "\n",
    "\n",
    "\n",
    "def check_counters_iou_greater_threshold(counter_1, counter_2, shape):\n",
    "    black_image = np.zeros(shape, np.uint8)\n",
    "    img_1_ = cv2.drawContours(black_image.copy(), [counter_1], 0, (255,255,255), thickness=cv2.FILLED)\n",
    "    img_2_ = cv2.drawContours(black_image.copy(), [counter_2], 0, (255,255,255), thickness=cv2.FILLED)\n",
    "    img_1_ = cv2.cvtColor(img_1_,cv2.COLOR_BGR2GRAY)\n",
    "    img_2_ = cv2.cvtColor(img_2_,cv2.COLOR_BGR2GRAY)\n",
    "    return np_jaccard_coef(img_1_, img_2_) >= IOU_THRESHOLD\n",
    "\n",
    "def calculate_obj_classification_matrix(counters_pred, counters_gt, shape):\n",
    "    TP=0\n",
    "    TN=0\n",
    "    FP=0\n",
    "    checked_1 = [False]*len(counters_pred)\n",
    "    checked_2 = [False]*len(counters_gt)\n",
    "    for i in range(len(counters_pred)):\n",
    "        for j in range(len(counters_gt)):\n",
    "            if check_counters_iou_greater_threshold(counters_pred[i], counters_gt[j], shape):\n",
    "                checked_1[i]=True\n",
    "                checked_2[j]=True\n",
    "                TP += 1\n",
    "    for i in range(len(counters_pred)):\n",
    "        if not checked_1[i]:\n",
    "            FP += 1\n",
    "    for j in range(len(counters_gt)):\n",
    "        if not checked_2[j]:\n",
    "            TN += 1\n",
    "    return TP, FP, TN\n",
    "            "
   ]
  },
  {
   "cell_type": "code",
   "execution_count": 27,
   "metadata": {},
   "outputs": [
    {
     "data": {
      "text/plain": [
       "(1, 2, 3)"
      ]
     },
     "execution_count": 27,
     "metadata": {},
     "output_type": "execute_result"
    }
   ],
   "source": [
    "calculate_objectwise_metrics(IMG_GT_PATH, IMG_PRED_PATH)"
   ]
  },
  {
   "cell_type": "code",
   "execution_count": null,
   "metadata": {
    "collapsed": true
   },
   "outputs": [],
   "source": []
  }
 ],
 "metadata": {
  "kernelspec": {
   "display_name": "Python 3",
   "language": "python",
   "name": "python3"
  },
  "language_info": {
   "codemirror_mode": {
    "name": "ipython",
    "version": 3
   },
   "file_extension": ".py",
   "mimetype": "text/x-python",
   "name": "python",
   "nbconvert_exporter": "python",
   "pygments_lexer": "ipython3",
   "version": "3.6.3"
  }
 },
 "nbformat": 4,
 "nbformat_minor": 2
}
