{
 "cells": [
  {
   "cell_type": "code",
   "execution_count": 11,
   "metadata": {
    "scrolled": true
   },
   "outputs": [],
   "source": [
    "import matplotlib.pyplot as plt\n",
    "import numpy as np\n",
    "import cv2\n",
    "import os\n",
    "os.environ[\"CUDA_VISIBLE_DEVICES\"]=\"0\"\n",
    "import random\n",
    "from tqdm import tqdm\n",
    "import keras\n",
    "from keras.models import Model\n",
    "from keras.layers import Input, merge, Conv2D, MaxPooling2D, Flatten, UpSampling2D, Reshape, core, Dropout, BatchNormalization, concatenate, Activation\n",
    "from keras.optimizers import Adam\n",
    "from keras.callbacks import ModelCheckpoint, LearningRateScheduler\n",
    "from keras import backend as K\n",
    "from sklearn.metrics import jaccard_similarity_score, roc_curve, auc\n",
    "import tensorflow as tf\n",
    "from loss_functions_backend import jaccard_loss, iou_metric, recall, precision, f1, jaccard_coef_int\n",
    "from np_metrics import np_jaccard_coef, np_recall, np_precision, np_f1\n",
    "from keras.models import load_model\n",
    "from keras.regularizers import l2 as l2_reg\n",
    "import timeit\n",
    "import predict_all_img\n",
    "#from predict_all_img import split_image\n",
    "%matplotlib inline"
   ]
  },
  {
   "cell_type": "code",
   "execution_count": 12,
   "metadata": {
    "collapsed": true
   },
   "outputs": [],
   "source": [
    "def pad_int_zeros(i, num_digits):\n",
    "    res = str(i)\n",
    "    for j in range(num_digits-len(res)):\n",
    "        res = '0'+res\n",
    "    return res"
   ]
  },
  {
   "cell_type": "code",
   "execution_count": 13,
   "metadata": {
    "collapsed": true
   },
   "outputs": [],
   "source": [
    "def split_image(img_dir, img_name, model, size = (192,240), shear = 0.25, img_type='aicd'):\n",
    "    if img_type == 'tsunami':\n",
    "        img_1_path = img_dir+'t0/'+img_name+'.jpg'\n",
    "        img_2_path = img_dir+'t1/'+img_name+'.jpg'\n",
    "        img_gt_path = img_dir+'ground_truth/'+img_name+'.bmp'\n",
    "        \n",
    "    elif img_type == 'aicd':\n",
    "        img_1_path = img_dir+'Images_NoShadow/'+img_name+'_moving.png'\n",
    "        img_2_path = img_dir+'Images_NoShadow/'+img_name+'_target.png'\n",
    "        img_gt_path = img_dir+'GroundTruth/'+img_name+'_gtmask.png'\n",
    "\n",
    "        \n",
    "    img_1 = cv2.imread(img_1_path)\n",
    "    img_2 = cv2.imread(img_2_path)\n",
    "    img_gt = cv2.imread(img_gt_path,0)\n",
    "    assert img_1 is not None\n",
    "    assert img_2 is not None\n",
    "    assert img_gt is not None\n",
    "\n",
    "    if img_type=='tsunami':\n",
    "        img_gt = cv2.bitwise_not(img_gt)\n",
    "        \n",
    "    img = np.empty((img_1.shape[0], img_1.shape[1], 6))\n",
    "    img[:, :, :3] = img_1/255\n",
    "    img[:, :, 3:] = img_2/255\n",
    "    #img_gt = img_gt/255\n",
    "                   \n",
    "    h,w,_ = img.shape\n",
    "    # Create reflective padding\n",
    "    shear_int = (int(size[0]*shear),int(size[1]*shear))\n",
    "    pad_h_1 = (size[0]-shear_int[0]-(h-size[0])%(size[0]-shear_int[0]))//2\n",
    "    pad_h_2 = (size[0]-shear_int[0]-(h-size[0])%(size[0]-shear_int[0]))//2+(size[0]-shear_int[0]-(h-size[0])%(size[0]-shear_int[0]))%2\n",
    "    pad_w_1 = (size[1]-shear_int[1]-(w-size[1])%(size[1]-shear_int[1]))//2\n",
    "    pad_w_2 = (size[1]-shear_int[1]-(w-size[1])%(size[1]-shear_int[1]))//2+(size[1]-shear_int[1]-(w-size[1])%(size[1]-shear_int[1]))%2\n",
    "    #print(pad_h_1,pad_h_2,pad_w_1,pad_w_2)\n",
    "    img = np.pad(img,((pad_h_1,pad_h_2),(pad_w_1,pad_w_2),(0,0)), 'reflect')\n",
    "    \n",
    "    # Split image into patches\n",
    "    h,w,_ = img.shape\n",
    "    img_arr = []\n",
    "    n_rows = (h-size[0])//(size[0]-shear_int[0])+1\n",
    "    n_cols = (w-size[1])//(size[1]-shear_int[1])+1\n",
    "    for i in range(n_rows):\n",
    "        for j in range(n_cols):\n",
    "            coord_h = i*(size[0]-shear_int[0])\n",
    "            coord_w = j*(size[1]-shear_int[1])\n",
    "            img_crop = img[coord_h:coord_h+size[0], coord_w:coord_w+size[1],:]\n",
    "            img_arr.append(img_crop)\n",
    " \n",
    "    # Create predictions for patches\n",
    "    mask_arr = []\n",
    "    for img_crop in img_arr:\n",
    "        img_to_pred = np.array([img_crop])\n",
    "        mask_pred = model.predict(img_to_pred)[0]\n",
    "        mask_arr.append(mask_pred)\n",
    "    \n",
    "    # Merge masks in one\n",
    "    index = 0\n",
    "    channels = 1\n",
    "    final_seg = np.zeros((h,w))\n",
    "    for i in range (n_rows):\n",
    "        for j in range (n_cols):\n",
    "            #print(i,j)\n",
    "            coord_h = i*(size[0]-shear_int[0])\n",
    "            coord_w = j*(size[1]-shear_int[1])\n",
    "            \n",
    "            shift_h = shear_int[0]//2\n",
    "            shift_w = shear_int[1]//2\n",
    "            \n",
    "            mask_to_append = mask_arr[index]\n",
    "            mask_to_append[0:shift_h,:]=0\n",
    "            mask_to_append[size[0]-shift_h:,:]=0\n",
    "            mask_to_append[:,0:shift_w]=0\n",
    "            mask_to_append[:,size[1]-shift_w:]=0\n",
    "                \n",
    "            final_seg[coord_h:coord_h+size[0], coord_w:coord_w+size[1]]+=mask_to_append\n",
    "            index+=1\n",
    "    #print(final_seg.shape)\n",
    "    final_seg = final_seg[pad_h_1:h-pad_h_2, pad_w_1:w-pad_w_2]\n",
    "    return final_seg, img_gt"
   ]
  },
  {
   "cell_type": "code",
   "execution_count": 14,
   "metadata": {
    "collapsed": true
   },
   "outputs": [],
   "source": [
    "DATASET_DIR='../data/train_test_val_fixed_test_2/'\n",
    "smooth = 1e-12"
   ]
  },
  {
   "cell_type": "code",
   "execution_count": 15,
   "metadata": {
    "collapsed": true
   },
   "outputs": [],
   "source": [
    "class BatchGeneratorStatic(object):\n",
    "    \n",
    "    def __init__(self, batch_size = 32, dim_x = 240, dim_y = 192, dim_z = 6, shuffle = True):\n",
    "        self.dim_x = dim_x\n",
    "        self.dim_y = dim_y\n",
    "        self.dim_z = dim_z\n",
    "        self.batch_size = batch_size\n",
    "        self.shuffle = shuffle\n",
    "\n",
    "    def generate(self, dir_name, file_names):\n",
    "        # Infinite loop\n",
    "        while 1:\n",
    "        # Generate order of exploration of dataset\n",
    "            indexes = self.__get_exploration_order(file_names)\n",
    "\n",
    "            # Generate batches\n",
    "            imax = int(len(indexes)/self.batch_size)\n",
    "            for i in range(imax):\n",
    "                # Find list of IDs\n",
    "                list_files_temp = [file_names[k] for k in indexes[i*self.batch_size:(i+1)*self.batch_size]]\n",
    "                # Generate data\n",
    "                X_out, y_out = self.data_generation(dir_name, list_files_temp)\n",
    "\n",
    "                yield X_out, y_out\n",
    "\n",
    "    def __get_exploration_order(self, X):\n",
    "        \n",
    "        # Find exploration order\n",
    "        indexes = np.arange(len(X))\n",
    "        if self.shuffle == True:\n",
    "            np.random.shuffle(indexes)\n",
    "\n",
    "        return indexes\n",
    "\n",
    "    def data_generation(self, dir_name, list_files_temp):\n",
    "        # X : (n_samples, v_size, v_size, n_channels)\n",
    "        # Initialization\n",
    "        X = np.empty((self.batch_size, self.dim_y, self.dim_x, self.dim_z))\n",
    "        y = np.empty((self.batch_size, self.dim_y, self.dim_x))\n",
    "\n",
    "        # Generate data\n",
    "        for i in range(len(list_files_temp)):\n",
    "            # Store volume\n",
    "            img_1 = cv2.imread(dir_name+'1/'+list_files_temp[i])\n",
    "            img_2 = cv2.imread(dir_name+'2/'+list_files_temp[i])\n",
    "            img_gt = cv2.imread(dir_name+'gt/'+list_files_temp[i],0)\n",
    "            \n",
    "            #print(img.shape)\n",
    "            X[i, :, :, :3] = img_1/255\n",
    "            X[i, :, :, 3:] = img_2/255\n",
    "            \n",
    "            y[i, :, :]=img_gt/255\n",
    "\n",
    "            \n",
    "            #y = y/255\n",
    "            #y=y.flatten()\n",
    "        return X, y\n",
    "    def debug(self, X, y):\n",
    "        indexes = self.__get_exploration_order(X)\n",
    "        imax = int(len(indexes)/self.batch_size)\n",
    "        for i in range(1):\n",
    "            # Find list of IDs\n",
    "            list_files_temp = [file_names[k] for k in indexes[i*self.batch_size:(i+1)*self.batch_size]]\n",
    "            # Generate data\n",
    "            X_out, y_out = self.data_generation(dir_name, list_files_temp)\n",
    "            return  X_out, y_out"
   ]
  },
  {
   "cell_type": "code",
   "execution_count": 16,
   "metadata": {
    "collapsed": true
   },
   "outputs": [],
   "source": [
    "# dir_name = DATASET_DIR+'test/'\n",
    "# file_names = os.listdir(dir_name+'1/')\n",
    "\n",
    "# X,y = BatchGeneratorStatic().debug(dir_name, file_names)"
   ]
  },
  {
   "cell_type": "code",
   "execution_count": 17,
   "metadata": {
    "collapsed": true
   },
   "outputs": [],
   "source": [
    "# LOADING DATASETS\n",
    "train_dir = DATASET_DIR+'train/'\n",
    "train_data = os.listdir(DATASET_DIR+'train/1')\n",
    "val_dir = DATASET_DIR+'val/'\n",
    "val_data = os.listdir(DATASET_DIR+'val/1')"
   ]
  },
  {
   "cell_type": "code",
   "execution_count": 18,
   "metadata": {
    "scrolled": true
   },
   "outputs": [
    {
     "name": "stdout",
     "output_type": "stream",
     "text": [
      "_________________________________________________________________\n",
      "Layer (type)                 Output Shape              Param #   \n",
      "=================================================================\n",
      "input_2 (InputLayer)         (None, 192, 240, 6)       0         \n",
      "_________________________________________________________________\n",
      "batch_normalization_10 (Batc (None, 192, 240, 6)       24        \n",
      "_________________________________________________________________\n",
      "conv2d_10 (Conv2D)           (None, 192, 240, 64)      18880     \n",
      "_________________________________________________________________\n",
      "batch_normalization_11 (Batc (None, 192, 240, 64)      256       \n",
      "_________________________________________________________________\n",
      "activation_9 (Activation)    (None, 192, 240, 64)      0         \n",
      "_________________________________________________________________\n",
      "max_pooling2d_5 (MaxPooling2 (None, 96, 120, 64)       0         \n",
      "_________________________________________________________________\n",
      "conv2d_11 (Conv2D)           (None, 96, 120, 128)      401536    \n",
      "_________________________________________________________________\n",
      "batch_normalization_12 (Batc (None, 96, 120, 128)      512       \n",
      "_________________________________________________________________\n",
      "activation_10 (Activation)   (None, 96, 120, 128)      0         \n",
      "_________________________________________________________________\n",
      "max_pooling2d_6 (MaxPooling2 (None, 48, 60, 128)       0         \n",
      "_________________________________________________________________\n",
      "conv2d_12 (Conv2D)           (None, 48, 60, 256)       1605888   \n",
      "_________________________________________________________________\n",
      "batch_normalization_13 (Batc (None, 48, 60, 256)       1024      \n",
      "_________________________________________________________________\n",
      "activation_11 (Activation)   (None, 48, 60, 256)       0         \n",
      "_________________________________________________________________\n",
      "max_pooling2d_7 (MaxPooling2 (None, 24, 30, 256)       0         \n",
      "_________________________________________________________________\n",
      "conv2d_13 (Conv2D)           (None, 24, 30, 512)       6423040   \n",
      "_________________________________________________________________\n",
      "batch_normalization_14 (Batc (None, 24, 30, 512)       2048      \n",
      "_________________________________________________________________\n",
      "activation_12 (Activation)   (None, 24, 30, 512)       0         \n",
      "_________________________________________________________________\n",
      "max_pooling2d_8 (MaxPooling2 (None, 12, 15, 512)       0         \n",
      "_________________________________________________________________\n",
      "up_sampling2d_5 (UpSampling2 (None, 24, 30, 512)       0         \n",
      "_________________________________________________________________\n",
      "conv2d_14 (Conv2D)           (None, 24, 30, 512)       12845568  \n",
      "_________________________________________________________________\n",
      "batch_normalization_15 (Batc (None, 24, 30, 512)       2048      \n",
      "_________________________________________________________________\n",
      "activation_13 (Activation)   (None, 24, 30, 512)       0         \n",
      "_________________________________________________________________\n",
      "up_sampling2d_6 (UpSampling2 (None, 48, 60, 512)       0         \n",
      "_________________________________________________________________\n",
      "conv2d_15 (Conv2D)           (None, 48, 60, 256)       6422784   \n",
      "_________________________________________________________________\n",
      "batch_normalization_16 (Batc (None, 48, 60, 256)       1024      \n",
      "_________________________________________________________________\n",
      "activation_14 (Activation)   (None, 48, 60, 256)       0         \n",
      "_________________________________________________________________\n",
      "up_sampling2d_7 (UpSampling2 (None, 96, 120, 256)      0         \n",
      "_________________________________________________________________\n",
      "conv2d_16 (Conv2D)           (None, 96, 120, 128)      1605760   \n",
      "_________________________________________________________________\n",
      "batch_normalization_17 (Batc (None, 96, 120, 128)      512       \n",
      "_________________________________________________________________\n",
      "activation_15 (Activation)   (None, 96, 120, 128)      0         \n",
      "_________________________________________________________________\n",
      "up_sampling2d_8 (UpSampling2 (None, 192, 240, 128)     0         \n",
      "_________________________________________________________________\n",
      "conv2d_17 (Conv2D)           (None, 192, 240, 64)      401472    \n",
      "_________________________________________________________________\n",
      "batch_normalization_18 (Batc (None, 192, 240, 64)      256       \n",
      "_________________________________________________________________\n",
      "activation_16 (Activation)   (None, 192, 240, 64)      0         \n",
      "_________________________________________________________________\n",
      "conv2d_18 (Conv2D)           (None, 192, 240, 1)       3137      \n",
      "_________________________________________________________________\n",
      "reshape_2 (Reshape)          (None, 192, 240)          0         \n",
      "=================================================================\n",
      "Total params: 29,735,769\n",
      "Trainable params: 29,731,917\n",
      "Non-trainable params: 3,852\n",
      "_________________________________________________________________\n",
      "None\n"
     ]
    }
   ],
   "source": [
    "inputs = Input((192,240,6))\n",
    "bn0 = BatchNormalization()(inputs)\n",
    "\n",
    "conv1 = Conv2D(64, (7, 7), padding='same', kernel_regularizer=l2_reg(0.001))(bn0)\n",
    "bn1 = BatchNormalization()(conv1)\n",
    "ac1 = Activation('relu')(bn1)\n",
    "mp1 = MaxPooling2D(pool_size=(2, 2), strides=2)(ac1)\n",
    "\n",
    "conv2 = Conv2D(128, (7, 7), padding='same', kernel_regularizer=l2_reg(0.001))(mp1)\n",
    "bn2 = BatchNormalization()(conv2)\n",
    "ac2 = Activation('relu')(bn2)\n",
    "mp2 = MaxPooling2D(pool_size=(2, 2), strides=2)(ac2)\n",
    "\n",
    "conv3 = Conv2D(256, (7, 7), padding='same', kernel_regularizer=l2_reg(0.001))(mp2)\n",
    "bn3 = BatchNormalization()(conv3)\n",
    "ac3 = Activation('relu')(bn3)\n",
    "mp3 = MaxPooling2D(pool_size=(2, 2), strides=2)(ac3)\n",
    "\n",
    "conv4 = Conv2D(512, (7, 7), padding='same', kernel_regularizer=l2_reg(0.001))(mp3)\n",
    "bn4 = BatchNormalization()(conv4)\n",
    "ac4 = Activation('relu')(bn4)\n",
    "mp4 = MaxPooling2D(pool_size=(2, 2), strides=2)(ac4)\n",
    "\n",
    "up5 = UpSampling2D((2, 2))(mp4)\n",
    "conv5 = Conv2D(512, (7, 7), padding='same', kernel_regularizer=l2_reg(0.001))(up5)\n",
    "bn5 = BatchNormalization()(conv5)\n",
    "ac5 = Activation('relu')(bn5)\n",
    "\n",
    "up6 = UpSampling2D((2, 2))(ac5)\n",
    "conv6 = Conv2D(256, (7, 7), padding='same', kernel_regularizer=l2_reg(0.001))(up6)\n",
    "bn6 = BatchNormalization()(conv6)\n",
    "ac6 = Activation('relu')(bn6)\n",
    "\n",
    "up7 = UpSampling2D((2, 2))(ac6)\n",
    "conv7 = Conv2D(128, (7, 7), padding='same', kernel_regularizer=l2_reg(0.001))(up7)\n",
    "bn7 = BatchNormalization()(conv7)\n",
    "ac7 = Activation('relu')(bn7)\n",
    "\n",
    "up8 = UpSampling2D((2, 2))(ac7)\n",
    "conv8 = Conv2D(64, (7, 7), padding='same', kernel_regularizer=l2_reg(0.001))(up8)\n",
    "bn8 = BatchNormalization()(conv8)\n",
    "ac8 = Activation('relu')(bn8)\n",
    "\n",
    "conv9 = Conv2D(1, (7, 7), activation='sigmoid', padding='same', kernel_regularizer=l2_reg(0.001))(ac8)\n",
    "\n",
    "rh1 = Reshape((192, 240))(conv9)\n",
    "#rh1 = Flatten()(conv9)\n",
    "\n",
    "model = Model(inputs=inputs, outputs=rh1)\n",
    "print(model.summary())"
   ]
  },
  {
   "cell_type": "code",
   "execution_count": 21,
   "metadata": {},
   "outputs": [
    {
     "name": "stdout",
     "output_type": "stream",
     "text": [
      "Epoch 0\n",
      "Epoch 1/1\n",
      " 60/400 [===>..........................] - ETA: 2:32 - loss: 2.0146 - jaccard_coef_int: 0.5900 - iou_metric: 0.5900 - precision: 0.7175 - recall: 0.7838 - f1: nan"
     ]
    },
    {
     "ename": "KeyboardInterrupt",
     "evalue": "",
     "output_type": "error",
     "traceback": [
      "\u001b[0;31m\u001b[0m",
      "\u001b[0;31mKeyboardInterrupt\u001b[0mTraceback (most recent call last)",
      "\u001b[0;32m<ipython-input-21-0dfe0ce53c46>\u001b[0m in \u001b[0;36m<module>\u001b[0;34m()\u001b[0m\n\u001b[1;32m     18\u001b[0m                             \u001b[0msteps_per_epoch\u001b[0m \u001b[0;34m=\u001b[0m \u001b[0;36m400\u001b[0m\u001b[0;34m,\u001b[0m\u001b[0;34m\u001b[0m\u001b[0m\n\u001b[1;32m     19\u001b[0m                             \u001b[0mvalidation_data\u001b[0m \u001b[0;34m=\u001b[0m \u001b[0mvalidation_generator\u001b[0m\u001b[0;34m,\u001b[0m\u001b[0;34m\u001b[0m\u001b[0m\n\u001b[0;32m---> 20\u001b[0;31m                             validation_steps = int(len(val_data)//batch_size), verbose = True,epochs= 1)\n\u001b[0m\u001b[1;32m     21\u001b[0m     \u001b[0mmetrics_dict\u001b[0m \u001b[0;34m=\u001b[0m \u001b[0mfit_results\u001b[0m\u001b[0;34m.\u001b[0m\u001b[0mhistory\u001b[0m\u001b[0;34m\u001b[0m\u001b[0m\n\u001b[1;32m     22\u001b[0m     \u001b[0;32mif\u001b[0m \u001b[0mmetrics_dict\u001b[0m\u001b[0;34m[\u001b[0m\u001b[0;34m'val_iou_metric'\u001b[0m\u001b[0;34m]\u001b[0m\u001b[0;34m[\u001b[0m\u001b[0;36m0\u001b[0m\u001b[0;34m]\u001b[0m \u001b[0;34m>\u001b[0m \u001b[0mprev_val_iou\u001b[0m\u001b[0;34m:\u001b[0m\u001b[0;34m\u001b[0m\u001b[0m\n",
      "\u001b[0;32m/opt/anaconda/anaconda3/lib/python3.6/site-packages/keras/legacy/interfaces.py\u001b[0m in \u001b[0;36mwrapper\u001b[0;34m(*args, **kwargs)\u001b[0m\n\u001b[1;32m     89\u001b[0m                 warnings.warn('Update your `' + object_name +\n\u001b[1;32m     90\u001b[0m                               '` call to the Keras 2 API: ' + signature, stacklevel=2)\n\u001b[0;32m---> 91\u001b[0;31m             \u001b[0;32mreturn\u001b[0m \u001b[0mfunc\u001b[0m\u001b[0;34m(\u001b[0m\u001b[0;34m*\u001b[0m\u001b[0margs\u001b[0m\u001b[0;34m,\u001b[0m \u001b[0;34m**\u001b[0m\u001b[0mkwargs\u001b[0m\u001b[0;34m)\u001b[0m\u001b[0;34m\u001b[0m\u001b[0m\n\u001b[0m\u001b[1;32m     92\u001b[0m         \u001b[0mwrapper\u001b[0m\u001b[0;34m.\u001b[0m\u001b[0m_original_function\u001b[0m \u001b[0;34m=\u001b[0m \u001b[0mfunc\u001b[0m\u001b[0;34m\u001b[0m\u001b[0m\n\u001b[1;32m     93\u001b[0m         \u001b[0;32mreturn\u001b[0m \u001b[0mwrapper\u001b[0m\u001b[0;34m\u001b[0m\u001b[0m\n",
      "\u001b[0;32m/opt/anaconda/anaconda3/lib/python3.6/site-packages/keras/engine/training.py\u001b[0m in \u001b[0;36mfit_generator\u001b[0;34m(self, generator, steps_per_epoch, epochs, verbose, callbacks, validation_data, validation_steps, class_weight, max_queue_size, workers, use_multiprocessing, shuffle, initial_epoch)\u001b[0m\n\u001b[1;32m   2175\u001b[0m                     outs = self.train_on_batch(x, y,\n\u001b[1;32m   2176\u001b[0m                                                \u001b[0msample_weight\u001b[0m\u001b[0;34m=\u001b[0m\u001b[0msample_weight\u001b[0m\u001b[0;34m,\u001b[0m\u001b[0;34m\u001b[0m\u001b[0m\n\u001b[0;32m-> 2177\u001b[0;31m                                                class_weight=class_weight)\n\u001b[0m\u001b[1;32m   2178\u001b[0m \u001b[0;34m\u001b[0m\u001b[0m\n\u001b[1;32m   2179\u001b[0m                     \u001b[0;32mif\u001b[0m \u001b[0;32mnot\u001b[0m \u001b[0misinstance\u001b[0m\u001b[0;34m(\u001b[0m\u001b[0mouts\u001b[0m\u001b[0;34m,\u001b[0m \u001b[0mlist\u001b[0m\u001b[0;34m)\u001b[0m\u001b[0;34m:\u001b[0m\u001b[0;34m\u001b[0m\u001b[0m\n",
      "\u001b[0;32m/opt/anaconda/anaconda3/lib/python3.6/site-packages/keras/engine/training.py\u001b[0m in \u001b[0;36mtrain_on_batch\u001b[0;34m(self, x, y, sample_weight, class_weight)\u001b[0m\n\u001b[1;32m   1847\u001b[0m             \u001b[0mins\u001b[0m \u001b[0;34m=\u001b[0m \u001b[0mx\u001b[0m \u001b[0;34m+\u001b[0m \u001b[0my\u001b[0m \u001b[0;34m+\u001b[0m \u001b[0msample_weights\u001b[0m\u001b[0;34m\u001b[0m\u001b[0m\n\u001b[1;32m   1848\u001b[0m         \u001b[0mself\u001b[0m\u001b[0;34m.\u001b[0m\u001b[0m_make_train_function\u001b[0m\u001b[0;34m(\u001b[0m\u001b[0;34m)\u001b[0m\u001b[0;34m\u001b[0m\u001b[0m\n\u001b[0;32m-> 1849\u001b[0;31m         \u001b[0moutputs\u001b[0m \u001b[0;34m=\u001b[0m \u001b[0mself\u001b[0m\u001b[0;34m.\u001b[0m\u001b[0mtrain_function\u001b[0m\u001b[0;34m(\u001b[0m\u001b[0mins\u001b[0m\u001b[0;34m)\u001b[0m\u001b[0;34m\u001b[0m\u001b[0m\n\u001b[0m\u001b[1;32m   1850\u001b[0m         \u001b[0;32mif\u001b[0m \u001b[0mlen\u001b[0m\u001b[0;34m(\u001b[0m\u001b[0moutputs\u001b[0m\u001b[0;34m)\u001b[0m \u001b[0;34m==\u001b[0m \u001b[0;36m1\u001b[0m\u001b[0;34m:\u001b[0m\u001b[0;34m\u001b[0m\u001b[0m\n\u001b[1;32m   1851\u001b[0m             \u001b[0;32mreturn\u001b[0m \u001b[0moutputs\u001b[0m\u001b[0;34m[\u001b[0m\u001b[0;36m0\u001b[0m\u001b[0;34m]\u001b[0m\u001b[0;34m\u001b[0m\u001b[0m\n",
      "\u001b[0;32m/opt/anaconda/anaconda3/lib/python3.6/site-packages/keras/backend/tensorflow_backend.py\u001b[0m in \u001b[0;36m__call__\u001b[0;34m(self, inputs)\u001b[0m\n\u001b[1;32m   2473\u001b[0m         \u001b[0msession\u001b[0m \u001b[0;34m=\u001b[0m \u001b[0mget_session\u001b[0m\u001b[0;34m(\u001b[0m\u001b[0;34m)\u001b[0m\u001b[0;34m\u001b[0m\u001b[0m\n\u001b[1;32m   2474\u001b[0m         updated = session.run(fetches=fetches, feed_dict=feed_dict,\n\u001b[0;32m-> 2475\u001b[0;31m                               **self.session_kwargs)\n\u001b[0m\u001b[1;32m   2476\u001b[0m         \u001b[0;32mreturn\u001b[0m \u001b[0mupdated\u001b[0m\u001b[0;34m[\u001b[0m\u001b[0;34m:\u001b[0m\u001b[0mlen\u001b[0m\u001b[0;34m(\u001b[0m\u001b[0mself\u001b[0m\u001b[0;34m.\u001b[0m\u001b[0moutputs\u001b[0m\u001b[0;34m)\u001b[0m\u001b[0;34m]\u001b[0m\u001b[0;34m\u001b[0m\u001b[0m\n\u001b[1;32m   2477\u001b[0m \u001b[0;34m\u001b[0m\u001b[0m\n",
      "\u001b[0;32m/opt/anaconda/anaconda3/lib/python3.6/site-packages/tensorflow/python/client/session.py\u001b[0m in \u001b[0;36mrun\u001b[0;34m(self, fetches, feed_dict, options, run_metadata)\u001b[0m\n\u001b[1;32m    893\u001b[0m     \u001b[0;32mtry\u001b[0m\u001b[0;34m:\u001b[0m\u001b[0;34m\u001b[0m\u001b[0m\n\u001b[1;32m    894\u001b[0m       result = self._run(None, fetches, feed_dict, options_ptr,\n\u001b[0;32m--> 895\u001b[0;31m                          run_metadata_ptr)\n\u001b[0m\u001b[1;32m    896\u001b[0m       \u001b[0;32mif\u001b[0m \u001b[0mrun_metadata\u001b[0m\u001b[0;34m:\u001b[0m\u001b[0;34m\u001b[0m\u001b[0m\n\u001b[1;32m    897\u001b[0m         \u001b[0mproto_data\u001b[0m \u001b[0;34m=\u001b[0m \u001b[0mtf_session\u001b[0m\u001b[0;34m.\u001b[0m\u001b[0mTF_GetBuffer\u001b[0m\u001b[0;34m(\u001b[0m\u001b[0mrun_metadata_ptr\u001b[0m\u001b[0;34m)\u001b[0m\u001b[0;34m\u001b[0m\u001b[0m\n",
      "\u001b[0;32m/opt/anaconda/anaconda3/lib/python3.6/site-packages/tensorflow/python/client/session.py\u001b[0m in \u001b[0;36m_run\u001b[0;34m(self, handle, fetches, feed_dict, options, run_metadata)\u001b[0m\n\u001b[1;32m   1126\u001b[0m     \u001b[0;32mif\u001b[0m \u001b[0mfinal_fetches\u001b[0m \u001b[0;32mor\u001b[0m \u001b[0mfinal_targets\u001b[0m \u001b[0;32mor\u001b[0m \u001b[0;34m(\u001b[0m\u001b[0mhandle\u001b[0m \u001b[0;32mand\u001b[0m \u001b[0mfeed_dict_tensor\u001b[0m\u001b[0;34m)\u001b[0m\u001b[0;34m:\u001b[0m\u001b[0;34m\u001b[0m\u001b[0m\n\u001b[1;32m   1127\u001b[0m       results = self._do_run(handle, final_targets, final_fetches,\n\u001b[0;32m-> 1128\u001b[0;31m                              feed_dict_tensor, options, run_metadata)\n\u001b[0m\u001b[1;32m   1129\u001b[0m     \u001b[0;32melse\u001b[0m\u001b[0;34m:\u001b[0m\u001b[0;34m\u001b[0m\u001b[0m\n\u001b[1;32m   1130\u001b[0m       \u001b[0mresults\u001b[0m \u001b[0;34m=\u001b[0m \u001b[0;34m[\u001b[0m\u001b[0;34m]\u001b[0m\u001b[0;34m\u001b[0m\u001b[0m\n",
      "\u001b[0;32m/opt/anaconda/anaconda3/lib/python3.6/site-packages/tensorflow/python/client/session.py\u001b[0m in \u001b[0;36m_do_run\u001b[0;34m(self, handle, target_list, fetch_list, feed_dict, options, run_metadata)\u001b[0m\n\u001b[1;32m   1342\u001b[0m     \u001b[0;32mif\u001b[0m \u001b[0mhandle\u001b[0m \u001b[0;32mis\u001b[0m \u001b[0;32mNone\u001b[0m\u001b[0;34m:\u001b[0m\u001b[0;34m\u001b[0m\u001b[0m\n\u001b[1;32m   1343\u001b[0m       return self._do_call(_run_fn, self._session, feeds, fetches, targets,\n\u001b[0;32m-> 1344\u001b[0;31m                            options, run_metadata)\n\u001b[0m\u001b[1;32m   1345\u001b[0m     \u001b[0;32melse\u001b[0m\u001b[0;34m:\u001b[0m\u001b[0;34m\u001b[0m\u001b[0m\n\u001b[1;32m   1346\u001b[0m       \u001b[0;32mreturn\u001b[0m \u001b[0mself\u001b[0m\u001b[0;34m.\u001b[0m\u001b[0m_do_call\u001b[0m\u001b[0;34m(\u001b[0m\u001b[0m_prun_fn\u001b[0m\u001b[0;34m,\u001b[0m \u001b[0mself\u001b[0m\u001b[0;34m.\u001b[0m\u001b[0m_session\u001b[0m\u001b[0;34m,\u001b[0m \u001b[0mhandle\u001b[0m\u001b[0;34m,\u001b[0m \u001b[0mfeeds\u001b[0m\u001b[0;34m,\u001b[0m \u001b[0mfetches\u001b[0m\u001b[0;34m)\u001b[0m\u001b[0;34m\u001b[0m\u001b[0m\n",
      "\u001b[0;32m/opt/anaconda/anaconda3/lib/python3.6/site-packages/tensorflow/python/client/session.py\u001b[0m in \u001b[0;36m_do_call\u001b[0;34m(self, fn, *args)\u001b[0m\n\u001b[1;32m   1348\u001b[0m   \u001b[0;32mdef\u001b[0m \u001b[0m_do_call\u001b[0m\u001b[0;34m(\u001b[0m\u001b[0mself\u001b[0m\u001b[0;34m,\u001b[0m \u001b[0mfn\u001b[0m\u001b[0;34m,\u001b[0m \u001b[0;34m*\u001b[0m\u001b[0margs\u001b[0m\u001b[0;34m)\u001b[0m\u001b[0;34m:\u001b[0m\u001b[0;34m\u001b[0m\u001b[0m\n\u001b[1;32m   1349\u001b[0m     \u001b[0;32mtry\u001b[0m\u001b[0;34m:\u001b[0m\u001b[0;34m\u001b[0m\u001b[0m\n\u001b[0;32m-> 1350\u001b[0;31m       \u001b[0;32mreturn\u001b[0m \u001b[0mfn\u001b[0m\u001b[0;34m(\u001b[0m\u001b[0;34m*\u001b[0m\u001b[0margs\u001b[0m\u001b[0;34m)\u001b[0m\u001b[0;34m\u001b[0m\u001b[0m\n\u001b[0m\u001b[1;32m   1351\u001b[0m     \u001b[0;32mexcept\u001b[0m \u001b[0merrors\u001b[0m\u001b[0;34m.\u001b[0m\u001b[0mOpError\u001b[0m \u001b[0;32mas\u001b[0m \u001b[0me\u001b[0m\u001b[0;34m:\u001b[0m\u001b[0;34m\u001b[0m\u001b[0m\n\u001b[1;32m   1352\u001b[0m       \u001b[0mmessage\u001b[0m \u001b[0;34m=\u001b[0m \u001b[0mcompat\u001b[0m\u001b[0;34m.\u001b[0m\u001b[0mas_text\u001b[0m\u001b[0;34m(\u001b[0m\u001b[0me\u001b[0m\u001b[0;34m.\u001b[0m\u001b[0mmessage\u001b[0m\u001b[0;34m)\u001b[0m\u001b[0;34m\u001b[0m\u001b[0m\n",
      "\u001b[0;32m/opt/anaconda/anaconda3/lib/python3.6/site-packages/tensorflow/python/client/session.py\u001b[0m in \u001b[0;36m_run_fn\u001b[0;34m(session, feed_dict, fetch_list, target_list, options, run_metadata)\u001b[0m\n\u001b[1;32m   1327\u001b[0m           return tf_session.TF_Run(session, options,\n\u001b[1;32m   1328\u001b[0m                                    \u001b[0mfeed_dict\u001b[0m\u001b[0;34m,\u001b[0m \u001b[0mfetch_list\u001b[0m\u001b[0;34m,\u001b[0m \u001b[0mtarget_list\u001b[0m\u001b[0;34m,\u001b[0m\u001b[0;34m\u001b[0m\u001b[0m\n\u001b[0;32m-> 1329\u001b[0;31m                                    status, run_metadata)\n\u001b[0m\u001b[1;32m   1330\u001b[0m \u001b[0;34m\u001b[0m\u001b[0m\n\u001b[1;32m   1331\u001b[0m     \u001b[0;32mdef\u001b[0m \u001b[0m_prun_fn\u001b[0m\u001b[0;34m(\u001b[0m\u001b[0msession\u001b[0m\u001b[0;34m,\u001b[0m \u001b[0mhandle\u001b[0m\u001b[0;34m,\u001b[0m \u001b[0mfeed_dict\u001b[0m\u001b[0;34m,\u001b[0m \u001b[0mfetch_list\u001b[0m\u001b[0;34m)\u001b[0m\u001b[0;34m:\u001b[0m\u001b[0;34m\u001b[0m\u001b[0m\n",
      "\u001b[0;31mKeyboardInterrupt\u001b[0m: "
     ]
    }
   ],
   "source": [
    "EPOCHS = 20\n",
    "epoch_num = EPOCHS\n",
    "prev_val_iou=0\n",
    "learning_rate = 0.01\n",
    "prev_weghts_caption = ''\n",
    "prev_epoch = 0\n",
    "\n",
    "while epoch_num>0:\n",
    "    print('Epoch {}'.format(str(EPOCHS-epoch_num)))\n",
    "    epoch_num -= 1\n",
    "    optimizer = keras.optimizers.SGD(lr=learning_rate)\n",
    "    model.compile(loss=jaccard_loss, optimizer=optimizer, metrics=[jaccard_coef_int, iou_metric, precision, recall, f1])\n",
    "    batch_size = 5\n",
    "    training_generator = BatchGeneratorStatic(batch_size = batch_size).generate(train_dir, train_data)\n",
    "    validation_generator = BatchGeneratorStatic(batch_size = batch_size).generate(val_dir, val_data)\n",
    "\n",
    "    fit_results = model.fit_generator(generator = training_generator,\n",
    "                            steps_per_epoch = 400,\n",
    "                            validation_data = validation_generator,\n",
    "                            validation_steps = int(len(val_data)//batch_size), verbose = True,epochs= 1)\n",
    "    metrics_dict = fit_results.history\n",
    "    if metrics_dict['val_iou_metric'][0] > prev_val_iou:\n",
    "        prev_val_iou = metrics_dict['val_iou_metric'][0]\n",
    "        prev_weghts_caption = 'version_2_1/weights/aicd_epoch{}-{}_weights_lr_{}_train{}iou_val{}iou.4f'.format(str(EPOCHS - epoch_num), str(prev_epoch), learning_rate, round(metrics_dict['iou_metric'][0], 4),\n",
    "                                                                                   round(metrics_dict['val_iou_metric'][0], 4))\n",
    "        model.save_weights(prev_weghts_caption)\n",
    "        prev_epoch = EPOCHS - epoch_num\n",
    "    else:\n",
    "        learning_rate /= 2\n",
    "        model.load_weights(prev_weghts_caption)"
   ]
  },
  {
   "cell_type": "code",
   "execution_count": 20,
   "metadata": {
    "collapsed": true
   },
   "outputs": [],
   "source": [
    "model.save(\"version_2_1/models/model.h5\")"
   ]
  },
  {
   "cell_type": "code",
   "execution_count": 43,
   "metadata": {},
   "outputs": [
    {
     "data": {
      "text/plain": [
       "{'f1': [nan],\n",
       " 'iou_metric': [0.046460526836390202],\n",
       " 'jaccard_coef_int': [0.04646043696266134],\n",
       " 'loss': [2.6593033772706987],\n",
       " 'precision': [0.09942082928730088],\n",
       " 'recall': [0.63072432607848894],\n",
       " 'val_f1': [nan],\n",
       " 'val_iou_metric': [0.11832720245674615],\n",
       " 'val_jaccard_coef_int': [0.11832706198015092],\n",
       " 'val_loss': [2.5753893789492155],\n",
       " 'val_precision': [0.19028585957697175],\n",
       " 'val_recall': [0.63354526431250724]}"
      ]
     },
     "execution_count": 43,
     "metadata": {},
     "output_type": "execute_result"
    }
   ],
   "source": [
    "fit_results.history"
   ]
  },
  {
   "cell_type": "code",
   "execution_count": 34,
   "metadata": {
    "collapsed": true
   },
   "outputs": [],
   "source": [
    "model.save_weights('weights/aicd-7-6weights_1ep_00005lr_tr06916iou_val07026iou.4f')"
   ]
  },
  {
   "cell_type": "code",
   "execution_count": 23,
   "metadata": {},
   "outputs": [],
   "source": [
    "model.load_weights('version_2_1/weights/aicd_epoch20-19_weights_lr_0.0003125_train0.7492iou_val0.7515iou.4f')"
   ]
  },
  {
   "cell_type": "code",
   "execution_count": 10,
   "metadata": {
    "collapsed": true
   },
   "outputs": [],
   "source": [
    "# LOADING DATASETS\n",
    "train_dir = DATASET_DIR+'train/'\n",
    "train_data = os.listdir(DATASET_DIR+'train/1')\n",
    "val_dir = DATASET_DIR+'val/'\n",
    "val_data = os.listdir(DATASET_DIR+'val/1')\n",
    "test_dir = DATASET_DIR+'test/'\n",
    "test_data = os.listdir(DATASET_DIR+'test/1')"
   ]
  },
  {
   "cell_type": "code",
   "execution_count": 13,
   "metadata": {
    "collapsed": true
   },
   "outputs": [],
   "source": [
    "mode='test'\n",
    "all_img=False\n",
    "\n",
    "if mode=='val':\n",
    "    data_dir=val_dir\n",
    "    data=val_data\n",
    "elif mode=='train':\n",
    "    data_dir=train_dir\n",
    "    data=train_data\n",
    "elif mode=='test':\n",
    "    data_dir=test_dir\n",
    "    data=test_data\n",
    "    \n",
    "len_data=len(data)\n",
    "if not all_img:\n",
    "    len_data = 100\n",
    "\n",
    "X = np.empty((len_data, 192, 240, 6))\n",
    "y = np.empty((len_data, 192, 240))\n",
    "\n",
    "# Generate data\n",
    "for i in range(len_data):\n",
    "    # Store volume\n",
    "    img_1 = cv2.imread(data_dir+'1/'+data[i])\n",
    "    img_2 = cv2.imread(data_dir+'2/'+data[i])\n",
    "    img_gt = cv2.imread(data_dir+'gt/'+data[i],0)\n",
    "\n",
    "    #print(img.shape)\n",
    "    X[i, :, :, :3] = img_1/255\n",
    "    X[i, :, :, 3:] = img_2/255\n",
    "\n",
    "    y[i, :, :]=img_gt/255\n"
   ]
  },
  {
   "cell_type": "code",
   "execution_count": 26,
   "metadata": {},
   "outputs": [
    {
     "data": {
      "text/plain": [
       "<matplotlib.image.AxesImage at 0x7f8e8f445d68>"
      ]
     },
     "execution_count": 26,
     "metadata": {},
     "output_type": "execute_result"
    },
    {
     "data": {
      "image/png": "[encoded data removed]",
      "text/plain": [
       "<matplotlib.figure.Figure at 0x7f8e8f49f9e8>"
      ]
     },
     "metadata": {},
     "output_type": "display_data"
    }
   ],
   "source": [
    "plt.imshow(y[0,:,:])"
   ]
  },
  {
   "cell_type": "code",
   "execution_count": 18,
   "metadata": {},
   "outputs": [
    {
     "name": "stdout",
     "output_type": "stream",
     "text": [
      "6.26 s ± 294 ms per loop (mean ± std. dev. of 7 runs, 1 loop each)\n"
     ]
    }
   ],
   "source": [
    "%timeit y_pred = model.predict(X)"
   ]
  },
  {
   "cell_type": "code",
   "execution_count": 44,
   "metadata": {},
   "outputs": [
    {
     "name": "stderr",
     "output_type": "stream",
     "text": [
      "100%|██████████| 20/20 [00:04<00:00,  4.01it/s]\n"
     ]
    }
   ],
   "source": [
    "batch_size = 5\n",
    "\n",
    "y_pred = np.empty((len(data), 192, 240))\n",
    "\n",
    "for i in tqdm(range(0, len(data), batch_size)):\n",
    "    y_pred[i:i+batch_size,:,:] = model.predict(X[i:i+batch_size,:,:])"
   ]
  },
  {
   "cell_type": "code",
   "execution_count": 23,
   "metadata": {
    "scrolled": false
   },
   "outputs": [
    {
     "data": {
      "text/plain": [
       "<matplotlib.image.AxesImage at 0x7f36cc6f42e8>"
      ]
     },
     "execution_count": 23,
     "metadata": {},
     "output_type": "execute_result"
    },
    {
     "data": {
      "image/png": "[encoded data removed]",
      "text/plain": [
       "<matplotlib.figure.Figure at 0x7f36cc6184e0>"
      ]
     },
     "metadata": {},
     "output_type": "display_data"
    }
   ],
   "source": [
    "plt.imshow(y_pred[0,:,:])"
   ]
  },
  {
   "cell_type": "code",
   "execution_count": 24,
   "metadata": {
    "scrolled": true
   },
   "outputs": [
    {
     "name": "stderr",
     "output_type": "stream",
     "text": [
      "  0%|          | 0/5 [00:00<?, ?it/s]\n",
      "  0%|          | 0/5 [00:00<?, ?it/s]\u001b[A\n",
      " 20%|██        | 1/5 [00:02<00:08,  2.12s/it]\u001b[A\n",
      " 40%|████      | 2/5 [00:02<00:04,  1.47s/it]\u001b[A\n",
      " 60%|██████    | 3/5 [00:03<00:02,  1.27s/it]\u001b[A\n",
      " 80%|████████  | 4/5 [00:04<00:01,  1.16s/it]\u001b[A\n",
      "100%|██████████| 5/5 [00:05<00:00,  1.10s/it]\u001b[A\n",
      " 20%|██        | 1/5 [00:05<00:22,  5.50s/it]\n",
      "  0%|          | 0/5 [00:00<?, ?it/s]\u001b[A\n",
      " 20%|██        | 1/5 [00:00<00:03,  1.19it/s]\u001b[A\n",
      " 40%|████      | 2/5 [00:01<00:02,  1.19it/s]\u001b[A\n",
      " 60%|██████    | 3/5 [00:02<00:01,  1.19it/s]\u001b[A\n",
      " 80%|████████  | 4/5 [00:03<00:00,  1.19it/s]\u001b[A\n",
      "100%|██████████| 5/5 [00:04<00:00,  1.20it/s]\u001b[A\n",
      " 40%|████      | 2/5 [00:09<00:14,  4.84s/it]\n",
      "  0%|          | 0/5 [00:00<?, ?it/s]\u001b[A\n",
      " 20%|██        | 1/5 [00:00<00:03,  1.22it/s]\u001b[A\n",
      " 40%|████      | 2/5 [00:01<00:02,  1.21it/s]\u001b[A\n",
      " 60%|██████    | 3/5 [00:02<00:01,  1.21it/s]\u001b[A\n",
      " 80%|████████  | 4/5 [00:03<00:00,  1.20it/s]\u001b[A\n",
      "100%|██████████| 5/5 [00:04<00:00,  1.20it/s]\u001b[A\n",
      " 60%|██████    | 3/5 [00:13<00:09,  4.62s/it]\n",
      "  0%|          | 0/5 [00:00<?, ?it/s]\u001b[A\n",
      " 20%|██        | 1/5 [00:00<00:03,  1.19it/s]\u001b[A\n",
      " 40%|████      | 2/5 [00:01<00:02,  1.20it/s]\u001b[A\n",
      " 60%|██████    | 3/5 [00:02<00:01,  1.21it/s]\u001b[A\n",
      " 80%|████████  | 4/5 [00:03<00:00,  1.22it/s]\u001b[A\n",
      "100%|██████████| 5/5 [00:04<00:00,  1.22it/s]\u001b[A\n",
      " 80%|████████  | 4/5 [00:17<00:04,  4.49s/it]\n",
      "  0%|          | 0/5 [00:00<?, ?it/s]\u001b[A\n",
      " 20%|██        | 1/5 [00:00<00:03,  1.22it/s]\u001b[A\n",
      " 40%|████      | 2/5 [00:01<00:02,  1.20it/s]\u001b[A\n",
      " 60%|██████    | 3/5 [00:02<00:01,  1.20it/s]\u001b[A\n",
      " 80%|████████  | 4/5 [00:03<00:00,  1.20it/s]\u001b[A\n",
      "100%|██████████| 5/5 [00:04<00:00,  1.20it/s]\u001b[A\n",
      "100%|██████████| 5/5 [00:22<00:00,  4.43s/it]\n"
     ]
    }
   ],
   "source": [
    "#predict for test, for whole images\n",
    "dataset_dir = '../data/AICDDataset/'\n",
    "imgs_pred = []\n",
    "imgs_gt = []\n",
    "img_names = []\n",
    "for scene_id in tqdm(range(95,100)):\n",
    "    for view in tqdm(range(5)):\n",
    "        img_path = 'Scene{}_View{}'.format(pad_int_zeros(scene_id, 4), pad_int_zeros(view, 2))\n",
    "        img, img_gt = split_image(dataset_dir, img_path, model)\n",
    "        imgs_pred.append(img)\n",
    "        imgs_gt.append(img_gt)\n",
    "        img_names.append(img_path)"
   ]
  },
  {
   "cell_type": "code",
   "execution_count": 26,
   "metadata": {},
   "outputs": [],
   "source": [
    "# write predicted to images, include gt\n",
    "RESULT_DIR='version_2_1/result/'\n",
    "assert len(imgs_pred) == len(imgs_gt)\n",
    "assert len(imgs_pred) == len(img_names)\n",
    "for i in range(len(imgs_pred)):\n",
    "    plt.imsave(RESULT_DIR+img_names[i]+'_gt.png', imgs_gt[i])\n",
    "    plt.imsave(RESULT_DIR+img_names[i]+'_pred.png', imgs_pred[i])"
   ]
  },
  {
   "cell_type": "code",
   "execution_count": 89,
   "metadata": {},
   "outputs": [
    {
     "data": {
      "text/plain": [
       "600"
      ]
     },
     "execution_count": 89,
     "metadata": {},
     "output_type": "execute_result"
    }
   ],
   "source": [
    "imgs_gt[0].shape[0]"
   ]
  },
  {
   "cell_type": "code",
   "execution_count": 27,
   "metadata": {},
   "outputs": [
    {
     "name": "stdout",
     "output_type": "stream",
     "text": [
      "0.663913392141\n",
      "0.717231222386\n",
      "0.899304801217\n",
      "0.798014362138\n",
      "------------------------------------\n"
     ]
    }
   ],
   "source": [
    "assert len(imgs_pred) == len(imgs_gt)\n",
    "y_gt = np.empty((len(imgs_gt), imgs_gt[0].shape[0], imgs_gt[0].shape[1]))\n",
    "y_pred = np.empty((len(imgs_pred), imgs_pred[0].shape[0], imgs_pred[0].shape[1]))\n",
    "for i in range(len(imgs_pred)):\n",
    "    y_gt[i, :, :] = imgs_gt[i]/255\n",
    "    y_pred[i, :, :] = imgs_pred[i]\n",
    "    \n",
    "print(np_jaccard_coef(y_pred, y_gt))\n",
    "print(np_precision(y_pred, y_gt))\n",
    "print(np_recall(y_pred,y_gt))\n",
    "print(np_f1(y_pred,y_gt))\n",
    "print('------------------------------------')"
   ]
  },
  {
   "cell_type": "code",
   "execution_count": 22,
   "metadata": {
    "collapsed": true
   },
   "outputs": [],
   "source": [
    "img_=img.reshape(224, 1024, 1)\n",
    "img_gt_=img_gt.reshape(224, 1024, 1)"
   ]
  },
  {
   "cell_type": "code",
   "execution_count": 44,
   "metadata": {},
   "outputs": [
    {
     "name": "stdout",
     "output_type": "stream",
     "text": [
      "0.700650388995\n",
      "0.853662740592\n",
      "0.798173515982\n",
      "0.824986118823\n"
     ]
    }
   ],
   "source": [
    "print(np_jaccard_coef(y_pred , y))\n",
    "print(np_precision(y_pred ,y))\n",
    "print(np_recall(y_pred ,y))\n",
    "print(np_f1(y_pred ,y))"
   ]
  },
  {
   "cell_type": "code",
   "execution_count": 95,
   "metadata": {},
   "outputs": [
    {
     "data": {
      "text/plain": [
       "255.0"
      ]
     },
     "execution_count": 95,
     "metadata": {},
     "output_type": "execute_result"
    }
   ],
   "source": [
    "np.max(y_gt[0,:,:])"
   ]
  },
  {
   "cell_type": "code",
   "execution_count": 59,
   "metadata": {
    "collapsed": true
   },
   "outputs": [],
   "source": [
    "fpr, tpr, thresholds = roc_curve(y.reshape(-1), y_pred.reshape(-1))"
   ]
  },
  {
   "cell_type": "code",
   "execution_count": 60,
   "metadata": {},
   "outputs": [
    {
     "data": {
      "text/plain": [
       "0.96270553848825235"
      ]
     },
     "execution_count": 60,
     "metadata": {},
     "output_type": "execute_result"
    }
   ],
   "source": [
    "auc(fpr, tpr)"
   ]
  },
  {
   "cell_type": "code",
   "execution_count": 62,
   "metadata": {},
   "outputs": [
    {
     "data": {
      "image/png": "[encoded data removed]",
      "text/plain": [
       "<matplotlib.figure.Figure at 0x7f3ca0e9cda0>"
      ]
     },
     "metadata": {},
     "output_type": "display_data"
    }
   ],
   "source": [
    "plt.plot(fpr, tpr, color='darkorange',\n",
    "         label='ROC curve (area = %0.2f)' % auc(fpr, tpr))\n",
    "plt.xlabel('False Positive Rate')\n",
    "plt.ylabel('True Positive Rate')\n",
    "plt.title('Receiver operating characteristic curve')\n",
    "plt.legend(loc=\"lower right\")\n",
    "plt.show()"
   ]
  },
  {
   "cell_type": "code",
   "execution_count": 86,
   "metadata": {
    "collapsed": true
   },
   "outputs": [],
   "source": [
    "model.save(\"version_2/models/model.h5\")"
   ]
  },
  {
   "cell_type": "code",
   "execution_count": 15,
   "metadata": {},
   "outputs": [
    {
     "ename": "ValueError",
     "evalue": "Unknown loss function:jaccard_loss",
     "output_type": "error",
     "traceback": [
      "\u001b[0;31m\u001b[0m",
      "\u001b[0;31mValueError\u001b[0mTraceback (most recent call last)",
      "\u001b[0;32m<ipython-input-15-d7836b468535>\u001b[0m in \u001b[0;36m<module>\u001b[0;34m()\u001b[0m\n\u001b[0;32m----> 1\u001b[0;31m \u001b[0mmodel\u001b[0m \u001b[0;34m=\u001b[0m \u001b[0mload_model\u001b[0m\u001b[0;34m(\u001b[0m\u001b[0;34m\"version_2/models/model.h5\"\u001b[0m\u001b[0;34m)\u001b[0m\u001b[0;34m\u001b[0m\u001b[0m\n\u001b[0m",
      "\u001b[0;32m/opt/anaconda/anaconda3/lib/python3.6/site-packages/keras/models.py\u001b[0m in \u001b[0;36mload_model\u001b[0;34m(filepath, custom_objects, compile)\u001b[0m\n\u001b[1;32m    272\u001b[0m                       \u001b[0mmetrics\u001b[0m\u001b[0;34m=\u001b[0m\u001b[0mmetrics\u001b[0m\u001b[0;34m,\u001b[0m\u001b[0;34m\u001b[0m\u001b[0m\n\u001b[1;32m    273\u001b[0m                       \u001b[0mloss_weights\u001b[0m\u001b[0;34m=\u001b[0m\u001b[0mloss_weights\u001b[0m\u001b[0;34m,\u001b[0m\u001b[0;34m\u001b[0m\u001b[0m\n\u001b[0;32m--> 274\u001b[0;31m                       sample_weight_mode=sample_weight_mode)\n\u001b[0m\u001b[1;32m    275\u001b[0m \u001b[0;34m\u001b[0m\u001b[0m\n\u001b[1;32m    276\u001b[0m         \u001b[0;31m# Set optimizer weights.\u001b[0m\u001b[0;34m\u001b[0m\u001b[0;34m\u001b[0m\u001b[0m\n",
      "\u001b[0;32m/opt/anaconda/anaconda3/lib/python3.6/site-packages/keras/engine/training.py\u001b[0m in \u001b[0;36mcompile\u001b[0;34m(self, optimizer, loss, metrics, loss_weights, sample_weight_mode, weighted_metrics, target_tensors, **kwargs)\u001b[0m\n\u001b[1;32m    631\u001b[0m             \u001b[0mloss_functions\u001b[0m \u001b[0;34m=\u001b[0m \u001b[0;34m[\u001b[0m\u001b[0mlosses\u001b[0m\u001b[0;34m.\u001b[0m\u001b[0mget\u001b[0m\u001b[0;34m(\u001b[0m\u001b[0ml\u001b[0m\u001b[0;34m)\u001b[0m \u001b[0;32mfor\u001b[0m \u001b[0ml\u001b[0m \u001b[0;32min\u001b[0m \u001b[0mloss\u001b[0m\u001b[0;34m]\u001b[0m\u001b[0;34m\u001b[0m\u001b[0m\n\u001b[1;32m    632\u001b[0m         \u001b[0;32melse\u001b[0m\u001b[0;34m:\u001b[0m\u001b[0;34m\u001b[0m\u001b[0m\n\u001b[0;32m--> 633\u001b[0;31m             \u001b[0mloss_function\u001b[0m \u001b[0;34m=\u001b[0m \u001b[0mlosses\u001b[0m\u001b[0;34m.\u001b[0m\u001b[0mget\u001b[0m\u001b[0;34m(\u001b[0m\u001b[0mloss\u001b[0m\u001b[0;34m)\u001b[0m\u001b[0;34m\u001b[0m\u001b[0m\n\u001b[0m\u001b[1;32m    634\u001b[0m             \u001b[0mloss_functions\u001b[0m \u001b[0;34m=\u001b[0m \u001b[0;34m[\u001b[0m\u001b[0mloss_function\u001b[0m \u001b[0;32mfor\u001b[0m \u001b[0m_\u001b[0m \u001b[0;32min\u001b[0m \u001b[0mrange\u001b[0m\u001b[0;34m(\u001b[0m\u001b[0mlen\u001b[0m\u001b[0;34m(\u001b[0m\u001b[0mself\u001b[0m\u001b[0;34m.\u001b[0m\u001b[0moutputs\u001b[0m\u001b[0;34m)\u001b[0m\u001b[0;34m)\u001b[0m\u001b[0;34m]\u001b[0m\u001b[0;34m\u001b[0m\u001b[0m\n\u001b[1;32m    635\u001b[0m         \u001b[0mself\u001b[0m\u001b[0;34m.\u001b[0m\u001b[0mloss_functions\u001b[0m \u001b[0;34m=\u001b[0m \u001b[0mloss_functions\u001b[0m\u001b[0;34m\u001b[0m\u001b[0m\n",
      "\u001b[0;32m/opt/anaconda/anaconda3/lib/python3.6/site-packages/keras/losses.py\u001b[0m in \u001b[0;36mget\u001b[0;34m(identifier)\u001b[0m\n\u001b[1;32m    120\u001b[0m     \u001b[0;32mif\u001b[0m \u001b[0misinstance\u001b[0m\u001b[0;34m(\u001b[0m\u001b[0midentifier\u001b[0m\u001b[0;34m,\u001b[0m \u001b[0msix\u001b[0m\u001b[0;34m.\u001b[0m\u001b[0mstring_types\u001b[0m\u001b[0;34m)\u001b[0m\u001b[0;34m:\u001b[0m\u001b[0;34m\u001b[0m\u001b[0m\n\u001b[1;32m    121\u001b[0m         \u001b[0midentifier\u001b[0m \u001b[0;34m=\u001b[0m \u001b[0mstr\u001b[0m\u001b[0;34m(\u001b[0m\u001b[0midentifier\u001b[0m\u001b[0;34m)\u001b[0m\u001b[0;34m\u001b[0m\u001b[0m\n\u001b[0;32m--> 122\u001b[0;31m         \u001b[0;32mreturn\u001b[0m \u001b[0mdeserialize\u001b[0m\u001b[0;34m(\u001b[0m\u001b[0midentifier\u001b[0m\u001b[0;34m)\u001b[0m\u001b[0;34m\u001b[0m\u001b[0m\n\u001b[0m\u001b[1;32m    123\u001b[0m     \u001b[0;32mif\u001b[0m \u001b[0misinstance\u001b[0m\u001b[0;34m(\u001b[0m\u001b[0midentifier\u001b[0m\u001b[0;34m,\u001b[0m \u001b[0mdict\u001b[0m\u001b[0;34m)\u001b[0m\u001b[0;34m:\u001b[0m\u001b[0;34m\u001b[0m\u001b[0m\n\u001b[1;32m    124\u001b[0m         \u001b[0;32mreturn\u001b[0m \u001b[0mdeserialize\u001b[0m\u001b[0;34m(\u001b[0m\u001b[0midentifier\u001b[0m\u001b[0;34m)\u001b[0m\u001b[0;34m\u001b[0m\u001b[0m\n",
      "\u001b[0;32m/opt/anaconda/anaconda3/lib/python3.6/site-packages/keras/losses.py\u001b[0m in \u001b[0;36mdeserialize\u001b[0;34m(name, custom_objects)\u001b[0m\n\u001b[1;32m    112\u001b[0m                                     \u001b[0mmodule_objects\u001b[0m\u001b[0;34m=\u001b[0m\u001b[0mglobals\u001b[0m\u001b[0;34m(\u001b[0m\u001b[0;34m)\u001b[0m\u001b[0;34m,\u001b[0m\u001b[0;34m\u001b[0m\u001b[0m\n\u001b[1;32m    113\u001b[0m                                     \u001b[0mcustom_objects\u001b[0m\u001b[0;34m=\u001b[0m\u001b[0mcustom_objects\u001b[0m\u001b[0;34m,\u001b[0m\u001b[0;34m\u001b[0m\u001b[0m\n\u001b[0;32m--> 114\u001b[0;31m                                     printable_module_name='loss function')\n\u001b[0m\u001b[1;32m    115\u001b[0m \u001b[0;34m\u001b[0m\u001b[0m\n\u001b[1;32m    116\u001b[0m \u001b[0;34m\u001b[0m\u001b[0m\n",
      "\u001b[0;32m/opt/anaconda/anaconda3/lib/python3.6/site-packages/keras/utils/generic_utils.py\u001b[0m in \u001b[0;36mdeserialize_keras_object\u001b[0;34m(identifier, module_objects, custom_objects, printable_module_name)\u001b[0m\n\u001b[1;32m    161\u001b[0m             \u001b[0;32mif\u001b[0m \u001b[0mfn\u001b[0m \u001b[0;32mis\u001b[0m \u001b[0;32mNone\u001b[0m\u001b[0;34m:\u001b[0m\u001b[0;34m\u001b[0m\u001b[0m\n\u001b[1;32m    162\u001b[0m                 raise ValueError('Unknown ' + printable_module_name +\n\u001b[0;32m--> 163\u001b[0;31m                                  ':' + function_name)\n\u001b[0m\u001b[1;32m    164\u001b[0m         \u001b[0;32mreturn\u001b[0m \u001b[0mfn\u001b[0m\u001b[0;34m\u001b[0m\u001b[0m\n\u001b[1;32m    165\u001b[0m     \u001b[0;32melse\u001b[0m\u001b[0;34m:\u001b[0m\u001b[0;34m\u001b[0m\u001b[0m\n",
      "\u001b[0;31mValueError\u001b[0m: Unknown loss function:jaccard_loss"
     ]
    }
   ],
   "source": [
    "model = load_model(\"version_2/models/model.h5\")"
   ]
  },
  {
   "cell_type": "code",
   "execution_count": null,
   "metadata": {
    "collapsed": true
   },
   "outputs": [],
   "source": []
  }
 ],
 "metadata": {
  "anaconda-cloud": {},
  "kernelspec": {
   "display_name": "Python 3",
   "language": "python",
   "name": "python3"
  },
  "language_info": {
   "codemirror_mode": {
    "name": "ipython",
    "version": 3
   },
   "file_extension": ".py",
   "mimetype": "text/x-python",
   "name": "python",
   "nbconvert_exporter": "python",
   "pygments_lexer": "ipython3",
   "version": "3.6.3"
  }
 },
 "nbformat": 4,
 "nbformat_minor": 2
}
