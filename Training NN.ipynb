{
 "cells": [
  {
   "cell_type": "code",
   "execution_count": 47,
   "metadata": {
    "scrolled": true
   },
   "outputs": [],
   "source": [
    "import matplotlib.pyplot as plt\n",
    "import numpy as np\n",
    "import cv2\n",
    "import os\n",
    "import random\n",
    "from tqdm import tqdm\n",
    "import keras\n",
    "from keras.models import Model\n",
    "from keras.layers import Input, merge, Conv2D, MaxPooling2D, Flatten, UpSampling2D, Reshape, core, Dropout, BatchNormalization, concatenate, Activation\n",
    "from keras.optimizers import Adam\n",
    "from keras.callbacks import ModelCheckpoint, LearningRateScheduler\n",
    "from keras import backend as K\n",
    "from sklearn.metrics import jaccard_similarity_score\n",
    "import tensorflow as tf\n",
    "from loss_functions import jaccard_loss, iou_metric\n",
    "from keras.regularizers import l2 as l2_reg\n",
    "import predict_all_img\n",
    "from predict_all_img import split_image\n",
    "%matplotlib inline"
   ]
  },
  {
   "cell_type": "code",
   "execution_count": 46,
   "metadata": {},
   "outputs": [
    {
     "data": {
      "text/plain": [
       "<module 'predict_all_img' from '/home/user/Documents/anton_marin/cd/predict_all_img.py'>"
      ]
     },
     "execution_count": 46,
     "metadata": {},
     "output_type": "execute_result"
    }
   ],
   "source": [
    "import importlib\n",
    "importlib.reload(predict_all_img)"
   ]
  },
  {
   "cell_type": "code",
   "execution_count": 2,
   "metadata": {
    "collapsed": true
   },
   "outputs": [],
   "source": [
    "DATASET_DIR='data/train_test_val_tsunami_reduced/'\n",
    "smooth = 1e-12"
   ]
  },
  {
   "cell_type": "code",
   "execution_count": 3,
   "metadata": {
    "collapsed": true
   },
   "outputs": [],
   "source": [
    "def jaccard_coef(y_true, y_pred):\n",
    "    # __author__ = Vladimir Iglovikov\n",
    "    intersection = K.sum(y_true * y_pred, axis=[0, 1, 2])\n",
    "    sum_ = K.sum(y_true + y_pred, axis=[0, 1, 2])\n",
    "\n",
    "    jac = (intersection + smooth) / (sum_ - intersection + smooth)\n",
    "\n",
    "    return K.mean(jac)\n",
    "\n",
    "\n",
    "def jaccard_coef_int(y_true, y_pred):\n",
    "    # __author__ = Vladimir Iglovikov\n",
    "    y_pred_pos = K.round(K.clip(y_pred, 0, 1))\n",
    "\n",
    "    intersection = K.sum(y_true * y_pred_pos, axis=[0, 1, 2])\n",
    "    sum_ = K.sum(y_true + y_pred, axis=[0, 1, 2])\n",
    "    jac = (intersection + smooth) / (sum_ - intersection + smooth)\n",
    "    return K.mean(jac)\n",
    "\n",
    "def jac_loss(y_true, y_pred):\n",
    "    return 1-jaccard_coef_int(y_true, y_pred)\n",
    "\n",
    "def recall(y_true, y_pred):\n",
    "    \"\"\"Recall metric.\n",
    "\n",
    "    Only computes a batch-wise average of recall.\n",
    "\n",
    "    Computes the recall, a metric for multi-label classification of\n",
    "    how many relevant items are selected.\n",
    "    \"\"\"\n",
    "    true_positives = K.sum(K.round(K.clip(y_true * y_pred, 0, 1)), axis=[0, 1, 2])\n",
    "    possible_positives = K.sum(K.round(K.clip(y_true, 0, 1)), axis=[0, 1, 2])\n",
    "    recall = true_positives / (possible_positives + K.epsilon())\n",
    "    return recall\n",
    "\n",
    "def precision(y_true, y_pred):\n",
    "    \"\"\"Precision metric.\n",
    "\n",
    "    Only computes a batch-wise average of precision.\n",
    "\n",
    "    Computes the precision, a metric for multi-label classification of\n",
    "    how many selected items are relevant.\n",
    "    \"\"\"\n",
    "    true_positives = K.sum(K.round(K.clip(y_true * y_pred, 0, 1)), axis=[0, 1, 2])\n",
    "    predicted_positives = K.sum(K.round(K.clip(y_pred, 0, 1)), axis=[0, 1, 2])\n",
    "    precision = true_positives / (predicted_positives + K.epsilon())\n",
    "    return precision\n",
    "\n",
    "def f1(y_true, y_pred):\n",
    "    precision_ = precision(y_true, y_pred)\n",
    "    recall_ = recall(y_true, y_pred)\n",
    "    return 2*((precision_*recall_)/(precision_+recall_))"
   ]
  },
  {
   "cell_type": "code",
   "execution_count": 4,
   "metadata": {
    "collapsed": true
   },
   "outputs": [],
   "source": [
    "class BatchGeneratorStatic(object):\n",
    "    \n",
    "    def __init__(self, batch_size = 32, dim_x = 240, dim_y = 192, dim_z = 6, shuffle = True):\n",
    "        self.dim_x = dim_x\n",
    "        self.dim_y = dim_y\n",
    "        self.dim_z = dim_z\n",
    "        self.batch_size = batch_size\n",
    "        self.shuffle = shuffle\n",
    "\n",
    "    def generate(self, dir_name, file_names):\n",
    "        # Infinite loop\n",
    "        while 1:\n",
    "        # Generate order of exploration of dataset\n",
    "            indexes = self.__get_exploration_order(file_names)\n",
    "\n",
    "            # Generate batches\n",
    "            imax = int(len(indexes)/self.batch_size)\n",
    "            for i in range(imax):\n",
    "                # Find list of IDs\n",
    "                list_files_temp = [file_names[k] for k in indexes[i*self.batch_size:(i+1)*self.batch_size]]\n",
    "                # Generate data\n",
    "                X_out, y_out = self.data_generation(dir_name, list_files_temp)\n",
    "\n",
    "                yield X_out, y_out\n",
    "\n",
    "    def __get_exploration_order(self, X):\n",
    "        \n",
    "        # Find exploration order\n",
    "        indexes = np.arange(len(X))\n",
    "        if self.shuffle == True:\n",
    "            np.random.shuffle(indexes)\n",
    "\n",
    "        return indexes\n",
    "\n",
    "    def data_generation(self, dir_name, list_files_temp):\n",
    "        # X : (n_samples, v_size, v_size, n_channels)\n",
    "        # Initialization\n",
    "        X = np.empty((self.batch_size, self.dim_y, self.dim_x, self.dim_z))\n",
    "        y = np.empty((self.batch_size, self.dim_y, self.dim_x))\n",
    "\n",
    "        # Generate data\n",
    "        for i in range(len(list_files_temp)):\n",
    "            # Store volume\n",
    "            img_1 = cv2.imread(dir_name+'1/'+list_files_temp[i])\n",
    "            img_2 = cv2.imread(dir_name+'2/'+list_files_temp[i])\n",
    "            img_gt = cv2.imread(dir_name+'gt/'+list_files_temp[i],0)\n",
    "            \n",
    "            #print(img.shape)\n",
    "            X[i, :, :, :3] = img_1/255\n",
    "            X[i, :, :, 3:] = img_2/255\n",
    "            \n",
    "            y[i, :, :]=img_gt/255\n",
    "\n",
    "            \n",
    "            #y = y/255\n",
    "            #y=y.flatten()\n",
    "        return X, y\n",
    "    def debug(self, X, y):\n",
    "        indexes = self.__get_exploration_order(X)\n",
    "        imax = int(len(indexes)/self.batch_size)\n",
    "        for i in range(1):\n",
    "            # Find list of IDs\n",
    "            list_files_temp = [file_names[k] for k in indexes[i*self.batch_size:(i+1)*self.batch_size]]\n",
    "            # Generate data\n",
    "            X_out, y_out = self.data_generation(dir_name, list_files_temp)\n",
    "            return  X_out, y_out"
   ]
  },
  {
   "cell_type": "code",
   "execution_count": 5,
   "metadata": {
    "collapsed": true
   },
   "outputs": [],
   "source": [
    "# dir_name = DATASET_DIR+'test/'\n",
    "# file_names = os.listdir(dir_name+'1/')\n",
    "\n",
    "# X,y = BatchGeneratorStatic().debug(dir_name, file_names)"
   ]
  },
  {
   "cell_type": "code",
   "execution_count": 6,
   "metadata": {
    "collapsed": true
   },
   "outputs": [],
   "source": [
    "# LOADING DATASETS\n",
    "train_dir = DATASET_DIR+'train/'\n",
    "train_data = os.listdir(DATASET_DIR+'train/1')\n",
    "val_dir = DATASET_DIR+'val/'\n",
    "val_data = os.listdir(DATASET_DIR+'val/1')"
   ]
  },
  {
   "cell_type": "code",
   "execution_count": 7,
   "metadata": {
    "scrolled": true
   },
   "outputs": [
    {
     "name": "stdout",
     "output_type": "stream",
     "text": [
      "_________________________________________________________________\n",
      "Layer (type)                 Output Shape              Param #   \n",
      "=================================================================\n",
      "input_1 (InputLayer)         (None, 192, 240, 6)       0         \n",
      "_________________________________________________________________\n",
      "batch_normalization_1 (Batch (None, 192, 240, 6)       24        \n",
      "_________________________________________________________________\n",
      "conv2d_1 (Conv2D)            (None, 192, 240, 64)      18880     \n",
      "_________________________________________________________________\n",
      "batch_normalization_2 (Batch (None, 192, 240, 64)      256       \n",
      "_________________________________________________________________\n",
      "activation_1 (Activation)    (None, 192, 240, 64)      0         \n",
      "_________________________________________________________________\n",
      "max_pooling2d_1 (MaxPooling2 (None, 96, 120, 64)       0         \n",
      "_________________________________________________________________\n",
      "conv2d_2 (Conv2D)            (None, 96, 120, 128)      401536    \n",
      "_________________________________________________________________\n",
      "batch_normalization_3 (Batch (None, 96, 120, 128)      512       \n",
      "_________________________________________________________________\n",
      "activation_2 (Activation)    (None, 96, 120, 128)      0         \n",
      "_________________________________________________________________\n",
      "max_pooling2d_2 (MaxPooling2 (None, 48, 60, 128)       0         \n",
      "_________________________________________________________________\n",
      "conv2d_3 (Conv2D)            (None, 48, 60, 256)       1605888   \n",
      "_________________________________________________________________\n",
      "batch_normalization_4 (Batch (None, 48, 60, 256)       1024      \n",
      "_________________________________________________________________\n",
      "activation_3 (Activation)    (None, 48, 60, 256)       0         \n",
      "_________________________________________________________________\n",
      "max_pooling2d_3 (MaxPooling2 (None, 24, 30, 256)       0         \n",
      "_________________________________________________________________\n",
      "conv2d_4 (Conv2D)            (None, 24, 30, 512)       6423040   \n",
      "_________________________________________________________________\n",
      "batch_normalization_5 (Batch (None, 24, 30, 512)       2048      \n",
      "_________________________________________________________________\n",
      "activation_4 (Activation)    (None, 24, 30, 512)       0         \n",
      "_________________________________________________________________\n",
      "max_pooling2d_4 (MaxPooling2 (None, 12, 15, 512)       0         \n",
      "_________________________________________________________________\n",
      "up_sampling2d_1 (UpSampling2 (None, 24, 30, 512)       0         \n",
      "_________________________________________________________________\n",
      "conv2d_5 (Conv2D)            (None, 24, 30, 512)       12845568  \n",
      "_________________________________________________________________\n",
      "batch_normalization_6 (Batch (None, 24, 30, 512)       2048      \n",
      "_________________________________________________________________\n",
      "activation_5 (Activation)    (None, 24, 30, 512)       0         \n",
      "_________________________________________________________________\n",
      "up_sampling2d_2 (UpSampling2 (None, 48, 60, 512)       0         \n",
      "_________________________________________________________________\n",
      "conv2d_6 (Conv2D)            (None, 48, 60, 256)       6422784   \n",
      "_________________________________________________________________\n",
      "batch_normalization_7 (Batch (None, 48, 60, 256)       1024      \n",
      "_________________________________________________________________\n",
      "activation_6 (Activation)    (None, 48, 60, 256)       0         \n",
      "_________________________________________________________________\n",
      "up_sampling2d_3 (UpSampling2 (None, 96, 120, 256)      0         \n",
      "_________________________________________________________________\n",
      "conv2d_7 (Conv2D)            (None, 96, 120, 128)      1605760   \n",
      "_________________________________________________________________\n",
      "batch_normalization_8 (Batch (None, 96, 120, 128)      512       \n",
      "_________________________________________________________________\n",
      "activation_7 (Activation)    (None, 96, 120, 128)      0         \n",
      "_________________________________________________________________\n",
      "up_sampling2d_4 (UpSampling2 (None, 192, 240, 128)     0         \n",
      "_________________________________________________________________\n",
      "conv2d_8 (Conv2D)            (None, 192, 240, 64)      401472    \n",
      "_________________________________________________________________\n",
      "batch_normalization_9 (Batch (None, 192, 240, 64)      256       \n",
      "_________________________________________________________________\n",
      "activation_8 (Activation)    (None, 192, 240, 64)      0         \n",
      "_________________________________________________________________\n",
      "conv2d_9 (Conv2D)            (None, 192, 240, 1)       3137      \n",
      "_________________________________________________________________\n",
      "reshape_1 (Reshape)          (None, 192, 240)          0         \n",
      "=================================================================\n",
      "Total params: 29,735,769\n",
      "Trainable params: 29,731,917\n",
      "Non-trainable params: 3,852\n",
      "_________________________________________________________________\n",
      "None\n"
     ]
    }
   ],
   "source": [
    "inputs = Input((192,240,6))\n",
    "bn0 = BatchNormalization()(inputs)\n",
    "\n",
    "conv1 = Conv2D(64, (7, 7), padding='same', kernel_regularizer=l2_reg(0.001))(bn0)\n",
    "bn1 = BatchNormalization()(conv1)\n",
    "ac1 = Activation('relu')(bn1)\n",
    "mp1 = MaxPooling2D(pool_size=(2, 2), strides=2)(ac1)\n",
    "\n",
    "conv2 = Conv2D(128, (7, 7), padding='same', kernel_regularizer=l2_reg(0.001))(mp1)\n",
    "bn2 = BatchNormalization()(conv2)\n",
    "ac2 = Activation('relu')(bn2)\n",
    "mp2 = MaxPooling2D(pool_size=(2, 2), strides=2)(ac2)\n",
    "\n",
    "conv3 = Conv2D(256, (7, 7), padding='same', kernel_regularizer=l2_reg(0.001))(mp2)\n",
    "bn3 = BatchNormalization()(conv3)\n",
    "ac3 = Activation('relu')(bn3)\n",
    "mp3 = MaxPooling2D(pool_size=(2, 2), strides=2)(ac3)\n",
    "\n",
    "conv4 = Conv2D(512, (7, 7), padding='same', kernel_regularizer=l2_reg(0.001))(mp3)\n",
    "bn4 = BatchNormalization()(conv4)\n",
    "ac4 = Activation('relu')(bn4)\n",
    "mp4 = MaxPooling2D(pool_size=(2, 2), strides=2)(ac4)\n",
    "\n",
    "up5 = UpSampling2D((2, 2))(mp4)\n",
    "conv5 = Conv2D(512, (7, 7), padding='same', kernel_regularizer=l2_reg(0.001))(up5)\n",
    "bn5 = BatchNormalization()(conv5)\n",
    "ac5 = Activation('relu')(bn5)\n",
    "\n",
    "up6 = UpSampling2D((2, 2))(ac5)\n",
    "conv6 = Conv2D(256, (7, 7), padding='same', kernel_regularizer=l2_reg(0.001))(up6)\n",
    "bn6 = BatchNormalization()(conv6)\n",
    "ac6 = Activation('relu')(bn6)\n",
    "\n",
    "up7 = UpSampling2D((2, 2))(ac6)\n",
    "conv7 = Conv2D(128, (7, 7), padding='same', kernel_regularizer=l2_reg(0.001))(up7)\n",
    "bn7 = BatchNormalization()(conv7)\n",
    "ac7 = Activation('relu')(bn7)\n",
    "\n",
    "up8 = UpSampling2D((2, 2))(ac7)\n",
    "conv8 = Conv2D(64, (7, 7), padding='same', kernel_regularizer=l2_reg(0.001))(up8)\n",
    "bn8 = BatchNormalization()(conv8)\n",
    "ac8 = Activation('relu')(bn8)\n",
    "\n",
    "conv9 = Conv2D(1, (7, 7), activation='sigmoid', padding='same', kernel_regularizer=l2_reg(0.001))(ac8)\n",
    "\n",
    "rh1 = Reshape((192, 240))(conv9)\n",
    "#rh1 = Flatten()(conv9)\n",
    "\n",
    "model = Model(inputs=inputs, outputs=rh1)\n",
    "print(model.summary())"
   ]
  },
  {
   "cell_type": "code",
   "execution_count": 18,
   "metadata": {},
   "outputs": [
    {
     "name": "stdout",
     "output_type": "stream",
     "text": [
      "____________________________________________________________________________________________________\n",
      "Layer (type)                     Output Shape          Param #     Connected to                     \n",
      "====================================================================================================\n",
      "input_4 (InputLayer)             (None, 192, 240, 6)   0                                            \n",
      "____________________________________________________________________________________________________\n",
      "batch_normalization_28 (BatchNor (None, 192, 240, 6)   24          input_4[0][0]                    \n",
      "____________________________________________________________________________________________________\n",
      "conv2d_28 (Conv2D)               (None, 192, 240, 32)  1760        batch_normalization_28[0][0]     \n",
      "____________________________________________________________________________________________________\n",
      "batch_normalization_29 (BatchNor (None, 192, 240, 32)  128         conv2d_28[0][0]                  \n",
      "____________________________________________________________________________________________________\n",
      "activation_25 (Activation)       (None, 192, 240, 32)  0           batch_normalization_29[0][0]     \n",
      "____________________________________________________________________________________________________\n",
      "conv2d_29 (Conv2D)               (None, 192, 240, 32)  9248        activation_25[0][0]              \n",
      "____________________________________________________________________________________________________\n",
      "batch_normalization_30 (BatchNor (None, 192, 240, 32)  128         conv2d_29[0][0]                  \n",
      "____________________________________________________________________________________________________\n",
      "activation_26 (Activation)       (None, 192, 240, 32)  0           batch_normalization_30[0][0]     \n",
      "____________________________________________________________________________________________________\n",
      "max_pooling2d_13 (MaxPooling2D)  (None, 96, 120, 32)   0           activation_26[0][0]              \n",
      "____________________________________________________________________________________________________\n",
      "conv2d_30 (Conv2D)               (None, 96, 120, 64)   18496       max_pooling2d_13[0][0]           \n",
      "____________________________________________________________________________________________________\n",
      "batch_normalization_31 (BatchNor (None, 96, 120, 64)   256         conv2d_30[0][0]                  \n",
      "____________________________________________________________________________________________________\n",
      "activation_27 (Activation)       (None, 96, 120, 64)   0           batch_normalization_31[0][0]     \n",
      "____________________________________________________________________________________________________\n",
      "conv2d_31 (Conv2D)               (None, 96, 120, 64)   36928       activation_27[0][0]              \n",
      "____________________________________________________________________________________________________\n",
      "batch_normalization_32 (BatchNor (None, 96, 120, 64)   256         conv2d_31[0][0]                  \n",
      "____________________________________________________________________________________________________\n",
      "activation_28 (Activation)       (None, 96, 120, 64)   0           batch_normalization_32[0][0]     \n",
      "____________________________________________________________________________________________________\n",
      "max_pooling2d_14 (MaxPooling2D)  (None, 48, 60, 64)    0           activation_28[0][0]              \n",
      "____________________________________________________________________________________________________\n",
      "conv2d_32 (Conv2D)               (None, 48, 60, 128)   73856       max_pooling2d_14[0][0]           \n",
      "____________________________________________________________________________________________________\n",
      "batch_normalization_33 (BatchNor (None, 48, 60, 128)   512         conv2d_32[0][0]                  \n",
      "____________________________________________________________________________________________________\n",
      "activation_29 (Activation)       (None, 48, 60, 128)   0           batch_normalization_33[0][0]     \n",
      "____________________________________________________________________________________________________\n",
      "conv2d_33 (Conv2D)               (None, 48, 60, 128)   147584      activation_29[0][0]              \n",
      "____________________________________________________________________________________________________\n",
      "batch_normalization_34 (BatchNor (None, 48, 60, 128)   512         conv2d_33[0][0]                  \n",
      "____________________________________________________________________________________________________\n",
      "activation_30 (Activation)       (None, 48, 60, 128)   0           batch_normalization_34[0][0]     \n",
      "____________________________________________________________________________________________________\n",
      "max_pooling2d_15 (MaxPooling2D)  (None, 24, 30, 128)   0           activation_30[0][0]              \n",
      "____________________________________________________________________________________________________\n",
      "conv2d_34 (Conv2D)               (None, 24, 30, 256)   295168      max_pooling2d_15[0][0]           \n",
      "____________________________________________________________________________________________________\n",
      "batch_normalization_35 (BatchNor (None, 24, 30, 256)   1024        conv2d_34[0][0]                  \n",
      "____________________________________________________________________________________________________\n",
      "activation_31 (Activation)       (None, 24, 30, 256)   0           batch_normalization_35[0][0]     \n",
      "____________________________________________________________________________________________________\n",
      "conv2d_35 (Conv2D)               (None, 24, 30, 256)   590080      activation_31[0][0]              \n",
      "____________________________________________________________________________________________________\n",
      "batch_normalization_36 (BatchNor (None, 24, 30, 256)   1024        conv2d_35[0][0]                  \n",
      "____________________________________________________________________________________________________\n",
      "activation_32 (Activation)       (None, 24, 30, 256)   0           batch_normalization_36[0][0]     \n",
      "____________________________________________________________________________________________________\n",
      "max_pooling2d_16 (MaxPooling2D)  (None, 12, 15, 256)   0           activation_32[0][0]              \n",
      "____________________________________________________________________________________________________\n",
      "conv2d_36 (Conv2D)               (None, 12, 15, 512)   1180160     max_pooling2d_16[0][0]           \n",
      "____________________________________________________________________________________________________\n",
      "batch_normalization_37 (BatchNor (None, 12, 15, 512)   2048        conv2d_36[0][0]                  \n",
      "____________________________________________________________________________________________________\n",
      "activation_33 (Activation)       (None, 12, 15, 512)   0           batch_normalization_37[0][0]     \n",
      "____________________________________________________________________________________________________\n",
      "conv2d_37 (Conv2D)               (None, 12, 15, 512)   2359808     activation_33[0][0]              \n",
      "____________________________________________________________________________________________________\n",
      "batch_normalization_38 (BatchNor (None, 12, 15, 512)   2048        conv2d_37[0][0]                  \n",
      "____________________________________________________________________________________________________\n",
      "activation_34 (Activation)       (None, 12, 15, 512)   0           batch_normalization_38[0][0]     \n",
      "____________________________________________________________________________________________________\n",
      "up_sampling2d_13 (UpSampling2D)  (None, 24, 30, 512)   0           activation_34[0][0]              \n",
      "____________________________________________________________________________________________________\n",
      "concatenate_1 (Concatenate)      (None, 24, 30, 768)   0           up_sampling2d_13[0][0]           \n",
      "                                                                   activation_32[0][0]              \n",
      "____________________________________________________________________________________________________\n",
      "conv2d_38 (Conv2D)               (None, 24, 30, 256)   1769728     concatenate_1[0][0]              \n",
      "____________________________________________________________________________________________________\n",
      "batch_normalization_39 (BatchNor (None, 24, 30, 256)   1024        conv2d_38[0][0]                  \n",
      "____________________________________________________________________________________________________\n",
      "activation_35 (Activation)       (None, 24, 30, 256)   0           batch_normalization_39[0][0]     \n",
      "____________________________________________________________________________________________________\n",
      "conv2d_39 (Conv2D)               (None, 24, 30, 256)   590080      activation_35[0][0]              \n",
      "____________________________________________________________________________________________________\n",
      "batch_normalization_40 (BatchNor (None, 24, 30, 256)   1024        conv2d_39[0][0]                  \n",
      "____________________________________________________________________________________________________\n",
      "activation_36 (Activation)       (None, 24, 30, 256)   0           batch_normalization_40[0][0]     \n",
      "____________________________________________________________________________________________________\n",
      "up_sampling2d_14 (UpSampling2D)  (None, 48, 60, 256)   0           activation_36[0][0]              \n",
      "____________________________________________________________________________________________________\n",
      "concatenate_2 (Concatenate)      (None, 48, 60, 384)   0           up_sampling2d_14[0][0]           \n",
      "                                                                   activation_30[0][0]              \n",
      "____________________________________________________________________________________________________\n",
      "conv2d_40 (Conv2D)               (None, 48, 60, 128)   442496      concatenate_2[0][0]              \n",
      "____________________________________________________________________________________________________\n",
      "batch_normalization_41 (BatchNor (None, 48, 60, 128)   512         conv2d_40[0][0]                  \n",
      "____________________________________________________________________________________________________\n",
      "activation_37 (Activation)       (None, 48, 60, 128)   0           batch_normalization_41[0][0]     \n",
      "____________________________________________________________________________________________________\n",
      "conv2d_41 (Conv2D)               (None, 48, 60, 128)   147584      activation_37[0][0]              \n",
      "____________________________________________________________________________________________________\n",
      "batch_normalization_42 (BatchNor (None, 48, 60, 128)   512         conv2d_41[0][0]                  \n",
      "____________________________________________________________________________________________________\n",
      "activation_38 (Activation)       (None, 48, 60, 128)   0           batch_normalization_42[0][0]     \n",
      "____________________________________________________________________________________________________\n",
      "up_sampling2d_15 (UpSampling2D)  (None, 96, 120, 128)  0           activation_38[0][0]              \n",
      "____________________________________________________________________________________________________\n",
      "concatenate_3 (Concatenate)      (None, 96, 120, 192)  0           up_sampling2d_15[0][0]           \n",
      "                                                                   activation_28[0][0]              \n",
      "____________________________________________________________________________________________________\n",
      "conv2d_42 (Conv2D)               (None, 96, 120, 64)   110656      concatenate_3[0][0]              \n",
      "____________________________________________________________________________________________________\n",
      "batch_normalization_43 (BatchNor (None, 96, 120, 64)   256         conv2d_42[0][0]                  \n",
      "____________________________________________________________________________________________________\n",
      "activation_39 (Activation)       (None, 96, 120, 64)   0           batch_normalization_43[0][0]     \n",
      "____________________________________________________________________________________________________\n",
      "conv2d_43 (Conv2D)               (None, 96, 120, 64)   36928       activation_39[0][0]              \n",
      "____________________________________________________________________________________________________\n",
      "batch_normalization_44 (BatchNor (None, 96, 120, 64)   256         conv2d_43[0][0]                  \n",
      "____________________________________________________________________________________________________\n",
      "activation_40 (Activation)       (None, 96, 120, 64)   0           batch_normalization_44[0][0]     \n",
      "____________________________________________________________________________________________________\n",
      "up_sampling2d_16 (UpSampling2D)  (None, 192, 240, 64)  0           activation_40[0][0]              \n",
      "____________________________________________________________________________________________________\n",
      "concatenate_4 (Concatenate)      (None, 192, 240, 96)  0           up_sampling2d_16[0][0]           \n",
      "                                                                   activation_26[0][0]              \n",
      "____________________________________________________________________________________________________\n",
      "conv2d_44 (Conv2D)               (None, 192, 240, 32)  27680       concatenate_4[0][0]              \n",
      "____________________________________________________________________________________________________\n",
      "batch_normalization_45 (BatchNor (None, 192, 240, 32)  128         conv2d_44[0][0]                  \n",
      "____________________________________________________________________________________________________\n",
      "activation_41 (Activation)       (None, 192, 240, 32)  0           batch_normalization_45[0][0]     \n",
      "____________________________________________________________________________________________________\n",
      "conv2d_45 (Conv2D)               (None, 192, 240, 32)  9248        activation_41[0][0]              \n",
      "____________________________________________________________________________________________________\n",
      "batch_normalization_46 (BatchNor (None, 192, 240, 32)  128         conv2d_45[0][0]                  \n",
      "____________________________________________________________________________________________________\n",
      "activation_42 (Activation)       (None, 192, 240, 32)  0           batch_normalization_46[0][0]     \n",
      "____________________________________________________________________________________________________\n",
      "conv2d_46 (Conv2D)               (None, 192, 240, 1)   33          activation_42[0][0]              \n",
      "____________________________________________________________________________________________________\n",
      "reshape_4 (Reshape)              (None, 192, 240)      0           conv2d_46[0][0]                  \n",
      "====================================================================================================\n",
      "Total params: 7,859,321\n",
      "Trainable params: 7,853,421\n",
      "Non-trainable params: 5,900\n",
      "____________________________________________________________________________________________________\n",
      "None\n"
     ]
    }
   ],
   "source": [
    "inputs = Input((192,240,6))\n",
    "bn1 = BatchNormalization()(inputs)\n",
    "conv1 = Conv2D(32, (3, 3), padding='same')(bn1)\n",
    "bn1 = BatchNormalization()(conv1)\n",
    "act1 = Activation('relu')(bn1)\n",
    "conv1 = Conv2D(32, (3, 3), padding='same')(act1)\n",
    "bn1 = BatchNormalization()(conv1)\n",
    "act1 = Activation('relu')(bn1)\n",
    "pool1 = MaxPooling2D(pool_size=(2, 2))(act1)\n",
    "\n",
    "conv2 = Conv2D(64, (3, 3), padding='same')(pool1)\n",
    "bn2 = BatchNormalization()(conv2)\n",
    "act2 = Activation('relu')(bn2)\n",
    "conv2 = Conv2D(64, (3, 3), padding='same')(act2)\n",
    "bn2 = BatchNormalization()(conv2)\n",
    "act2 = Activation('relu')(bn2)\n",
    "pool2 = MaxPooling2D(pool_size=(2, 2))(act2)\n",
    "\n",
    "conv3 = Conv2D(128, (3, 3), padding='same')(pool2)\n",
    "bn3 = BatchNormalization()(conv3)\n",
    "act3 = Activation('relu')(bn3)\n",
    "conv3 = Conv2D(128, (3, 3), padding='same')(act3)\n",
    "bn3 = BatchNormalization()(conv3)\n",
    "act3 = Activation('relu')(bn3)\n",
    "pool3 = MaxPooling2D(pool_size=(2, 2))(act3)\n",
    "\n",
    "conv4 = Conv2D(256, (3, 3), padding='same')(pool3)\n",
    "bn4 = BatchNormalization()(conv4)\n",
    "act4 = Activation('relu')(bn4)\n",
    "conv4 = Conv2D(256, (3, 3), padding='same')(act4)\n",
    "bn4 = BatchNormalization()(conv4)\n",
    "act4 = Activation('relu')(bn4)\n",
    "pool4 = MaxPooling2D(pool_size=(2, 2))(act4)\n",
    "\n",
    "conv5 = Conv2D(512, (3, 3), padding='same')(pool4)\n",
    "bn5 = BatchNormalization()(conv5)\n",
    "act5 = Activation('relu')(bn5)\n",
    "conv5 = Conv2D(512, (3, 3), padding='same')(act5)\n",
    "bn5 = BatchNormalization()(conv5)\n",
    "act5 = Activation('relu')(bn5)\n",
    "\n",
    "up6 = concatenate([UpSampling2D(size=(2, 2))(act5), act4], axis=3)\n",
    "conv6 = Conv2D(256, (3, 3), padding='same')(up6)\n",
    "bn6 = BatchNormalization()(conv6)\n",
    "act6 = Activation('relu')(bn6)\n",
    "conv6 = Conv2D(256, (3, 3), padding='same')(act6)\n",
    "bn6 = BatchNormalization()(conv6)\n",
    "act6 = Activation('relu')(bn6)\n",
    "\n",
    "up7 = concatenate([UpSampling2D(size=(2, 2))(act6), act3], axis =3 )\n",
    "conv7 = Conv2D(128, (3, 3), padding='same')(up7)\n",
    "bn7 = BatchNormalization()(conv7)\n",
    "act7 = Activation('relu')(bn7)\n",
    "conv7 = Conv2D(128, (3, 3), padding='same')(act7)\n",
    "bn7 = BatchNormalization()(conv7)\n",
    "act7 = Activation('relu')(bn7)\n",
    "\n",
    "up8 = concatenate([UpSampling2D(size=(2, 2))(act7), act2], axis=3)\n",
    "conv8 = Conv2D(64, (3, 3), padding='same')(up8)\n",
    "bn8 = BatchNormalization()(conv8)\n",
    "act8 = Activation('relu')(bn8)\n",
    "conv8 = Conv2D(64, (3, 3), padding='same')(act8)\n",
    "bn8 = BatchNormalization()(conv8)\n",
    "act8 = Activation('relu')(bn8)\n",
    "\n",
    "up9 = concatenate([UpSampling2D(size=(2, 2))(act8), act1], axis=3)\n",
    "conv9 = Conv2D(32, (3, 3), padding='same')(up9)\n",
    "bn9 = BatchNormalization()(conv9)\n",
    "act9 = Activation('relu')(bn9)\n",
    "conv9 = Conv2D(32, (3, 3), padding='same')(act9)\n",
    "bn9 = BatchNormalization()(conv9)\n",
    "act9 = Activation('relu')(bn9)\n",
    "\n",
    "conv10 = Conv2D(1, (1, 1), activation='sigmoid', padding='same')(act9)\n",
    "\n",
    "rh1 = Reshape((192, 240))(conv10)\n",
    "\n",
    "model = Model(inputs=inputs, outputs=rh1, name = 'Unet')\n",
    "print(model.summary())"
   ]
  },
  {
   "cell_type": "code",
   "execution_count": 17,
   "metadata": {
    "collapsed": true
   },
   "outputs": [],
   "source": [
    "optimizer = keras.optimizers.SGD(lr=0.005)\n",
    "model.compile(loss=jaccard_loss, optimizer=optimizer, metrics=[jaccard_coef_int, iou_metric, precision, recall, f1])\n",
    "batch_size = 5\n",
    "training_generator = BatchGeneratorStatic(batch_size = batch_size).generate(train_dir, train_data)\n",
    "validation_generator = BatchGeneratorStatic(batch_size = batch_size).generate(val_dir, val_data)"
   ]
  },
  {
   "cell_type": "code",
   "execution_count": 18,
   "metadata": {
    "scrolled": true
   },
   "outputs": [
    {
     "name": "stdout",
     "output_type": "stream",
     "text": [
      "Epoch 1/1\n",
      "400/400 [==============================] - 1209s - loss: 1.9199 - jaccard_coef_int: 0.6906 - iou_metric: 0.6906 - precision: 0.7693 - recall: 0.8764 - f1: 0.8132 - val_loss: 1.9222 - val_jaccard_coef_int: 0.6825 - val_iou_metric: 0.6825 - val_precision: 0.7612 - val_recall: 0.8680 - val_f1: 0.8084\n"
     ]
    },
    {
     "data": {
      "text/plain": [
       "<keras.callbacks.History at 0x7fd2970aeda0>"
      ]
     },
     "execution_count": 18,
     "metadata": {},
     "output_type": "execute_result"
    }
   ],
   "source": [
    "model.fit_generator(generator = training_generator,\n",
    "                        steps_per_epoch = 400,\n",
    "                        validation_data = validation_generator,\n",
    "                        validation_steps = int(len(val_data)//batch_size), verbose = True,epochs= 1)"
   ]
  },
  {
   "cell_type": "code",
   "execution_count": 19,
   "metadata": {
    "collapsed": true
   },
   "outputs": [],
   "source": [
    "model.save_weights('weights/tsunami-5-4weights_1ep_0005lr_tr06906iou_val06825iou.4f')"
   ]
  },
  {
   "cell_type": "code",
   "execution_count": 29,
   "metadata": {
    "collapsed": true
   },
   "outputs": [],
   "source": [
    "model.load_weights('weights/2-1weights_2ep_0005lr_tr061iou_val0688iou.4f')"
   ]
  },
  {
   "cell_type": "code",
   "execution_count": 20,
   "metadata": {
    "collapsed": true
   },
   "outputs": [],
   "source": [
    "# LOADING DATASETS\n",
    "train_dir = DATASET_DIR+'train/'\n",
    "train_data = os.listdir(DATASET_DIR+'train/1')\n",
    "val_dir = DATASET_DIR+'val/'\n",
    "val_data = os.listdir(DATASET_DIR+'val/1')\n",
    "test_dir = DATASET_DIR+'test/'\n",
    "test_data = os.listdir(DATASET_DIR+'test/1')"
   ]
  },
  {
   "cell_type": "code",
   "execution_count": 21,
   "metadata": {},
   "outputs": [],
   "source": [
    "mode='test'\n",
    "\n",
    "if mode=='val':\n",
    "    data_dir=val_dir\n",
    "    data=val_data\n",
    "elif mode=='train':\n",
    "    data_dir=train_dir\n",
    "    data=train_data\n",
    "elif mode=='test':\n",
    "    data_dir=test_dir\n",
    "    data=test_data\n",
    "    \n",
    "X = np.empty((len(data), 192, 240, 6))\n",
    "y = np.empty((len(data), 192, 240))\n",
    "\n",
    "# Generate data\n",
    "for i in range(len(data)):\n",
    "    # Store volume\n",
    "    img_1 = cv2.imread(data_dir+'1/'+data[i])\n",
    "    img_2 = cv2.imread(data_dir+'2/'+data[i])\n",
    "    img_gt = cv2.imread(data_dir+'gt/'+data[i],0)\n",
    "\n",
    "    #print(img.shape)\n",
    "    X[i, :, :, :3] = img_1/255\n",
    "    X[i, :, :, 3:] = img_2/255\n",
    "\n",
    "    y[i, :, :]=img_gt/255\n"
   ]
  },
  {
   "cell_type": "code",
   "execution_count": 27,
   "metadata": {},
   "outputs": [
    {
     "data": {
      "text/plain": [
       "<matplotlib.image.AxesImage at 0x7fd26b1e32e8>"
      ]
     },
     "execution_count": 27,
     "metadata": {},
     "output_type": "execute_result"
    },
    {
     "data": {
      "image/png": "[encoded data removed]",
      "text/plain": [
       "<matplotlib.figure.Figure at 0x7fd26b1fdf60>"
      ]
     },
     "metadata": {},
     "output_type": "display_data"
    }
   ],
   "source": [
    "plt.imshow(y[9,:,:])"
   ]
  },
  {
   "cell_type": "code",
   "execution_count": 29,
   "metadata": {},
   "outputs": [],
   "source": [
    "y_pred = model.predict(X[9:10,:,:])"
   ]
  },
  {
   "cell_type": "code",
   "execution_count": 39,
   "metadata": {},
   "outputs": [
    {
     "name": "stderr",
     "output_type": "stream",
     "text": [
      "100%|██████████| 20/20 [00:05<00:00,  3.67it/s]\n"
     ]
    }
   ],
   "source": [
    "batch_size = 5\n",
    "\n",
    "y_pred = np.empty((len(data), 192, 240))\n",
    "\n",
    "for i in tqdm(range(0, len(data), batch_size)):\n",
    "    y_pred[i:i+batch_size,:,:] = model.predict(X[i:i+batch_size,:,:])"
   ]
  },
  {
   "cell_type": "code",
   "execution_count": 30,
   "metadata": {
    "scrolled": true
   },
   "outputs": [
    {
     "data": {
      "text/plain": [
       "<matplotlib.image.AxesImage at 0x7fd26b102978>"
      ]
     },
     "execution_count": 30,
     "metadata": {},
     "output_type": "execute_result"
    },
    {
     "data": {
      "image/png": "[encoded data removed]",
      "text/plain": [
       "<matplotlib.figure.Figure at 0x7fd26b1ae278>"
      ]
     },
     "metadata": {},
     "output_type": "display_data"
    }
   ],
   "source": [
    "plt.imshow(y_pred[0,:,:])"
   ]
  },
  {
   "cell_type": "code",
   "execution_count": 55,
   "metadata": {},
   "outputs": [
    {
     "ename": "AttributeError",
     "evalue": "'numpy.dtype' object has no attribute 'base_dtype'",
     "output_type": "error",
     "traceback": [
      "\u001b[0;31m---------------------------------------------------------------------------\u001b[0m",
      "\u001b[0;31mAttributeError\u001b[0m                            Traceback (most recent call last)",
      "\u001b[0;32m<ipython-input-55-aededd8bdc45>\u001b[0m in \u001b[0;36m<module>\u001b[0;34m()\u001b[0m\n\u001b[0;32m----> 1\u001b[0;31m \u001b[0mprint\u001b[0m \u001b[0;34m(\u001b[0m\u001b[0miou_metric\u001b[0m\u001b[0;34m(\u001b[0m\u001b[0my\u001b[0m\u001b[0;34m,\u001b[0m \u001b[0my_pred\u001b[0m\u001b[0;34m)\u001b[0m\u001b[0;34m)\u001b[0m\u001b[0;34m\u001b[0m\u001b[0m\n\u001b[0m",
      "\u001b[0;32m~/Documents/anton_marin/cd/loss_functions.py\u001b[0m in \u001b[0;36miou_metric\u001b[0;34m(y_true, y_pred)\u001b[0m\n\u001b[1;32m     11\u001b[0m \u001b[0;32mdef\u001b[0m \u001b[0miou_metric\u001b[0m\u001b[0;34m(\u001b[0m\u001b[0my_true\u001b[0m\u001b[0;34m,\u001b[0m \u001b[0my_pred\u001b[0m\u001b[0;34m)\u001b[0m\u001b[0;34m:\u001b[0m\u001b[0;34m\u001b[0m\u001b[0m\n\u001b[1;32m     12\u001b[0m     \u001b[0msmooth\u001b[0m \u001b[0;34m=\u001b[0m \u001b[0;36m0.001\u001b[0m\u001b[0;34m\u001b[0m\u001b[0m\n\u001b[0;32m---> 13\u001b[0;31m     \u001b[0my_pred_pos\u001b[0m \u001b[0;34m=\u001b[0m \u001b[0mK\u001b[0m\u001b[0;34m.\u001b[0m\u001b[0mround\u001b[0m\u001b[0;34m(\u001b[0m\u001b[0mK\u001b[0m\u001b[0;34m.\u001b[0m\u001b[0mclip\u001b[0m\u001b[0;34m(\u001b[0m\u001b[0my_pred\u001b[0m\u001b[0;34m,\u001b[0m \u001b[0;36m0\u001b[0m\u001b[0;34m,\u001b[0m \u001b[0;36m1\u001b[0m\u001b[0;34m)\u001b[0m\u001b[0;34m)\u001b[0m\u001b[0;34m\u001b[0m\u001b[0m\n\u001b[0m\u001b[1;32m     14\u001b[0m \u001b[0;34m\u001b[0m\u001b[0m\n\u001b[1;32m     15\u001b[0m     \u001b[0mintersection\u001b[0m \u001b[0;34m=\u001b[0m \u001b[0mK\u001b[0m\u001b[0;34m.\u001b[0m\u001b[0msum\u001b[0m\u001b[0;34m(\u001b[0m\u001b[0my_true\u001b[0m \u001b[0;34m*\u001b[0m \u001b[0my_pred_pos\u001b[0m\u001b[0;34m,\u001b[0m \u001b[0maxis\u001b[0m\u001b[0;34m=\u001b[0m\u001b[0;34m[\u001b[0m\u001b[0;36m0\u001b[0m\u001b[0;34m,\u001b[0m \u001b[0;36m1\u001b[0m\u001b[0;34m,\u001b[0m \u001b[0;36m2\u001b[0m\u001b[0;34m]\u001b[0m\u001b[0;34m)\u001b[0m\u001b[0;34m\u001b[0m\u001b[0m\n",
      "\u001b[0;32m~/anaconda3/envs/tensorflow/lib/python3.5/site-packages/keras/backend/tensorflow_backend.py\u001b[0m in \u001b[0;36mclip\u001b[0;34m(x, min_value, max_value)\u001b[0m\n\u001b[1;32m   1485\u001b[0m     \u001b[0;32mif\u001b[0m \u001b[0mmax_value\u001b[0m \u001b[0;32mis\u001b[0m \u001b[0;32mNone\u001b[0m\u001b[0;34m:\u001b[0m\u001b[0;34m\u001b[0m\u001b[0m\n\u001b[1;32m   1486\u001b[0m         \u001b[0mmax_value\u001b[0m \u001b[0;34m=\u001b[0m \u001b[0mnp\u001b[0m\u001b[0;34m.\u001b[0m\u001b[0minf\u001b[0m\u001b[0;34m\u001b[0m\u001b[0m\n\u001b[0;32m-> 1487\u001b[0;31m     \u001b[0mmin_value\u001b[0m \u001b[0;34m=\u001b[0m \u001b[0m_to_tensor\u001b[0m\u001b[0;34m(\u001b[0m\u001b[0mmin_value\u001b[0m\u001b[0;34m,\u001b[0m \u001b[0mx\u001b[0m\u001b[0;34m.\u001b[0m\u001b[0mdtype\u001b[0m\u001b[0;34m.\u001b[0m\u001b[0mbase_dtype\u001b[0m\u001b[0;34m)\u001b[0m\u001b[0;34m\u001b[0m\u001b[0m\n\u001b[0m\u001b[1;32m   1488\u001b[0m     \u001b[0mmax_value\u001b[0m \u001b[0;34m=\u001b[0m \u001b[0m_to_tensor\u001b[0m\u001b[0;34m(\u001b[0m\u001b[0mmax_value\u001b[0m\u001b[0;34m,\u001b[0m \u001b[0mx\u001b[0m\u001b[0;34m.\u001b[0m\u001b[0mdtype\u001b[0m\u001b[0;34m.\u001b[0m\u001b[0mbase_dtype\u001b[0m\u001b[0;34m)\u001b[0m\u001b[0;34m\u001b[0m\u001b[0m\n\u001b[1;32m   1489\u001b[0m     \u001b[0;32mreturn\u001b[0m \u001b[0mtf\u001b[0m\u001b[0;34m.\u001b[0m\u001b[0mclip_by_value\u001b[0m\u001b[0;34m(\u001b[0m\u001b[0mx\u001b[0m\u001b[0;34m,\u001b[0m \u001b[0mmin_value\u001b[0m\u001b[0;34m,\u001b[0m \u001b[0mmax_value\u001b[0m\u001b[0;34m)\u001b[0m\u001b[0;34m\u001b[0m\u001b[0m\n",
      "\u001b[0;31mAttributeError\u001b[0m: 'numpy.dtype' object has no attribute 'base_dtype'"
     ]
    }
   ],
   "source": [
    "print (iou_metric(y, y_pred))"
   ]
  },
  {
   "cell_type": "code",
   "execution_count": 48,
   "metadata": {},
   "outputs": [
    {
     "ename": "AttributeError",
     "evalue": "'NoneType' object has no attribute 'ndim'",
     "output_type": "error",
     "traceback": [
      "\u001b[0;31m---------------------------------------------------------------------------\u001b[0m",
      "\u001b[0;31mAttributeError\u001b[0m                            Traceback (most recent call last)",
      "\u001b[0;32m<ipython-input-48-8cda2c2daf04>\u001b[0m in \u001b[0;36m<module>\u001b[0;34m()\u001b[0m\n\u001b[0;32m----> 1\u001b[0;31m \u001b[0msplit_image\u001b[0m\u001b[0;34m(\u001b[0m\u001b[0mdata_dir\u001b[0m\u001b[0;34m+\u001b[0m\u001b[0mdata\u001b[0m\u001b[0;34m[\u001b[0m\u001b[0;36m0\u001b[0m\u001b[0;34m]\u001b[0m\u001b[0;34m,\u001b[0m \u001b[0mmodel\u001b[0m\u001b[0;34m)\u001b[0m\u001b[0;34m\u001b[0m\u001b[0m\n\u001b[0m",
      "\u001b[0;32m~/Documents/anton_marin/cd/predict_all_img.py\u001b[0m in \u001b[0;36msplit_image\u001b[0;34m(img_path, model, size, shear)\u001b[0m\n\u001b[1;32m      5\u001b[0m     \u001b[0;31m# Open tiff and make some changes\u001b[0m\u001b[0;34m\u001b[0m\u001b[0;34m\u001b[0m\u001b[0m\n\u001b[1;32m      6\u001b[0m     \u001b[0mimg\u001b[0m \u001b[0;34m=\u001b[0m \u001b[0mcv2\u001b[0m\u001b[0;34m.\u001b[0m\u001b[0mimread\u001b[0m\u001b[0;34m(\u001b[0m\u001b[0mimg_path\u001b[0m\u001b[0;34m)\u001b[0m\u001b[0;34m\u001b[0m\u001b[0m\n\u001b[0;32m----> 7\u001b[0;31m     \u001b[0mimg\u001b[0m \u001b[0;34m=\u001b[0m \u001b[0mnp\u001b[0m\u001b[0;34m.\u001b[0m\u001b[0mrollaxis\u001b[0m\u001b[0;34m(\u001b[0m\u001b[0mimg\u001b[0m\u001b[0;34m,\u001b[0m \u001b[0;36m0\u001b[0m\u001b[0;34m,\u001b[0m \u001b[0;36m3\u001b[0m\u001b[0;34m)\u001b[0m\u001b[0;34m\u001b[0m\u001b[0m\n\u001b[0m\u001b[1;32m      8\u001b[0m     \u001b[0mh\u001b[0m\u001b[0;34m,\u001b[0m\u001b[0mw\u001b[0m\u001b[0;34m,\u001b[0m\u001b[0m_\u001b[0m \u001b[0;34m=\u001b[0m \u001b[0mimg\u001b[0m\u001b[0;34m.\u001b[0m\u001b[0mshape\u001b[0m\u001b[0;34m\u001b[0m\u001b[0m\n\u001b[1;32m      9\u001b[0m     \u001b[0mprint\u001b[0m\u001b[0;34m(\u001b[0m\u001b[0mimg\u001b[0m\u001b[0;34m.\u001b[0m\u001b[0mshape\u001b[0m\u001b[0;34m)\u001b[0m\u001b[0;34m\u001b[0m\u001b[0m\n",
      "\u001b[0;32m~/anaconda3/envs/tensorflow/lib/python3.5/site-packages/numpy/core/numeric.py\u001b[0m in \u001b[0;36mrollaxis\u001b[0;34m(a, axis, start)\u001b[0m\n\u001b[1;32m   1469\u001b[0m \u001b[0;34m\u001b[0m\u001b[0m\n\u001b[1;32m   1470\u001b[0m     \"\"\"\n\u001b[0;32m-> 1471\u001b[0;31m     \u001b[0mn\u001b[0m \u001b[0;34m=\u001b[0m \u001b[0ma\u001b[0m\u001b[0;34m.\u001b[0m\u001b[0mndim\u001b[0m\u001b[0;34m\u001b[0m\u001b[0m\n\u001b[0m\u001b[1;32m   1472\u001b[0m     \u001b[0maxis\u001b[0m \u001b[0;34m=\u001b[0m \u001b[0mnormalize_axis_index\u001b[0m\u001b[0;34m(\u001b[0m\u001b[0maxis\u001b[0m\u001b[0;34m,\u001b[0m \u001b[0mn\u001b[0m\u001b[0;34m)\u001b[0m\u001b[0;34m\u001b[0m\u001b[0m\n\u001b[1;32m   1473\u001b[0m     \u001b[0;32mif\u001b[0m \u001b[0mstart\u001b[0m \u001b[0;34m<\u001b[0m \u001b[0;36m0\u001b[0m\u001b[0;34m:\u001b[0m\u001b[0;34m\u001b[0m\u001b[0m\n",
      "\u001b[0;31mAttributeError\u001b[0m: 'NoneType' object has no attribute 'ndim'"
     ]
    }
   ],
   "source": [
    "split_image(data_dir+data[0], model)"
   ]
  },
  {
   "cell_type": "code",
   "execution_count": 34,
   "metadata": {},
   "outputs": [
    {
     "data": {
      "text/plain": [
       "'data/train_test_val_tsunami_reduced/test/P000031.png'"
      ]
     },
     "execution_count": 34,
     "metadata": {},
     "output_type": "execute_result"
    }
   ],
   "source": [
    "data_dir+data[0]"
   ]
  },
  {
   "cell_type": "code",
   "execution_count": 39,
   "metadata": {},
   "outputs": [
    {
     "data": {
      "text/plain": [
       "range(100, 5)"
      ]
     },
     "execution_count": 39,
     "metadata": {},
     "output_type": "execute_result"
    }
   ],
   "source": [
    "(range(len(data), batch_size))"
   ]
  },
  {
   "cell_type": "code",
   "execution_count": 56,
   "metadata": {},
   "outputs": [
    {
     "data": {
      "text/plain": [
       "(100, 192, 240)"
      ]
     },
     "execution_count": 56,
     "metadata": {},
     "output_type": "execute_result"
    }
   ],
   "source": [
    "y.shape"
   ]
  },
  {
   "cell_type": "code",
   "execution_count": 58,
   "metadata": {},
   "outputs": [
    {
     "data": {
      "text/plain": [
       "(100, 192, 240)"
      ]
     },
     "execution_count": 58,
     "metadata": {},
     "output_type": "execute_result"
    }
   ],
   "source": [
    "y_pred.shape"
   ]
  },
  {
   "cell_type": "code",
   "execution_count": null,
   "metadata": {
    "collapsed": true
   },
   "outputs": [],
   "source": []
  }
 ],
 "metadata": {
  "anaconda-cloud": {},
  "kernelspec": {
   "display_name": "Python [default]",
   "language": "python",
   "name": "python3"
  },
  "language_info": {
   "codemirror_mode": {
    "name": "ipython",
    "version": 3
   },
   "file_extension": ".py",
   "mimetype": "text/x-python",
   "name": "python",
   "nbconvert_exporter": "python",
   "pygments_lexer": "ipython3",
   "version": "3.5.4"
  }
 },
 "nbformat": 4,
 "nbformat_minor": 2
}
