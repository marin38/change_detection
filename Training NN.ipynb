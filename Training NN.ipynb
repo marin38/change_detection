{
 "cells": [
  {
   "cell_type": "code",
   "execution_count": 1,
   "metadata": {
    "scrolled": true
   },
   "outputs": [
    {
     "name": "stderr",
     "output_type": "stream",
     "text": [
      "Using TensorFlow backend.\n"
     ]
    }
   ],
   "source": [
    "import matplotlib.pyplot as plt\n",
    "import numpy as np\n",
    "import cv2\n",
    "import os\n",
    "os.environ[\"CUDA_VISIBLE_DEVICES\"]=\"0\"\n",
    "import random\n",
    "from tqdm import tqdm\n",
    "import keras\n",
    "from keras.models import Model\n",
    "from keras.layers import Input, merge, Conv2D, MaxPooling2D, Flatten, UpSampling2D, Reshape, core, Dropout, BatchNormalization, concatenate, Activation\n",
    "from keras.optimizers import Adam\n",
    "from keras.callbacks import ModelCheckpoint, LearningRateScheduler\n",
    "from keras import backend as K\n",
    "from sklearn.metrics import jaccard_similarity_score, roc_curve, auc\n",
    "import tensorflow as tf\n",
    "from loss_functions_backend import jaccard_loss, iou_metric, recall, precision, f1, jaccard_coef_int\n",
    "from np_metrics import np_jaccard_coef, np_recall, np_precision, np_f1\n",
    "from keras.models import load_model\n",
    "from keras.regularizers import l2 as l2_reg\n",
    "import timeit\n",
    "from objectwise_metrics import calculate_objectwise_metrics\n",
    "from utils import pad_int_zeros\n",
    "from train_nn_utils.models import CDnet_unguided_pooling\n",
    "from train_nn_utils.generators import BatchGeneratorStatic\n",
    "%matplotlib inline"
   ]
  },
  {
   "cell_type": "code",
   "execution_count": 2,
   "metadata": {
    "collapsed": true
   },
   "outputs": [],
   "source": [
    "PATCHES_DIR = '../data/aicd_patches/fixed_test_newAug_testR=0.1_valT=0.2_numSamples=30/'\n",
    "RESULT_DIR = './train_results/aicd/aug_lib_augmentation/'\n",
    "smooth = 1e-12"
   ]
  },
  {
   "cell_type": "code",
   "execution_count": 3,
   "metadata": {
    "collapsed": true
   },
   "outputs": [],
   "source": [
    "# LOADING PATCHES\n",
    "train_dir = PATCHES_DIR+'train/'\n",
    "train_data = os.listdir(PATCHES_DIR+'train/1')\n",
    "val_dir = PATCHES_DIR+'val/'\n",
    "val_data = os.listdir(PATCHES_DIR+'val/1')"
   ]
  },
  {
   "cell_type": "code",
   "execution_count": 4,
   "metadata": {
    "scrolled": true
   },
   "outputs": [
    {
     "name": "stdout",
     "output_type": "stream",
     "text": [
      "_________________________________________________________________\n",
      "Layer (type)                 Output Shape              Param #   \n",
      "=================================================================\n",
      "input_1 (InputLayer)         (None, 192, 240, 6)       0         \n",
      "_________________________________________________________________\n",
      "batch_normalization_1 (Batch (None, 192, 240, 6)       24        \n",
      "_________________________________________________________________\n",
      "conv2d_1 (Conv2D)            (None, 192, 240, 64)      18880     \n",
      "_________________________________________________________________\n",
      "batch_normalization_2 (Batch (None, 192, 240, 64)      256       \n",
      "_________________________________________________________________\n",
      "activation_1 (Activation)    (None, 192, 240, 64)      0         \n",
      "_________________________________________________________________\n",
      "max_pooling2d_1 (MaxPooling2 (None, 96, 120, 64)       0         \n",
      "_________________________________________________________________\n",
      "conv2d_2 (Conv2D)            (None, 96, 120, 128)      401536    \n",
      "_________________________________________________________________\n",
      "batch_normalization_3 (Batch (None, 96, 120, 128)      512       \n",
      "_________________________________________________________________\n",
      "activation_2 (Activation)    (None, 96, 120, 128)      0         \n",
      "_________________________________________________________________\n",
      "max_pooling2d_2 (MaxPooling2 (None, 48, 60, 128)       0         \n",
      "_________________________________________________________________\n",
      "conv2d_3 (Conv2D)            (None, 48, 60, 256)       1605888   \n",
      "_________________________________________________________________\n",
      "batch_normalization_4 (Batch (None, 48, 60, 256)       1024      \n",
      "_________________________________________________________________\n",
      "activation_3 (Activation)    (None, 48, 60, 256)       0         \n",
      "_________________________________________________________________\n",
      "max_pooling2d_3 (MaxPooling2 (None, 24, 30, 256)       0         \n",
      "_________________________________________________________________\n",
      "conv2d_4 (Conv2D)            (None, 24, 30, 512)       6423040   \n",
      "_________________________________________________________________\n",
      "batch_normalization_5 (Batch (None, 24, 30, 512)       2048      \n",
      "_________________________________________________________________\n",
      "activation_4 (Activation)    (None, 24, 30, 512)       0         \n",
      "_________________________________________________________________\n",
      "max_pooling2d_4 (MaxPooling2 (None, 12, 15, 512)       0         \n",
      "_________________________________________________________________\n",
      "up_sampling2d_1 (UpSampling2 (None, 24, 30, 512)       0         \n",
      "_________________________________________________________________\n",
      "conv2d_5 (Conv2D)            (None, 24, 30, 512)       12845568  \n",
      "_________________________________________________________________\n",
      "batch_normalization_6 (Batch (None, 24, 30, 512)       2048      \n",
      "_________________________________________________________________\n",
      "activation_5 (Activation)    (None, 24, 30, 512)       0         \n",
      "_________________________________________________________________\n",
      "up_sampling2d_2 (UpSampling2 (None, 48, 60, 512)       0         \n",
      "_________________________________________________________________\n",
      "conv2d_6 (Conv2D)            (None, 48, 60, 256)       6422784   \n",
      "_________________________________________________________________\n",
      "batch_normalization_7 (Batch (None, 48, 60, 256)       1024      \n",
      "_________________________________________________________________\n",
      "activation_6 (Activation)    (None, 48, 60, 256)       0         \n",
      "_________________________________________________________________\n",
      "up_sampling2d_3 (UpSampling2 (None, 96, 120, 256)      0         \n",
      "_________________________________________________________________\n",
      "conv2d_7 (Conv2D)            (None, 96, 120, 128)      1605760   \n",
      "_________________________________________________________________\n",
      "batch_normalization_8 (Batch (None, 96, 120, 128)      512       \n",
      "_________________________________________________________________\n",
      "activation_7 (Activation)    (None, 96, 120, 128)      0         \n",
      "_________________________________________________________________\n",
      "up_sampling2d_4 (UpSampling2 (None, 192, 240, 128)     0         \n",
      "_________________________________________________________________\n",
      "conv2d_8 (Conv2D)            (None, 192, 240, 64)      401472    \n",
      "_________________________________________________________________\n",
      "batch_normalization_9 (Batch (None, 192, 240, 64)      256       \n",
      "_________________________________________________________________\n",
      "activation_8 (Activation)    (None, 192, 240, 64)      0         \n",
      "_________________________________________________________________\n",
      "conv2d_9 (Conv2D)            (None, 192, 240, 1)       3137      \n",
      "_________________________________________________________________\n",
      "reshape_1 (Reshape)          (None, 192, 240)          0         \n",
      "=================================================================\n",
      "Total params: 29,735,769\n",
      "Trainable params: 29,731,917\n",
      "Non-trainable params: 3,852\n",
      "_________________________________________________________________\n",
      "None\n"
     ]
    }
   ],
   "source": [
    "model = CDnet_unguided_pooling((192, 240, 6)).get_model()\n",
    "print(model.summary())"
   ]
  },
  {
   "cell_type": "code",
   "execution_count": 5,
   "metadata": {},
   "outputs": [],
   "source": [
    "MAX_WORSE_EPOCHS = 5\n",
    "\n",
    "weight_dir = RESULT_DIR + 'weights/'"
   ]
  },
  {
   "cell_type": "code",
   "execution_count": null,
   "metadata": {
    "scrolled": true
   },
   "outputs": [],
   "source": [
    "def train_nn(max_worse_epochs=MAX_WORSE_EPOCHS):\n",
    "    prev_val_iou=0\n",
    "    learning_rate = 0.01\n",
    "    weghts_caption = ''\n",
    "    prev_epoch_num = 0\n",
    "    current_epoch_num = 1\n",
    "    bad_epochs = 0\n",
    "\n",
    "    while True:\n",
    "        print('Epoch {}'.format(str(current_epoch_num)))\n",
    "        optimizer = keras.optimizers.SGD(lr=learning_rate)\n",
    "        model.compile(loss=jaccard_loss, optimizer=optimizer, metrics=[jaccard_coef_int, iou_metric, precision, recall, f1])\n",
    "        batch_size = 10\n",
    "        training_generator = BatchGeneratorStatic(batch_size = batch_size).generate(train_dir, train_data)\n",
    "        validation_generator = BatchGeneratorStatic(batch_size = batch_size).generate(val_dir, val_data)\n",
    "\n",
    "        fit_results = model.fit_generator(generator = training_generator,\n",
    "                                steps_per_epoch = 400,\n",
    "                                validation_data = validation_generator,\n",
    "                                validation_steps = int(len(val_data)//batch_size), verbose = True,epochs= 1)\n",
    "        metrics_dict = fit_results.history\n",
    "        if metrics_dict['val_iou_metric'][0] > prev_val_iou:\n",
    "            bad_epochs = 0\n",
    "            prev_val_iou = metrics_dict['val_iou_metric'][0]\n",
    "            \n",
    "            try:\n",
    "                os.mkdir(weight_dir)\n",
    "            except FileExistsError:\n",
    "                pass\n",
    "            weghts_caption = weight_dir+'epoch{}-{}_weights_lr_{}_train{}iou_val{}iou.4f'.format(str(current_epoch_num), str(prev_epoch_num), learning_rate, round(metrics_dict['iou_metric'][0], 4),\n",
    "                                                                                       round(metrics_dict['val_iou_metric'][0], 4))\n",
    "            model.save_weights(weghts_caption)\n",
    "        else:\n",
    "            bad_epochs += 1\n",
    "            learning_rate /= 2\n",
    "            model.load_weights(weghts_caption)\n",
    "        \n",
    "        prev_epoch_num = current_epoch_num\n",
    "        current_epoch_num += 1\n",
    "        if bad_epochs >= MAX_WORSE_EPOCHS:\n",
    "            break"
   ]
  },
  {
   "cell_type": "code",
   "execution_count": null,
   "metadata": {},
   "outputs": [
    {
     "name": "stdout",
     "output_type": "stream",
     "text": [
      "Epoch 1\n",
      "Epoch 1/1\n",
      "118/400 [=======>......................] - ETA: 3:17 - loss: 2.7070 - jaccard_coef_int: 0.0087 - iou_metric: 0.0087 - precision: 0.0114 - recall: 0.6533 - f1: 0.0223"
     ]
    }
   ],
   "source": [
    "train_nn()"
   ]
  },
  {
   "cell_type": "code",
   "execution_count": null,
   "metadata": {
    "collapsed": true
   },
   "outputs": [],
   "source": [
    "model.save(\"version_2_1/models/model_after_20.h5\")"
   ]
  },
  {
   "cell_type": "code",
   "execution_count": 43,
   "metadata": {},
   "outputs": [
    {
     "data": {
      "text/plain": [
       "{'f1': [nan],\n",
       " 'iou_metric': [0.046460526836390202],\n",
       " 'jaccard_coef_int': [0.04646043696266134],\n",
       " 'loss': [2.6593033772706987],\n",
       " 'precision': [0.09942082928730088],\n",
       " 'recall': [0.63072432607848894],\n",
       " 'val_f1': [nan],\n",
       " 'val_iou_metric': [0.11832720245674615],\n",
       " 'val_jaccard_coef_int': [0.11832706198015092],\n",
       " 'val_loss': [2.5753893789492155],\n",
       " 'val_precision': [0.19028585957697175],\n",
       " 'val_recall': [0.63354526431250724]}"
      ]
     },
     "execution_count": 43,
     "metadata": {},
     "output_type": "execute_result"
    }
   ],
   "source": [
    "fit_results.history"
   ]
  },
  {
   "cell_type": "code",
   "execution_count": 34,
   "metadata": {
    "collapsed": true
   },
   "outputs": [],
   "source": [
    "model.save_weights('weights/aicd-7-6weights_1ep_00005lr_tr06916iou_val07026iou.4f')"
   ]
  },
  {
   "cell_type": "code",
   "execution_count": 11,
   "metadata": {
    "collapsed": true
   },
   "outputs": [],
   "source": [
    "model.load_weights('version_2_1/weights/aicd_epoch26-24_weights_lr_7.8125e-05_train0.7595iou_val0.7561iou.4f')"
   ]
  },
  {
   "cell_type": "code",
   "execution_count": 12,
   "metadata": {
    "collapsed": true
   },
   "outputs": [],
   "source": [
    "# LOADING DATASETS\n",
    "train_dir = DATASET_DIR+'train/'\n",
    "train_data = os.listdir(DATASET_DIR+'train/1')\n",
    "val_dir = DATASET_DIR+'val/'\n",
    "val_data = os.listdir(DATASET_DIR+'val/1')\n",
    "test_dir = DATASET_DIR+'test/'\n",
    "test_data = os.listdir(DATASET_DIR+'test/1')"
   ]
  },
  {
   "cell_type": "code",
   "execution_count": 13,
   "metadata": {
    "collapsed": true
   },
   "outputs": [],
   "source": [
    "mode='test'\n",
    "all_img=True\n",
    "\n",
    "if mode=='val':\n",
    "    data_dir=val_dir\n",
    "    data=val_data\n",
    "elif mode=='train':\n",
    "    data_dir=train_dir\n",
    "    data=train_data\n",
    "elif mode=='test':\n",
    "    data_dir=test_dir\n",
    "    data=test_data\n",
    "    \n",
    "len_data=len(data)\n",
    "if not all_img:\n",
    "    len_data = 100\n",
    "\n",
    "X = np.empty((len_data, 192, 240, 6))\n",
    "y = np.empty((len_data, 192, 240))\n",
    "\n",
    "# Generate data\n",
    "for i in range(len_data):\n",
    "    # Store volume\n",
    "    img_1 = cv2.imread(data_dir+'1/'+data[i])\n",
    "    img_2 = cv2.imread(data_dir+'2/'+data[i])\n",
    "    img_gt = cv2.imread(data_dir+'gt/'+data[i],0)\n",
    "\n",
    "    #print(img.shape)\n",
    "    X[i, :, :, :3] = img_1/255\n",
    "    X[i, :, :, 3:] = img_2/255\n",
    "\n",
    "    y[i, :, :]=img_gt/255\n"
   ]
  },
  {
   "cell_type": "code",
   "execution_count": 26,
   "metadata": {},
   "outputs": [
    {
     "data": {
      "text/plain": [
       "<matplotlib.image.AxesImage at 0x7f8e8f445d68>"
      ]
     },
     "execution_count": 26,
     "metadata": {},
     "output_type": "execute_result"
    },
    {
     "data": {
      "image/png": "[encoded data removed]",
      "text/plain": [
       "<matplotlib.figure.Figure at 0x7f8e8f49f9e8>"
      ]
     },
     "metadata": {},
     "output_type": "display_data"
    }
   ],
   "source": [
    "plt.imshow(y[0,:,:])"
   ]
  },
  {
   "cell_type": "code",
   "execution_count": 18,
   "metadata": {},
   "outputs": [
    {
     "name": "stdout",
     "output_type": "stream",
     "text": [
      "6.26 s ± 294 ms per loop (mean ± std. dev. of 7 runs, 1 loop each)\n"
     ]
    }
   ],
   "source": [
    "%timeit y_pred = model.predict(X)"
   ]
  },
  {
   "cell_type": "code",
   "execution_count": 44,
   "metadata": {},
   "outputs": [
    {
     "name": "stderr",
     "output_type": "stream",
     "text": [
      "100%|██████████| 20/20 [00:04<00:00,  4.01it/s]\n"
     ]
    }
   ],
   "source": [
    "batch_size = 5\n",
    "\n",
    "y_pred = np.empty((len(data), 192, 240))\n",
    "\n",
    "for i in tqdm(range(0, len(data), batch_size)):\n",
    "    y_pred[i:i+batch_size,:,:] = model.predict(X[i:i+batch_size,:,:])"
   ]
  },
  {
   "cell_type": "code",
   "execution_count": 23,
   "metadata": {
    "scrolled": false
   },
   "outputs": [
    {
     "data": {
      "text/plain": [
       "<matplotlib.image.AxesImage at 0x7f36cc6f42e8>"
      ]
     },
     "execution_count": 23,
     "metadata": {},
     "output_type": "execute_result"
    },
    {
     "data": {
      "image/png": "[encoded data removed]",
      "text/plain": [
       "<matplotlib.figure.Figure at 0x7f36cc6184e0>"
      ]
     },
     "metadata": {},
     "output_type": "display_data"
    }
   ],
   "source": [
    "plt.imshow(y_pred[0,:,:])"
   ]
  },
  {
   "cell_type": "code",
   "execution_count": 14,
   "metadata": {
    "scrolled": true
   },
   "outputs": [
    {
     "name": "stderr",
     "output_type": "stream",
     "text": [
      "  0%|          | 0/5 [00:00<?, ?it/s]\n",
      "  0%|          | 0/5 [00:00<?, ?it/s]\u001b[A\n",
      " 20%|██        | 1/5 [00:01<00:06,  1.71s/it]\u001b[A\n",
      " 40%|████      | 2/5 [00:02<00:03,  1.31s/it]\u001b[A\n",
      " 60%|██████    | 3/5 [00:03<00:02,  1.19s/it]\u001b[A\n",
      " 80%|████████  | 4/5 [00:04<00:01,  1.12s/it]\u001b[A\n",
      "100%|██████████| 5/5 [00:05<00:00,  1.08s/it]\u001b[A\n",
      " 20%|██        | 1/5 [00:05<00:21,  5.43s/it]\n",
      "  0%|          | 0/5 [00:00<?, ?it/s]\u001b[A\n",
      " 20%|██        | 1/5 [00:00<00:03,  1.08it/s]\u001b[A\n",
      " 40%|████      | 2/5 [00:01<00:02,  1.06it/s]\u001b[A\n",
      " 60%|██████    | 3/5 [00:02<00:01,  1.07it/s]\u001b[A\n",
      " 80%|████████  | 4/5 [00:03<00:00,  1.07it/s]\u001b[A\n",
      "100%|██████████| 5/5 [00:04<00:00,  1.07it/s]\u001b[A\n",
      " 40%|████      | 2/5 [00:10<00:15,  5.06s/it]\n",
      "  0%|          | 0/5 [00:00<?, ?it/s]\u001b[A\n",
      " 20%|██        | 1/5 [00:00<00:03,  1.00it/s]\u001b[A\n",
      " 40%|████      | 2/5 [00:01<00:02,  1.04it/s]\u001b[A\n",
      " 60%|██████    | 3/5 [00:02<00:01,  1.05it/s]\u001b[A\n",
      " 80%|████████  | 4/5 [00:03<00:00,  1.05it/s]\u001b[A\n",
      "100%|██████████| 5/5 [00:04<00:00,  1.06it/s]\u001b[A\n",
      " 60%|██████    | 3/5 [00:14<00:09,  4.95s/it]\n",
      "  0%|          | 0/5 [00:00<?, ?it/s]\u001b[A\n",
      " 20%|██        | 1/5 [00:00<00:03,  1.07it/s]\u001b[A\n",
      " 40%|████      | 2/5 [00:01<00:02,  1.07it/s]\u001b[A\n",
      " 60%|██████    | 3/5 [00:02<00:01,  1.06it/s]\u001b[A\n",
      " 80%|████████  | 4/5 [00:03<00:00,  1.07it/s]\u001b[A\n",
      "100%|██████████| 5/5 [00:04<00:00,  1.06it/s]\u001b[A\n",
      " 80%|████████  | 4/5 [00:19<00:04,  4.89s/it]\n",
      "  0%|          | 0/5 [00:00<?, ?it/s]\u001b[A\n",
      " 20%|██        | 1/5 [00:00<00:03,  1.11it/s]\u001b[A\n",
      " 40%|████      | 2/5 [00:01<00:02,  1.11it/s]\u001b[A\n",
      " 60%|██████    | 3/5 [00:02<00:01,  1.10it/s]\u001b[A\n",
      " 80%|████████  | 4/5 [00:03<00:00,  1.08it/s]\u001b[A\n",
      "100%|██████████| 5/5 [00:04<00:00,  1.08it/s]\u001b[A\n",
      "100%|██████████| 5/5 [00:24<00:00,  4.84s/it]\n"
     ]
    }
   ],
   "source": [
    "#predict for test, for whole images\n",
    "dataset_dir = '../data/AICDDataset/'\n",
    "imgs_pred = []\n",
    "imgs_gt = []\n",
    "img_names = []\n",
    "for scene_id in tqdm(range(95,100)):\n",
    "    for view in tqdm(range(5)):\n",
    "        img_path = 'Scene{}_View{}'.format(pad_int_zeros(scene_id, 4), pad_int_zeros(view, 2))\n",
    "        img, img_gt = split_image(dataset_dir, img_path, model)\n",
    "        imgs_pred.append(img)\n",
    "        imgs_gt.append(img_gt)\n",
    "        img_names.append(img_path)"
   ]
  },
  {
   "cell_type": "code",
   "execution_count": 26,
   "metadata": {
    "collapsed": true
   },
   "outputs": [],
   "source": [
    "# write predicted to images, include gt\n",
    "RESULT_DIR='version_2_1/result/'\n",
    "assert len(imgs_pred) == len(imgs_gt)\n",
    "assert len(imgs_pred) == len(img_names)\n",
    "for i in range(len(imgs_pred)):\n",
    "    plt.imsave(RESULT_DIR+img_names[i]+'_gt.png', imgs_gt[i])\n",
    "    plt.imsave(RESULT_DIR+img_names[i]+'_pred.png', imgs_pred[i])"
   ]
  },
  {
   "cell_type": "code",
   "execution_count": 89,
   "metadata": {},
   "outputs": [
    {
     "data": {
      "text/plain": [
       "600"
      ]
     },
     "execution_count": 89,
     "metadata": {},
     "output_type": "execute_result"
    }
   ],
   "source": [
    "imgs_gt[0].shape[0]"
   ]
  },
  {
   "cell_type": "code",
   "execution_count": 15,
   "metadata": {},
   "outputs": [
    {
     "name": "stdout",
     "output_type": "stream",
     "text": [
      "0.686858151476\n",
      "0.741661613099\n",
      "0.902868593124\n",
      "0.814363852556\n",
      "------------------------------------\n"
     ]
    }
   ],
   "source": [
    "assert len(imgs_pred) == len(imgs_gt)\n",
    "y_gt = np.empty((len(imgs_gt), imgs_gt[0].shape[0], imgs_gt[0].shape[1]))\n",
    "y_pred = np.empty((len(imgs_pred), imgs_pred[0].shape[0], imgs_pred[0].shape[1]))\n",
    "for i in range(len(imgs_pred)):\n",
    "    y_gt[i, :, :] = imgs_gt[i]/255\n",
    "    y_pred[i, :, :] = imgs_pred[i]\n",
    "    \n",
    "print(np_jaccard_coef(y_pred, y_gt))\n",
    "print(np_precision(y_pred, y_gt))\n",
    "print(np_recall(y_pred,y_gt))\n",
    "print(np_f1(y_pred,y_gt))\n",
    "print('------------------------------------')"
   ]
  },
  {
   "cell_type": "code",
   "execution_count": 22,
   "metadata": {
    "collapsed": true
   },
   "outputs": [],
   "source": [
    "img_=img.reshape(224, 1024, 1)\n",
    "img_gt_=img_gt.reshape(224, 1024, 1)"
   ]
  },
  {
   "cell_type": "code",
   "execution_count": 95,
   "metadata": {},
   "outputs": [
    {
     "data": {
      "text/plain": [
       "255.0"
      ]
     },
     "execution_count": 95,
     "metadata": {},
     "output_type": "execute_result"
    }
   ],
   "source": [
    "np.max(y_gt[0,:,:])"
   ]
  },
  {
   "cell_type": "code",
   "execution_count": 59,
   "metadata": {
    "collapsed": true
   },
   "outputs": [],
   "source": [
    "fpr, tpr, thresholds = roc_curve(y.reshape(-1), y_pred.reshape(-1))"
   ]
  },
  {
   "cell_type": "code",
   "execution_count": 60,
   "metadata": {},
   "outputs": [
    {
     "data": {
      "text/plain": [
       "0.96270553848825235"
      ]
     },
     "execution_count": 60,
     "metadata": {},
     "output_type": "execute_result"
    }
   ],
   "source": [
    "auc(fpr, tpr)"
   ]
  },
  {
   "cell_type": "code",
   "execution_count": 62,
   "metadata": {},
   "outputs": [
    {
     "data": {
      "image/png": "[encoded data removed]",
      "text/plain": [
       "<matplotlib.figure.Figure at 0x7f3ca0e9cda0>"
      ]
     },
     "metadata": {},
     "output_type": "display_data"
    }
   ],
   "source": [
    "plt.plot(fpr, tpr, color='darkorange',\n",
    "         label='ROC curve (area = %0.2f)' % auc(fpr, tpr))\n",
    "plt.xlabel('False Positive Rate')\n",
    "plt.ylabel('True Positive Rate')\n",
    "plt.title('Receiver operating characteristic curve')\n",
    "plt.legend(loc=\"lower right\")\n",
    "plt.show()"
   ]
  },
  {
   "cell_type": "code",
   "execution_count": 86,
   "metadata": {
    "collapsed": true
   },
   "outputs": [],
   "source": [
    "model.save(\"version_2/models/model.h5\")"
   ]
  },
  {
   "cell_type": "code",
   "execution_count": 15,
   "metadata": {},
   "outputs": [
    {
     "ename": "ValueError",
     "evalue": "Unknown loss function:jaccard_loss",
     "output_type": "error",
     "traceback": [
      "\u001b[0;31m\u001b[0m",
      "\u001b[0;31mValueError\u001b[0mTraceback (most recent call last)",
      "\u001b[0;32m<ipython-input-15-d7836b468535>\u001b[0m in \u001b[0;36m<module>\u001b[0;34m()\u001b[0m\n\u001b[0;32m----> 1\u001b[0;31m \u001b[0mmodel\u001b[0m \u001b[0;34m=\u001b[0m \u001b[0mload_model\u001b[0m\u001b[0;34m(\u001b[0m\u001b[0;34m\"version_2/models/model.h5\"\u001b[0m\u001b[0;34m)\u001b[0m\u001b[0;34m\u001b[0m\u001b[0m\n\u001b[0m",
      "\u001b[0;32m/opt/anaconda/anaconda3/lib/python3.6/site-packages/keras/models.py\u001b[0m in \u001b[0;36mload_model\u001b[0;34m(filepath, custom_objects, compile)\u001b[0m\n\u001b[1;32m    272\u001b[0m                       \u001b[0mmetrics\u001b[0m\u001b[0;34m=\u001b[0m\u001b[0mmetrics\u001b[0m\u001b[0;34m,\u001b[0m\u001b[0;34m\u001b[0m\u001b[0m\n\u001b[1;32m    273\u001b[0m                       \u001b[0mloss_weights\u001b[0m\u001b[0;34m=\u001b[0m\u001b[0mloss_weights\u001b[0m\u001b[0;34m,\u001b[0m\u001b[0;34m\u001b[0m\u001b[0m\n\u001b[0;32m--> 274\u001b[0;31m                       sample_weight_mode=sample_weight_mode)\n\u001b[0m\u001b[1;32m    275\u001b[0m \u001b[0;34m\u001b[0m\u001b[0m\n\u001b[1;32m    276\u001b[0m         \u001b[0;31m# Set optimizer weights.\u001b[0m\u001b[0;34m\u001b[0m\u001b[0;34m\u001b[0m\u001b[0m\n",
      "\u001b[0;32m/opt/anaconda/anaconda3/lib/python3.6/site-packages/keras/engine/training.py\u001b[0m in \u001b[0;36mcompile\u001b[0;34m(self, optimizer, loss, metrics, loss_weights, sample_weight_mode, weighted_metrics, target_tensors, **kwargs)\u001b[0m\n\u001b[1;32m    631\u001b[0m             \u001b[0mloss_functions\u001b[0m \u001b[0;34m=\u001b[0m \u001b[0;34m[\u001b[0m\u001b[0mlosses\u001b[0m\u001b[0;34m.\u001b[0m\u001b[0mget\u001b[0m\u001b[0;34m(\u001b[0m\u001b[0ml\u001b[0m\u001b[0;34m)\u001b[0m \u001b[0;32mfor\u001b[0m \u001b[0ml\u001b[0m \u001b[0;32min\u001b[0m \u001b[0mloss\u001b[0m\u001b[0;34m]\u001b[0m\u001b[0;34m\u001b[0m\u001b[0m\n\u001b[1;32m    632\u001b[0m         \u001b[0;32melse\u001b[0m\u001b[0;34m:\u001b[0m\u001b[0;34m\u001b[0m\u001b[0m\n\u001b[0;32m--> 633\u001b[0;31m             \u001b[0mloss_function\u001b[0m \u001b[0;34m=\u001b[0m \u001b[0mlosses\u001b[0m\u001b[0;34m.\u001b[0m\u001b[0mget\u001b[0m\u001b[0;34m(\u001b[0m\u001b[0mloss\u001b[0m\u001b[0;34m)\u001b[0m\u001b[0;34m\u001b[0m\u001b[0m\n\u001b[0m\u001b[1;32m    634\u001b[0m             \u001b[0mloss_functions\u001b[0m \u001b[0;34m=\u001b[0m \u001b[0;34m[\u001b[0m\u001b[0mloss_function\u001b[0m \u001b[0;32mfor\u001b[0m \u001b[0m_\u001b[0m \u001b[0;32min\u001b[0m \u001b[0mrange\u001b[0m\u001b[0;34m(\u001b[0m\u001b[0mlen\u001b[0m\u001b[0;34m(\u001b[0m\u001b[0mself\u001b[0m\u001b[0;34m.\u001b[0m\u001b[0moutputs\u001b[0m\u001b[0;34m)\u001b[0m\u001b[0;34m)\u001b[0m\u001b[0;34m]\u001b[0m\u001b[0;34m\u001b[0m\u001b[0m\n\u001b[1;32m    635\u001b[0m         \u001b[0mself\u001b[0m\u001b[0;34m.\u001b[0m\u001b[0mloss_functions\u001b[0m \u001b[0;34m=\u001b[0m \u001b[0mloss_functions\u001b[0m\u001b[0;34m\u001b[0m\u001b[0m\n",
      "\u001b[0;32m/opt/anaconda/anaconda3/lib/python3.6/site-packages/keras/losses.py\u001b[0m in \u001b[0;36mget\u001b[0;34m(identifier)\u001b[0m\n\u001b[1;32m    120\u001b[0m     \u001b[0;32mif\u001b[0m \u001b[0misinstance\u001b[0m\u001b[0;34m(\u001b[0m\u001b[0midentifier\u001b[0m\u001b[0;34m,\u001b[0m \u001b[0msix\u001b[0m\u001b[0;34m.\u001b[0m\u001b[0mstring_types\u001b[0m\u001b[0;34m)\u001b[0m\u001b[0;34m:\u001b[0m\u001b[0;34m\u001b[0m\u001b[0m\n\u001b[1;32m    121\u001b[0m         \u001b[0midentifier\u001b[0m \u001b[0;34m=\u001b[0m \u001b[0mstr\u001b[0m\u001b[0;34m(\u001b[0m\u001b[0midentifier\u001b[0m\u001b[0;34m)\u001b[0m\u001b[0;34m\u001b[0m\u001b[0m\n\u001b[0;32m--> 122\u001b[0;31m         \u001b[0;32mreturn\u001b[0m \u001b[0mdeserialize\u001b[0m\u001b[0;34m(\u001b[0m\u001b[0midentifier\u001b[0m\u001b[0;34m)\u001b[0m\u001b[0;34m\u001b[0m\u001b[0m\n\u001b[0m\u001b[1;32m    123\u001b[0m     \u001b[0;32mif\u001b[0m \u001b[0misinstance\u001b[0m\u001b[0;34m(\u001b[0m\u001b[0midentifier\u001b[0m\u001b[0;34m,\u001b[0m \u001b[0mdict\u001b[0m\u001b[0;34m)\u001b[0m\u001b[0;34m:\u001b[0m\u001b[0;34m\u001b[0m\u001b[0m\n\u001b[1;32m    124\u001b[0m         \u001b[0;32mreturn\u001b[0m \u001b[0mdeserialize\u001b[0m\u001b[0;34m(\u001b[0m\u001b[0midentifier\u001b[0m\u001b[0;34m)\u001b[0m\u001b[0;34m\u001b[0m\u001b[0m\n",
      "\u001b[0;32m/opt/anaconda/anaconda3/lib/python3.6/site-packages/keras/losses.py\u001b[0m in \u001b[0;36mdeserialize\u001b[0;34m(name, custom_objects)\u001b[0m\n\u001b[1;32m    112\u001b[0m                                     \u001b[0mmodule_objects\u001b[0m\u001b[0;34m=\u001b[0m\u001b[0mglobals\u001b[0m\u001b[0;34m(\u001b[0m\u001b[0;34m)\u001b[0m\u001b[0;34m,\u001b[0m\u001b[0;34m\u001b[0m\u001b[0m\n\u001b[1;32m    113\u001b[0m                                     \u001b[0mcustom_objects\u001b[0m\u001b[0;34m=\u001b[0m\u001b[0mcustom_objects\u001b[0m\u001b[0;34m,\u001b[0m\u001b[0;34m\u001b[0m\u001b[0m\n\u001b[0;32m--> 114\u001b[0;31m                                     printable_module_name='loss function')\n\u001b[0m\u001b[1;32m    115\u001b[0m \u001b[0;34m\u001b[0m\u001b[0m\n\u001b[1;32m    116\u001b[0m \u001b[0;34m\u001b[0m\u001b[0m\n",
      "\u001b[0;32m/opt/anaconda/anaconda3/lib/python3.6/site-packages/keras/utils/generic_utils.py\u001b[0m in \u001b[0;36mdeserialize_keras_object\u001b[0;34m(identifier, module_objects, custom_objects, printable_module_name)\u001b[0m\n\u001b[1;32m    161\u001b[0m             \u001b[0;32mif\u001b[0m \u001b[0mfn\u001b[0m \u001b[0;32mis\u001b[0m \u001b[0;32mNone\u001b[0m\u001b[0;34m:\u001b[0m\u001b[0;34m\u001b[0m\u001b[0m\n\u001b[1;32m    162\u001b[0m                 raise ValueError('Unknown ' + printable_module_name +\n\u001b[0;32m--> 163\u001b[0;31m                                  ':' + function_name)\n\u001b[0m\u001b[1;32m    164\u001b[0m         \u001b[0;32mreturn\u001b[0m \u001b[0mfn\u001b[0m\u001b[0;34m\u001b[0m\u001b[0m\n\u001b[1;32m    165\u001b[0m     \u001b[0;32melse\u001b[0m\u001b[0;34m:\u001b[0m\u001b[0;34m\u001b[0m\u001b[0m\n",
      "\u001b[0;31mValueError\u001b[0m: Unknown loss function:jaccard_loss"
     ]
    }
   ],
   "source": [
    "model = load_model(\"version_2/models/model.h5\")"
   ]
  },
  {
   "cell_type": "code",
   "execution_count": 17,
   "metadata": {},
   "outputs": [
    {
     "name": "stderr",
     "output_type": "stream",
     "text": [
      "  0%|          | 0/5 [00:00<?, ?it/s]\n",
      "  0%|          | 0/5 [00:00<?, ?it/s]\u001b[A\n",
      " 20%|██        | 1/5 [00:00<00:01,  3.90it/s]\u001b[A\n",
      " 40%|████      | 2/5 [00:00<00:00,  4.01it/s]\u001b[A\n",
      " 60%|██████    | 3/5 [00:00<00:00,  4.42it/s]\u001b[A\n",
      " 80%|████████  | 4/5 [00:00<00:00,  4.57it/s]\u001b[A\n",
      "100%|██████████| 5/5 [00:01<00:00,  4.76it/s]\u001b[A\n",
      " 20%|██        | 1/5 [00:01<00:04,  1.06s/it]\n",
      "  0%|          | 0/5 [00:00<?, ?it/s]\u001b[A\n",
      " 20%|██        | 1/5 [00:00<00:00,  8.22it/s]\u001b[A\n",
      " 40%|████      | 2/5 [00:00<00:00,  5.49it/s]\u001b[A\n",
      " 60%|██████    | 3/5 [00:00<00:00,  5.46it/s]\u001b[A\n",
      " 80%|████████  | 4/5 [00:00<00:00,  5.00it/s]\u001b[A\n",
      "100%|██████████| 5/5 [00:01<00:00,  4.96it/s]\u001b[A\n",
      " 40%|████      | 2/5 [00:02<00:03,  1.04s/it]\n",
      "  0%|          | 0/5 [00:00<?, ?it/s]\u001b[A\n",
      " 20%|██        | 1/5 [00:00<00:00,  5.15it/s]\u001b[A\n",
      " 40%|████      | 2/5 [00:00<00:00,  5.34it/s]\u001b[A\n",
      " 60%|██████    | 3/5 [00:00<00:00,  5.68it/s]\u001b[A\n",
      " 80%|████████  | 4/5 [00:00<00:00,  5.45it/s]\u001b[A\n",
      "100%|██████████| 5/5 [00:00<00:00,  5.54it/s]\u001b[A\n",
      " 60%|██████    | 3/5 [00:02<00:01,  1.00it/s]\n",
      "  0%|          | 0/5 [00:00<?, ?it/s]\u001b[A\n",
      " 20%|██        | 1/5 [00:00<00:00,  4.62it/s]\u001b[A\n",
      " 40%|████      | 2/5 [00:00<00:00,  4.66it/s]\u001b[A\n",
      " 60%|██████    | 3/5 [00:00<00:00,  4.94it/s]\u001b[A\n",
      " 80%|████████  | 4/5 [00:00<00:00,  5.32it/s]\u001b[A\n",
      "100%|██████████| 5/5 [00:00<00:00,  5.46it/s]\u001b[A\n",
      " 80%|████████  | 4/5 [00:03<00:00,  1.02it/s]\n",
      "  0%|          | 0/5 [00:00<?, ?it/s]\u001b[A\n",
      " 20%|██        | 1/5 [00:00<00:00,  5.53it/s]\u001b[A\n",
      " 40%|████      | 2/5 [00:00<00:00,  5.77it/s]\u001b[A\n",
      " 60%|██████    | 3/5 [00:00<00:00,  6.06it/s]\u001b[A\n",
      " 80%|████████  | 4/5 [00:00<00:00,  6.36it/s]\u001b[A\n",
      "100%|██████████| 5/5 [00:00<00:00,  6.31it/s]\u001b[A\n",
      "100%|██████████| 5/5 [00:04<00:00,  1.06it/s]\n"
     ]
    }
   ],
   "source": [
    "# objectwise metrics\n",
    "TP=0\n",
    "FN=0\n",
    "FP=0\n",
    "for scene_id in tqdm(range(95,100)):\n",
    "    for view in tqdm(range(5)):\n",
    "        img_path = 'version_2_1/result/Scene{}_View{}'.format(pad_int_zeros(scene_id, 4), pad_int_zeros(view, 2))\n",
    "        tmp_TP, tmp_FP, tmp_FN = calculate_objectwise_metrics(img_path+'_pred.png', img_path+'_gt.png')\n",
    "        TP += tmp_TP\n",
    "        FN += tmp_FN\n",
    "        FP += tmp_FP"
   ]
  },
  {
   "cell_type": "code",
   "execution_count": 18,
   "metadata": {},
   "outputs": [
    {
     "data": {
      "text/plain": [
       "(20, 5, 5)"
      ]
     },
     "execution_count": 18,
     "metadata": {},
     "output_type": "execute_result"
    }
   ],
   "source": [
    "TP, FP, FN"
   ]
  },
  {
   "cell_type": "code",
   "execution_count": 19,
   "metadata": {},
   "outputs": [
    {
     "data": {
      "text/plain": [
       "0.8"
      ]
     },
     "execution_count": 19,
     "metadata": {},
     "output_type": "execute_result"
    }
   ],
   "source": [
    "2*TP/(2*TP+FP+FN)"
   ]
  },
  {
   "cell_type": "code",
   "execution_count": null,
   "metadata": {
    "collapsed": true
   },
   "outputs": [],
   "source": []
  }
 ],
 "metadata": {
  "anaconda-cloud": {},
  "kernelspec": {
   "display_name": "Python 3",
   "language": "python",
   "name": "python3"
  },
  "language_info": {
   "codemirror_mode": {
    "name": "ipython",
    "version": 3
   },
   "file_extension": ".py",
   "mimetype": "text/x-python",
   "name": "python",
   "nbconvert_exporter": "python",
   "pygments_lexer": "ipython3",
   "version": "3.6.3"
  }
 },
 "nbformat": 4,
 "nbformat_minor": 2
}
