{
 "cells": [
  {
   "cell_type": "code",
   "execution_count": 15,
   "metadata": {
    "scrolled": true
   },
   "outputs": [],
   "source": [
    "import matplotlib.pyplot as plt\n",
    "import numpy as np\n",
    "import cv2\n",
    "import os\n",
    "os.environ[\"CUDA_VISIBLE_DEVICES\"]=\"3\"\n",
    "import random\n",
    "from tqdm import tqdm\n",
    "import keras\n",
    "from keras.models import Model\n",
    "from keras.layers import Input, merge, Conv2D, MaxPooling2D, Flatten, UpSampling2D, Reshape, core, Dropout, BatchNormalization, concatenate, Activation\n",
    "from keras.optimizers import Adam\n",
    "from keras.callbacks import ModelCheckpoint, LearningRateScheduler\n",
    "from keras import backend as K\n",
    "from sklearn.metrics import jaccard_similarity_score, roc_curve, auc\n",
    "import tensorflow as tf\n",
    "from loss_functions_backend import jaccard_loss, iou_metric, recall, precision, f1\n",
    "from np_metrics import np_jaccard_coef, np_recall, np_precision, np_f1\n",
    "from keras.models import load_model\n",
    "from keras.regularizers import l2 as l2_reg\n",
    "import timeit\n",
    "import predict_all_img\n",
    "#from predict_all_img import split_image\n",
    "%matplotlib inline"
   ]
  },
  {
   "cell_type": "code",
   "execution_count": 2,
   "metadata": {
    "collapsed": true
   },
   "outputs": [],
   "source": [
    "def pad_int_zeros(i, num_digits):\n",
    "    res = str(i)\n",
    "    for j in range(num_digits-len(res)):\n",
    "        res = '0'+res\n",
    "    return res"
   ]
  },
  {
   "cell_type": "code",
   "execution_count": 3,
   "metadata": {
    "collapsed": true
   },
   "outputs": [],
   "source": [
    "def split_image(img_dir, img_name, model, size = (192,240), shear = 0.25, img_type='aicd'):\n",
    "    if img_type == 'tsunami':\n",
    "        img_1_path = img_dir+'t0/'+img_name+'.jpg'\n",
    "        img_2_path = img_dir+'t1/'+img_name+'.jpg'\n",
    "        img_gt_path = img_dir+'ground_truth/'+img_name+'.bmp'\n",
    "        \n",
    "    elif img_type == 'aicd':\n",
    "        img_1_path = img_dir+'Images_NoShadow/'+img_name+'_moving.png'\n",
    "        img_2_path = img_dir+'Images_NoShadow/'+img_name+'_target.png'\n",
    "        img_gt_path = img_dir+'GroundTruth/'+img_name+'_gtmask.png'\n",
    "\n",
    "        \n",
    "    img_1 = cv2.imread(img_1_path)\n",
    "    img_2 = cv2.imread(img_2_path)\n",
    "    img_gt = cv2.imread(img_gt_path,0)\n",
    "    assert img_1 is not None\n",
    "    assert img_2 is not None\n",
    "    assert img_gt is not None\n",
    "\n",
    "    if img_type=='tsunami':\n",
    "        img_gt = cv2.bitwise_not(img_gt)\n",
    "        \n",
    "    img = np.empty((img_1.shape[0], img_1.shape[1], 6))\n",
    "    img[:, :, :3] = img_1/255\n",
    "    img[:, :, 3:] = img_2/255\n",
    "    #img_gt = img_gt/255\n",
    "                   \n",
    "    h,w,_ = img.shape\n",
    "    # Create reflective padding\n",
    "    shear_int = (int(size[0]*shear),int(size[1]*shear))\n",
    "    pad_h_1 = (size[0]-shear_int[0]-(h-size[0])%(size[0]-shear_int[0]))//2\n",
    "    pad_h_2 = (size[0]-shear_int[0]-(h-size[0])%(size[0]-shear_int[0]))//2+(size[0]-shear_int[0]-(h-size[0])%(size[0]-shear_int[0]))%2\n",
    "    pad_w_1 = (size[1]-shear_int[1]-(w-size[1])%(size[1]-shear_int[1]))//2\n",
    "    pad_w_2 = (size[1]-shear_int[1]-(w-size[1])%(size[1]-shear_int[1]))//2+(size[1]-shear_int[1]-(w-size[1])%(size[1]-shear_int[1]))%2\n",
    "    #print(pad_h_1,pad_h_2,pad_w_1,pad_w_2)\n",
    "    img = np.pad(img,((pad_h_1,pad_h_2),(pad_w_1,pad_w_2),(0,0)), 'reflect')\n",
    "    \n",
    "    # Split image into patches\n",
    "    h,w,_ = img.shape\n",
    "    img_arr = []\n",
    "    n_rows = (h-size[0])//(size[0]-shear_int[0])+1\n",
    "    n_cols = (w-size[1])//(size[1]-shear_int[1])+1\n",
    "    for i in range(n_rows):\n",
    "        for j in range(n_cols):\n",
    "            coord_h = i*(size[0]-shear_int[0])\n",
    "            coord_w = j*(size[1]-shear_int[1])\n",
    "            img_crop = img[coord_h:coord_h+size[0], coord_w:coord_w+size[1],:]\n",
    "            img_arr.append(img_crop)\n",
    " \n",
    "    # Create predictions for patches\n",
    "    mask_arr = []\n",
    "    for img_crop in img_arr:\n",
    "        img_to_pred = np.array([img_crop])\n",
    "        mask_pred = model.predict(img_to_pred)[0]\n",
    "        mask_arr.append(mask_pred)\n",
    "    \n",
    "    # Merge masks in one\n",
    "    index = 0\n",
    "    channels = 1\n",
    "    final_seg = np.zeros((h,w))\n",
    "    for i in range (n_rows):\n",
    "        for j in range (n_cols):\n",
    "            #print(i,j)\n",
    "            coord_h = i*(size[0]-shear_int[0])\n",
    "            coord_w = j*(size[1]-shear_int[1])\n",
    "            \n",
    "            shift_h = shear_int[0]//2\n",
    "            shift_w = shear_int[1]//2\n",
    "            \n",
    "            mask_to_append = mask_arr[index]\n",
    "            mask_to_append[0:shift_h,:]=0\n",
    "            mask_to_append[size[0]-shift_h:,:]=0\n",
    "            mask_to_append[:,0:shift_w]=0\n",
    "            mask_to_append[:,size[1]-shift_w:]=0\n",
    "                \n",
    "            final_seg[coord_h:coord_h+size[0], coord_w:coord_w+size[1]]+=mask_to_append\n",
    "            index+=1\n",
    "    #print(final_seg.shape)\n",
    "    final_seg = final_seg[pad_h_1:h-pad_h_2, pad_w_1:w-pad_w_2]\n",
    "    return final_seg, img_gt"
   ]
  },
  {
   "cell_type": "code",
   "execution_count": 4,
   "metadata": {
    "collapsed": true
   },
   "outputs": [],
   "source": [
    "DATASET_DIR='../data/train_test_val_fixed_test/'\n",
    "smooth = 1e-12"
   ]
  },
  {
   "cell_type": "code",
   "execution_count": 5,
   "metadata": {
    "collapsed": true
   },
   "outputs": [],
   "source": [
    "class BatchGeneratorStatic(object):\n",
    "    \n",
    "    def __init__(self, batch_size = 32, dim_x = 240, dim_y = 192, dim_z = 6, shuffle = True):\n",
    "        self.dim_x = dim_x\n",
    "        self.dim_y = dim_y\n",
    "        self.dim_z = dim_z\n",
    "        self.batch_size = batch_size\n",
    "        self.shuffle = shuffle\n",
    "\n",
    "    def generate(self, dir_name, file_names):\n",
    "        # Infinite loop\n",
    "        while 1:\n",
    "        # Generate order of exploration of dataset\n",
    "            indexes = self.__get_exploration_order(file_names)\n",
    "\n",
    "            # Generate batches\n",
    "            imax = int(len(indexes)/self.batch_size)\n",
    "            for i in range(imax):\n",
    "                # Find list of IDs\n",
    "                list_files_temp = [file_names[k] for k in indexes[i*self.batch_size:(i+1)*self.batch_size]]\n",
    "                # Generate data\n",
    "                X_out, y_out = self.data_generation(dir_name, list_files_temp)\n",
    "\n",
    "                yield X_out, y_out\n",
    "\n",
    "    def __get_exploration_order(self, X):\n",
    "        \n",
    "        # Find exploration order\n",
    "        indexes = np.arange(len(X))\n",
    "        if self.shuffle == True:\n",
    "            np.random.shuffle(indexes)\n",
    "\n",
    "        return indexes\n",
    "\n",
    "    def data_generation(self, dir_name, list_files_temp):\n",
    "        # X : (n_samples, v_size, v_size, n_channels)\n",
    "        # Initialization\n",
    "        X = np.empty((self.batch_size, self.dim_y, self.dim_x, self.dim_z))\n",
    "        y = np.empty((self.batch_size, self.dim_y, self.dim_x))\n",
    "\n",
    "        # Generate data\n",
    "        for i in range(len(list_files_temp)):\n",
    "            # Store volume\n",
    "            img_1 = cv2.imread(dir_name+'1/'+list_files_temp[i])\n",
    "            img_2 = cv2.imread(dir_name+'2/'+list_files_temp[i])\n",
    "            img_gt = cv2.imread(dir_name+'gt/'+list_files_temp[i],0)\n",
    "            \n",
    "            #print(img.shape)\n",
    "            X[i, :, :, :3] = img_1/255\n",
    "            X[i, :, :, 3:] = img_2/255\n",
    "            \n",
    "            y[i, :, :]=img_gt/255\n",
    "\n",
    "            \n",
    "            #y = y/255\n",
    "            #y=y.flatten()\n",
    "        return X, y\n",
    "    def debug(self, X, y):\n",
    "        indexes = self.__get_exploration_order(X)\n",
    "        imax = int(len(indexes)/self.batch_size)\n",
    "        for i in range(1):\n",
    "            # Find list of IDs\n",
    "            list_files_temp = [file_names[k] for k in indexes[i*self.batch_size:(i+1)*self.batch_size]]\n",
    "            # Generate data\n",
    "            X_out, y_out = self.data_generation(dir_name, list_files_temp)\n",
    "            return  X_out, y_out"
   ]
  },
  {
   "cell_type": "code",
   "execution_count": 6,
   "metadata": {
    "collapsed": true
   },
   "outputs": [],
   "source": [
    "# dir_name = DATASET_DIR+'test/'\n",
    "# file_names = os.listdir(dir_name+'1/')\n",
    "\n",
    "# X,y = BatchGeneratorStatic().debug(dir_name, file_names)"
   ]
  },
  {
   "cell_type": "code",
   "execution_count": 7,
   "metadata": {
    "collapsed": true
   },
   "outputs": [],
   "source": [
    "# LOADING DATASETS\n",
    "train_dir = DATASET_DIR+'train/'\n",
    "train_data = os.listdir(DATASET_DIR+'train/1')\n",
    "val_dir = DATASET_DIR+'val/'\n",
    "val_data = os.listdir(DATASET_DIR+'val/1')"
   ]
  },
  {
   "cell_type": "code",
   "execution_count": 8,
   "metadata": {
    "scrolled": true
   },
   "outputs": [
    {
     "name": "stdout",
     "output_type": "stream",
     "text": [
      "_________________________________________________________________\n",
      "Layer (type)                 Output Shape              Param #   \n",
      "=================================================================\n",
      "input_1 (InputLayer)         (None, 192, 240, 6)       0         \n",
      "_________________________________________________________________\n",
      "batch_normalization_1 (Batch (None, 192, 240, 6)       24        \n",
      "_________________________________________________________________\n",
      "conv2d_1 (Conv2D)            (None, 192, 240, 64)      18880     \n",
      "_________________________________________________________________\n",
      "batch_normalization_2 (Batch (None, 192, 240, 64)      256       \n",
      "_________________________________________________________________\n",
      "activation_1 (Activation)    (None, 192, 240, 64)      0         \n",
      "_________________________________________________________________\n",
      "max_pooling2d_1 (MaxPooling2 (None, 96, 120, 64)       0         \n",
      "_________________________________________________________________\n",
      "conv2d_2 (Conv2D)            (None, 96, 120, 128)      401536    \n",
      "_________________________________________________________________\n",
      "batch_normalization_3 (Batch (None, 96, 120, 128)      512       \n",
      "_________________________________________________________________\n",
      "activation_2 (Activation)    (None, 96, 120, 128)      0         \n",
      "_________________________________________________________________\n",
      "max_pooling2d_2 (MaxPooling2 (None, 48, 60, 128)       0         \n",
      "_________________________________________________________________\n",
      "conv2d_3 (Conv2D)            (None, 48, 60, 256)       1605888   \n",
      "_________________________________________________________________\n",
      "batch_normalization_4 (Batch (None, 48, 60, 256)       1024      \n",
      "_________________________________________________________________\n",
      "activation_3 (Activation)    (None, 48, 60, 256)       0         \n",
      "_________________________________________________________________\n",
      "max_pooling2d_3 (MaxPooling2 (None, 24, 30, 256)       0         \n",
      "_________________________________________________________________\n",
      "conv2d_4 (Conv2D)            (None, 24, 30, 512)       6423040   \n",
      "_________________________________________________________________\n",
      "batch_normalization_5 (Batch (None, 24, 30, 512)       2048      \n",
      "_________________________________________________________________\n",
      "activation_4 (Activation)    (None, 24, 30, 512)       0         \n",
      "_________________________________________________________________\n",
      "max_pooling2d_4 (MaxPooling2 (None, 12, 15, 512)       0         \n",
      "_________________________________________________________________\n",
      "up_sampling2d_1 (UpSampling2 (None, 24, 30, 512)       0         \n",
      "_________________________________________________________________\n",
      "conv2d_5 (Conv2D)            (None, 24, 30, 512)       12845568  \n",
      "_________________________________________________________________\n",
      "batch_normalization_6 (Batch (None, 24, 30, 512)       2048      \n",
      "_________________________________________________________________\n",
      "activation_5 (Activation)    (None, 24, 30, 512)       0         \n",
      "_________________________________________________________________\n",
      "up_sampling2d_2 (UpSampling2 (None, 48, 60, 512)       0         \n",
      "_________________________________________________________________\n",
      "conv2d_6 (Conv2D)            (None, 48, 60, 256)       6422784   \n",
      "_________________________________________________________________\n",
      "batch_normalization_7 (Batch (None, 48, 60, 256)       1024      \n",
      "_________________________________________________________________\n",
      "activation_6 (Activation)    (None, 48, 60, 256)       0         \n",
      "_________________________________________________________________\n",
      "up_sampling2d_3 (UpSampling2 (None, 96, 120, 256)      0         \n",
      "_________________________________________________________________\n",
      "conv2d_7 (Conv2D)            (None, 96, 120, 128)      1605760   \n",
      "_________________________________________________________________\n",
      "batch_normalization_8 (Batch (None, 96, 120, 128)      512       \n",
      "_________________________________________________________________\n",
      "activation_7 (Activation)    (None, 96, 120, 128)      0         \n",
      "_________________________________________________________________\n",
      "up_sampling2d_4 (UpSampling2 (None, 192, 240, 128)     0         \n",
      "_________________________________________________________________\n",
      "conv2d_8 (Conv2D)            (None, 192, 240, 64)      401472    \n",
      "_________________________________________________________________\n",
      "batch_normalization_9 (Batch (None, 192, 240, 64)      256       \n",
      "_________________________________________________________________\n",
      "activation_8 (Activation)    (None, 192, 240, 64)      0         \n",
      "_________________________________________________________________\n",
      "conv2d_9 (Conv2D)            (None, 192, 240, 1)       3137      \n",
      "_________________________________________________________________\n",
      "reshape_1 (Reshape)          (None, 192, 240)          0         \n",
      "=================================================================\n",
      "Total params: 29,735,769\n",
      "Trainable params: 29,731,917\n",
      "Non-trainable params: 3,852\n",
      "_________________________________________________________________\n",
      "None\n"
     ]
    }
   ],
   "source": [
    "inputs = Input((192,240,6))\n",
    "bn0 = BatchNormalization()(inputs)\n",
    "\n",
    "conv1 = Conv2D(64, (7, 7), padding='same', kernel_regularizer=l2_reg(0.001))(bn0)\n",
    "bn1 = BatchNormalization()(conv1)\n",
    "ac1 = Activation('relu')(bn1)\n",
    "mp1 = MaxPooling2D(pool_size=(2, 2), strides=2)(ac1)\n",
    "\n",
    "conv2 = Conv2D(128, (7, 7), padding='same', kernel_regularizer=l2_reg(0.001))(mp1)\n",
    "bn2 = BatchNormalization()(conv2)\n",
    "ac2 = Activation('relu')(bn2)\n",
    "mp2 = MaxPooling2D(pool_size=(2, 2), strides=2)(ac2)\n",
    "\n",
    "conv3 = Conv2D(256, (7, 7), padding='same', kernel_regularizer=l2_reg(0.001))(mp2)\n",
    "bn3 = BatchNormalization()(conv3)\n",
    "ac3 = Activation('relu')(bn3)\n",
    "mp3 = MaxPooling2D(pool_size=(2, 2), strides=2)(ac3)\n",
    "\n",
    "conv4 = Conv2D(512, (7, 7), padding='same', kernel_regularizer=l2_reg(0.001))(mp3)\n",
    "bn4 = BatchNormalization()(conv4)\n",
    "ac4 = Activation('relu')(bn4)\n",
    "mp4 = MaxPooling2D(pool_size=(2, 2), strides=2)(ac4)\n",
    "\n",
    "up5 = UpSampling2D((2, 2))(mp4)\n",
    "conv5 = Conv2D(512, (7, 7), padding='same', kernel_regularizer=l2_reg(0.001))(up5)\n",
    "bn5 = BatchNormalization()(conv5)\n",
    "ac5 = Activation('relu')(bn5)\n",
    "\n",
    "up6 = UpSampling2D((2, 2))(ac5)\n",
    "conv6 = Conv2D(256, (7, 7), padding='same', kernel_regularizer=l2_reg(0.001))(up6)\n",
    "bn6 = BatchNormalization()(conv6)\n",
    "ac6 = Activation('relu')(bn6)\n",
    "\n",
    "up7 = UpSampling2D((2, 2))(ac6)\n",
    "conv7 = Conv2D(128, (7, 7), padding='same', kernel_regularizer=l2_reg(0.001))(up7)\n",
    "bn7 = BatchNormalization()(conv7)\n",
    "ac7 = Activation('relu')(bn7)\n",
    "\n",
    "up8 = UpSampling2D((2, 2))(ac7)\n",
    "conv8 = Conv2D(64, (7, 7), padding='same', kernel_regularizer=l2_reg(0.001))(up8)\n",
    "bn8 = BatchNormalization()(conv8)\n",
    "ac8 = Activation('relu')(bn8)\n",
    "\n",
    "conv9 = Conv2D(1, (7, 7), activation='sigmoid', padding='same', kernel_regularizer=l2_reg(0.001))(ac8)\n",
    "\n",
    "rh1 = Reshape((192, 240))(conv9)\n",
    "#rh1 = Flatten()(conv9)\n",
    "\n",
    "model = Model(inputs=inputs, outputs=rh1)\n",
    "print(model.summary())"
   ]
  },
  {
   "cell_type": "code",
   "execution_count": 18,
   "metadata": {},
   "outputs": [
    {
     "name": "stdout",
     "output_type": "stream",
     "text": [
      "____________________________________________________________________________________________________\n",
      "Layer (type)                     Output Shape          Param #     Connected to                     \n",
      "====================================================================================================\n",
      "input_4 (InputLayer)             (None, 192, 240, 6)   0                                            \n",
      "____________________________________________________________________________________________________\n",
      "batch_normalization_28 (BatchNor (None, 192, 240, 6)   24          input_4[0][0]                    \n",
      "____________________________________________________________________________________________________\n",
      "conv2d_28 (Conv2D)               (None, 192, 240, 32)  1760        batch_normalization_28[0][0]     \n",
      "____________________________________________________________________________________________________\n",
      "batch_normalization_29 (BatchNor (None, 192, 240, 32)  128         conv2d_28[0][0]                  \n",
      "____________________________________________________________________________________________________\n",
      "activation_25 (Activation)       (None, 192, 240, 32)  0           batch_normalization_29[0][0]     \n",
      "____________________________________________________________________________________________________\n",
      "conv2d_29 (Conv2D)               (None, 192, 240, 32)  9248        activation_25[0][0]              \n",
      "____________________________________________________________________________________________________\n",
      "batch_normalization_30 (BatchNor (None, 192, 240, 32)  128         conv2d_29[0][0]                  \n",
      "____________________________________________________________________________________________________\n",
      "activation_26 (Activation)       (None, 192, 240, 32)  0           batch_normalization_30[0][0]     \n",
      "____________________________________________________________________________________________________\n",
      "max_pooling2d_13 (MaxPooling2D)  (None, 96, 120, 32)   0           activation_26[0][0]              \n",
      "____________________________________________________________________________________________________\n",
      "conv2d_30 (Conv2D)               (None, 96, 120, 64)   18496       max_pooling2d_13[0][0]           \n",
      "____________________________________________________________________________________________________\n",
      "batch_normalization_31 (BatchNor (None, 96, 120, 64)   256         conv2d_30[0][0]                  \n",
      "____________________________________________________________________________________________________\n",
      "activation_27 (Activation)       (None, 96, 120, 64)   0           batch_normalization_31[0][0]     \n",
      "____________________________________________________________________________________________________\n",
      "conv2d_31 (Conv2D)               (None, 96, 120, 64)   36928       activation_27[0][0]              \n",
      "____________________________________________________________________________________________________\n",
      "batch_normalization_32 (BatchNor (None, 96, 120, 64)   256         conv2d_31[0][0]                  \n",
      "____________________________________________________________________________________________________\n",
      "activation_28 (Activation)       (None, 96, 120, 64)   0           batch_normalization_32[0][0]     \n",
      "____________________________________________________________________________________________________\n",
      "max_pooling2d_14 (MaxPooling2D)  (None, 48, 60, 64)    0           activation_28[0][0]              \n",
      "____________________________________________________________________________________________________\n",
      "conv2d_32 (Conv2D)               (None, 48, 60, 128)   73856       max_pooling2d_14[0][0]           \n",
      "____________________________________________________________________________________________________\n",
      "batch_normalization_33 (BatchNor (None, 48, 60, 128)   512         conv2d_32[0][0]                  \n",
      "____________________________________________________________________________________________________\n",
      "activation_29 (Activation)       (None, 48, 60, 128)   0           batch_normalization_33[0][0]     \n",
      "____________________________________________________________________________________________________\n",
      "conv2d_33 (Conv2D)               (None, 48, 60, 128)   147584      activation_29[0][0]              \n",
      "____________________________________________________________________________________________________\n",
      "batch_normalization_34 (BatchNor (None, 48, 60, 128)   512         conv2d_33[0][0]                  \n",
      "____________________________________________________________________________________________________\n",
      "activation_30 (Activation)       (None, 48, 60, 128)   0           batch_normalization_34[0][0]     \n",
      "____________________________________________________________________________________________________\n",
      "max_pooling2d_15 (MaxPooling2D)  (None, 24, 30, 128)   0           activation_30[0][0]              \n",
      "____________________________________________________________________________________________________\n",
      "conv2d_34 (Conv2D)               (None, 24, 30, 256)   295168      max_pooling2d_15[0][0]           \n",
      "____________________________________________________________________________________________________\n",
      "batch_normalization_35 (BatchNor (None, 24, 30, 256)   1024        conv2d_34[0][0]                  \n",
      "____________________________________________________________________________________________________\n",
      "activation_31 (Activation)       (None, 24, 30, 256)   0           batch_normalization_35[0][0]     \n",
      "____________________________________________________________________________________________________\n",
      "conv2d_35 (Conv2D)               (None, 24, 30, 256)   590080      activation_31[0][0]              \n",
      "____________________________________________________________________________________________________\n",
      "batch_normalization_36 (BatchNor (None, 24, 30, 256)   1024        conv2d_35[0][0]                  \n",
      "____________________________________________________________________________________________________\n",
      "activation_32 (Activation)       (None, 24, 30, 256)   0           batch_normalization_36[0][0]     \n",
      "____________________________________________________________________________________________________\n",
      "max_pooling2d_16 (MaxPooling2D)  (None, 12, 15, 256)   0           activation_32[0][0]              \n",
      "____________________________________________________________________________________________________\n",
      "conv2d_36 (Conv2D)               (None, 12, 15, 512)   1180160     max_pooling2d_16[0][0]           \n",
      "____________________________________________________________________________________________________\n",
      "batch_normalization_37 (BatchNor (None, 12, 15, 512)   2048        conv2d_36[0][0]                  \n",
      "____________________________________________________________________________________________________\n",
      "activation_33 (Activation)       (None, 12, 15, 512)   0           batch_normalization_37[0][0]     \n",
      "____________________________________________________________________________________________________\n",
      "conv2d_37 (Conv2D)               (None, 12, 15, 512)   2359808     activation_33[0][0]              \n",
      "____________________________________________________________________________________________________\n",
      "batch_normalization_38 (BatchNor (None, 12, 15, 512)   2048        conv2d_37[0][0]                  \n",
      "____________________________________________________________________________________________________\n",
      "activation_34 (Activation)       (None, 12, 15, 512)   0           batch_normalization_38[0][0]     \n",
      "____________________________________________________________________________________________________\n",
      "up_sampling2d_13 (UpSampling2D)  (None, 24, 30, 512)   0           activation_34[0][0]              \n",
      "____________________________________________________________________________________________________\n",
      "concatenate_1 (Concatenate)      (None, 24, 30, 768)   0           up_sampling2d_13[0][0]           \n",
      "                                                                   activation_32[0][0]              \n",
      "____________________________________________________________________________________________________\n",
      "conv2d_38 (Conv2D)               (None, 24, 30, 256)   1769728     concatenate_1[0][0]              \n",
      "____________________________________________________________________________________________________\n",
      "batch_normalization_39 (BatchNor (None, 24, 30, 256)   1024        conv2d_38[0][0]                  \n",
      "____________________________________________________________________________________________________\n",
      "activation_35 (Activation)       (None, 24, 30, 256)   0           batch_normalization_39[0][0]     \n",
      "____________________________________________________________________________________________________\n",
      "conv2d_39 (Conv2D)               (None, 24, 30, 256)   590080      activation_35[0][0]              \n",
      "____________________________________________________________________________________________________\n",
      "batch_normalization_40 (BatchNor (None, 24, 30, 256)   1024        conv2d_39[0][0]                  \n",
      "____________________________________________________________________________________________________\n",
      "activation_36 (Activation)       (None, 24, 30, 256)   0           batch_normalization_40[0][0]     \n",
      "____________________________________________________________________________________________________\n",
      "up_sampling2d_14 (UpSampling2D)  (None, 48, 60, 256)   0           activation_36[0][0]              \n",
      "____________________________________________________________________________________________________\n",
      "concatenate_2 (Concatenate)      (None, 48, 60, 384)   0           up_sampling2d_14[0][0]           \n",
      "                                                                   activation_30[0][0]              \n",
      "____________________________________________________________________________________________________\n",
      "conv2d_40 (Conv2D)               (None, 48, 60, 128)   442496      concatenate_2[0][0]              \n",
      "____________________________________________________________________________________________________\n",
      "batch_normalization_41 (BatchNor (None, 48, 60, 128)   512         conv2d_40[0][0]                  \n",
      "____________________________________________________________________________________________________\n",
      "activation_37 (Activation)       (None, 48, 60, 128)   0           batch_normalization_41[0][0]     \n",
      "____________________________________________________________________________________________________\n",
      "conv2d_41 (Conv2D)               (None, 48, 60, 128)   147584      activation_37[0][0]              \n",
      "____________________________________________________________________________________________________\n",
      "batch_normalization_42 (BatchNor (None, 48, 60, 128)   512         conv2d_41[0][0]                  \n",
      "____________________________________________________________________________________________________\n",
      "activation_38 (Activation)       (None, 48, 60, 128)   0           batch_normalization_42[0][0]     \n",
      "____________________________________________________________________________________________________\n",
      "up_sampling2d_15 (UpSampling2D)  (None, 96, 120, 128)  0           activation_38[0][0]              \n",
      "____________________________________________________________________________________________________\n",
      "concatenate_3 (Concatenate)      (None, 96, 120, 192)  0           up_sampling2d_15[0][0]           \n",
      "                                                                   activation_28[0][0]              \n",
      "____________________________________________________________________________________________________\n",
      "conv2d_42 (Conv2D)               (None, 96, 120, 64)   110656      concatenate_3[0][0]              \n",
      "____________________________________________________________________________________________________\n",
      "batch_normalization_43 (BatchNor (None, 96, 120, 64)   256         conv2d_42[0][0]                  \n",
      "____________________________________________________________________________________________________\n",
      "activation_39 (Activation)       (None, 96, 120, 64)   0           batch_normalization_43[0][0]     \n",
      "____________________________________________________________________________________________________\n",
      "conv2d_43 (Conv2D)               (None, 96, 120, 64)   36928       activation_39[0][0]              \n",
      "____________________________________________________________________________________________________\n",
      "batch_normalization_44 (BatchNor (None, 96, 120, 64)   256         conv2d_43[0][0]                  \n",
      "____________________________________________________________________________________________________\n",
      "activation_40 (Activation)       (None, 96, 120, 64)   0           batch_normalization_44[0][0]     \n",
      "____________________________________________________________________________________________________\n",
      "up_sampling2d_16 (UpSampling2D)  (None, 192, 240, 64)  0           activation_40[0][0]              \n",
      "____________________________________________________________________________________________________\n",
      "concatenate_4 (Concatenate)      (None, 192, 240, 96)  0           up_sampling2d_16[0][0]           \n",
      "                                                                   activation_26[0][0]              \n",
      "____________________________________________________________________________________________________\n",
      "conv2d_44 (Conv2D)               (None, 192, 240, 32)  27680       concatenate_4[0][0]              \n",
      "____________________________________________________________________________________________________\n",
      "batch_normalization_45 (BatchNor (None, 192, 240, 32)  128         conv2d_44[0][0]                  \n",
      "____________________________________________________________________________________________________\n",
      "activation_41 (Activation)       (None, 192, 240, 32)  0           batch_normalization_45[0][0]     \n",
      "____________________________________________________________________________________________________\n",
      "conv2d_45 (Conv2D)               (None, 192, 240, 32)  9248        activation_41[0][0]              \n",
      "____________________________________________________________________________________________________\n",
      "batch_normalization_46 (BatchNor (None, 192, 240, 32)  128         conv2d_45[0][0]                  \n",
      "____________________________________________________________________________________________________\n",
      "activation_42 (Activation)       (None, 192, 240, 32)  0           batch_normalization_46[0][0]     \n",
      "____________________________________________________________________________________________________\n",
      "conv2d_46 (Conv2D)               (None, 192, 240, 1)   33          activation_42[0][0]              \n",
      "____________________________________________________________________________________________________\n",
      "reshape_4 (Reshape)              (None, 192, 240)      0           conv2d_46[0][0]                  \n",
      "====================================================================================================\n",
      "Total params: 7,859,321\n",
      "Trainable params: 7,853,421\n",
      "Non-trainable params: 5,900\n",
      "____________________________________________________________________________________________________\n",
      "None\n"
     ]
    }
   ],
   "source": [
    "inputs = Input((192,240,6))\n",
    "bn1 = BatchNormalization()(inputs)\n",
    "conv1 = Conv2D(32, (3, 3), padding='same')(bn1)\n",
    "bn1 = BatchNormalization()(conv1)\n",
    "act1 = Activation('relu')(bn1)\n",
    "conv1 = Conv2D(32, (3, 3), padding='same')(act1)\n",
    "bn1 = BatchNormalization()(conv1)\n",
    "act1 = Activation('relu')(bn1)\n",
    "pool1 = MaxPooling2D(pool_size=(2, 2))(act1)\n",
    "\n",
    "conv2 = Conv2D(64, (3, 3), padding='same')(pool1)\n",
    "bn2 = BatchNormalization()(conv2)\n",
    "act2 = Activation('relu')(bn2)\n",
    "conv2 = Conv2D(64, (3, 3), padding='same')(act2)\n",
    "bn2 = BatchNormalization()(conv2)\n",
    "act2 = Activation('relu')(bn2)\n",
    "pool2 = MaxPooling2D(pool_size=(2, 2))(act2)\n",
    "\n",
    "conv3 = Conv2D(128, (3, 3), padding='same')(pool2)\n",
    "bn3 = BatchNormalization()(conv3)\n",
    "act3 = Activation('relu')(bn3)\n",
    "conv3 = Conv2D(128, (3, 3), padding='same')(act3)\n",
    "bn3 = BatchNormalization()(conv3)\n",
    "act3 = Activation('relu')(bn3)\n",
    "pool3 = MaxPooling2D(pool_size=(2, 2))(act3)\n",
    "\n",
    "conv4 = Conv2D(256, (3, 3), padding='same')(pool3)\n",
    "bn4 = BatchNormalization()(conv4)\n",
    "act4 = Activation('relu')(bn4)\n",
    "conv4 = Conv2D(256, (3, 3), padding='same')(act4)\n",
    "bn4 = BatchNormalization()(conv4)\n",
    "act4 = Activation('relu')(bn4)\n",
    "pool4 = MaxPooling2D(pool_size=(2, 2))(act4)\n",
    "\n",
    "conv5 = Conv2D(512, (3, 3), padding='same')(pool4)\n",
    "bn5 = BatchNormalization()(conv5)\n",
    "act5 = Activation('relu')(bn5)\n",
    "conv5 = Conv2D(512, (3, 3), padding='same')(act5)\n",
    "bn5 = BatchNormalization()(conv5)\n",
    "act5 = Activation('relu')(bn5)\n",
    "\n",
    "up6 = concatenate([UpSampling2D(size=(2, 2))(act5), act4], axis=3)\n",
    "conv6 = Conv2D(256, (3, 3), padding='same')(up6)\n",
    "bn6 = BatchNormalization()(conv6)\n",
    "act6 = Activation('relu')(bn6)\n",
    "conv6 = Conv2D(256, (3, 3), padding='same')(act6)\n",
    "bn6 = BatchNormalization()(conv6)\n",
    "act6 = Activation('relu')(bn6)\n",
    "\n",
    "up7 = concatenate([UpSampling2D(size=(2, 2))(act6), act3], axis =3 )\n",
    "conv7 = Conv2D(128, (3, 3), padding='same')(up7)\n",
    "bn7 = BatchNormalization()(conv7)\n",
    "act7 = Activation('relu')(bn7)\n",
    "conv7 = Conv2D(128, (3, 3), padding='same')(act7)\n",
    "bn7 = BatchNormalization()(conv7)\n",
    "act7 = Activation('relu')(bn7)\n",
    "\n",
    "up8 = concatenate([UpSampling2D(size=(2, 2))(act7), act2], axis=3)\n",
    "conv8 = Conv2D(64, (3, 3), padding='same')(up8)\n",
    "bn8 = BatchNormalization()(conv8)\n",
    "act8 = Activation('relu')(bn8)\n",
    "conv8 = Conv2D(64, (3, 3), padding='same')(act8)\n",
    "bn8 = BatchNormalization()(conv8)\n",
    "act8 = Activation('relu')(bn8)\n",
    "\n",
    "up9 = concatenate([UpSampling2D(size=(2, 2))(act8), act1], axis=3)\n",
    "conv9 = Conv2D(32, (3, 3), padding='same')(up9)\n",
    "bn9 = BatchNormalization()(conv9)\n",
    "act9 = Activation('relu')(bn9)\n",
    "conv9 = Conv2D(32, (3, 3), padding='same')(act9)\n",
    "bn9 = BatchNormalization()(conv9)\n",
    "act9 = Activation('relu')(bn9)\n",
    "\n",
    "conv10 = Conv2D(1, (1, 1), activation='sigmoid', padding='same')(act9)\n",
    "\n",
    "rh1 = Reshape((192, 240))(conv10)\n",
    "\n",
    "model = Model(inputs=inputs, outputs=rh1, name = 'Unet')\n",
    "print(model.summary())"
   ]
  },
  {
   "cell_type": "code",
   "execution_count": null,
   "metadata": {},
   "outputs": [
    {
     "name": "stdout",
     "output_type": "stream",
     "text": [
      "Epoch 0\n",
      "Epoch 1/1\n",
      "400/400 [==============================] - 209s 523ms/step - loss: 2.5925 - jaccard_coef_int: 0.1128 - iou_metric: 0.1128 - precision: 0.2240 - recall: 0.4894 - f1: nan - val_loss: 2.4539 - val_jaccard_coef_int: 0.2397 - val_iou_metric: 0.2397 - val_precision: 0.3311 - val_recall: 0.6579 - val_f1: nan\n",
      "Epoch 1\n",
      "Epoch 1/1\n",
      "400/400 [==============================] - 205s 513ms/step - loss: 2.2737 - jaccard_coef_int: 0.4081 - iou_metric: 0.4081 - precision: 0.5939 - recall: 0.6017 - f1: nan - val_loss: 2.2029 - val_jaccard_coef_int: 0.4666 - val_iou_metric: 0.4666 - val_precision: 0.6043 - val_recall: 0.6973 - val_f1: nan\n",
      "Epoch 2\n",
      "Epoch 1/1\n",
      "400/400 [==============================] - 204s 510ms/step - loss: 2.2193 - jaccard_coef_int: 0.4381 - iou_metric: 0.4381 - precision: 0.6269 - recall: 0.6182 - f1: nan - val_loss: 2.4029 - val_jaccard_coef_int: 0.2425 - val_iou_metric: 0.2425 - val_precision: 0.3411 - val_recall: 0.4869 - val_f1: nan\n",
      "Epoch 3\n",
      "Epoch 1/1\n",
      " 23/400 [>.............................] - ETA: 3:12 - loss: 2.1518 - jaccard_coef_int: 0.5175 - iou_metric: 0.5175 - precision: 0.6845 - recall: 0.7048 - f1: 0.6742"
     ]
    }
   ],
   "source": [
    "EPOCHS = 15\n",
    "epoch_num = EPOCHS\n",
    "prev_val_iou=0\n",
    "learning_rate = 0.01\n",
    "prev_weghts_caption = ''\n",
    "prev_epoch = 0\n",
    "\n",
    "while epoch_num>0:\n",
    "    print('Epoch {}'.format(str(EPOCHS-epoch_num)))\n",
    "    epoch_num -= 1\n",
    "    optimizer = keras.optimizers.SGD(lr=learning_rate)\n",
    "    model.compile(loss=jaccard_loss, optimizer=optimizer, metrics=[jaccard_coef_int, iou_metric, precision, recall, f1])\n",
    "    batch_size = 5\n",
    "    training_generator = BatchGeneratorStatic(batch_size = batch_size).generate(train_dir, train_data)\n",
    "    validation_generator = BatchGeneratorStatic(batch_size = batch_size).generate(val_dir, val_data)\n",
    "\n",
    "    fit_results = model.fit_generator(generator = training_generator,\n",
    "                            steps_per_epoch = 400,\n",
    "                            validation_data = validation_generator,\n",
    "                            validation_steps = int(len(val_data)//batch_size), verbose = True,epochs= 1)\n",
    "    metrics_dict = fit_results.history\n",
    "    if metrics_dict['val_iou_metric'][0] > prev_val_iou:\n",
    "        prev_val_iou = metrics_dict['val_iou_metric'][0]\n",
    "        prev_weghts_caption = 'version2_shadows/weights/aicd_epoch{}-{}_weights_train{}iou_val{}iou.4f'.format(str(EPOCHS - epoch_num), str(prev_epoch), metrics_dict['iou_metric'][0],\n",
    "                                                                                   metrics_dict['val_iou_metric'][0])\n",
    "        model.save_weights(prev_weghts_caption)\n",
    "        prev_epoch = EPOCHS - epoch_num\n",
    "    else:\n",
    "        learning_rate /= 2\n",
    "        model.load_weights(prev_weghts_caption)"
   ]
  },
  {
   "cell_type": "code",
   "execution_count": null,
   "metadata": {
    "collapsed": true
   },
   "outputs": [],
   "source": [
    "model.save(\"version2_shadows/models/model.h5\")"
   ]
  },
  {
   "cell_type": "code",
   "execution_count": 43,
   "metadata": {},
   "outputs": [
    {
     "data": {
      "text/plain": [
       "{'f1': [nan],\n",
       " 'iou_metric': [0.046460526836390202],\n",
       " 'jaccard_coef_int': [0.04646043696266134],\n",
       " 'loss': [2.6593033772706987],\n",
       " 'precision': [0.09942082928730088],\n",
       " 'recall': [0.63072432607848894],\n",
       " 'val_f1': [nan],\n",
       " 'val_iou_metric': [0.11832720245674615],\n",
       " 'val_jaccard_coef_int': [0.11832706198015092],\n",
       " 'val_loss': [2.5753893789492155],\n",
       " 'val_precision': [0.19028585957697175],\n",
       " 'val_recall': [0.63354526431250724]}"
      ]
     },
     "execution_count": 43,
     "metadata": {},
     "output_type": "execute_result"
    }
   ],
   "source": [
    "fit_results.history"
   ]
  },
  {
   "cell_type": "code",
   "execution_count": 34,
   "metadata": {
    "collapsed": true
   },
   "outputs": [],
   "source": [
    "model.save_weights('weights/aicd-7-6weights_1ep_00005lr_tr06916iou_val07026iou.4f')"
   ]
  },
  {
   "cell_type": "code",
   "execution_count": 9,
   "metadata": {},
   "outputs": [],
   "source": [
    "model.load_weights('version_2/weights/aicd_epoch8_weights_train[0.68601577908602218]iou_val[0.69648463564989926]iou.4f')"
   ]
  },
  {
   "cell_type": "code",
   "execution_count": 10,
   "metadata": {
    "collapsed": true
   },
   "outputs": [],
   "source": [
    "# LOADING DATASETS\n",
    "train_dir = DATASET_DIR+'train/'\n",
    "train_data = os.listdir(DATASET_DIR+'train/1')\n",
    "val_dir = DATASET_DIR+'val/'\n",
    "val_data = os.listdir(DATASET_DIR+'val/1')\n",
    "test_dir = DATASET_DIR+'test/'\n",
    "test_data = os.listdir(DATASET_DIR+'test/1')"
   ]
  },
  {
   "cell_type": "code",
   "execution_count": 13,
   "metadata": {
    "collapsed": true
   },
   "outputs": [],
   "source": [
    "mode='test'\n",
    "all_img=False\n",
    "\n",
    "if mode=='val':\n",
    "    data_dir=val_dir\n",
    "    data=val_data\n",
    "elif mode=='train':\n",
    "    data_dir=train_dir\n",
    "    data=train_data\n",
    "elif mode=='test':\n",
    "    data_dir=test_dir\n",
    "    data=test_data\n",
    "    \n",
    "len_data=len(data)\n",
    "if not all_img:\n",
    "    len_data = 100\n",
    "\n",
    "X = np.empty((len_data, 192, 240, 6))\n",
    "y = np.empty((len_data, 192, 240))\n",
    "\n",
    "# Generate data\n",
    "for i in range(len_data):\n",
    "    # Store volume\n",
    "    img_1 = cv2.imread(data_dir+'1/'+data[i])\n",
    "    img_2 = cv2.imread(data_dir+'2/'+data[i])\n",
    "    img_gt = cv2.imread(data_dir+'gt/'+data[i],0)\n",
    "\n",
    "    #print(img.shape)\n",
    "    X[i, :, :, :3] = img_1/255\n",
    "    X[i, :, :, 3:] = img_2/255\n",
    "\n",
    "    y[i, :, :]=img_gt/255\n"
   ]
  },
  {
   "cell_type": "code",
   "execution_count": 26,
   "metadata": {},
   "outputs": [
    {
     "data": {
      "text/plain": [
       "<matplotlib.image.AxesImage at 0x7f8e8f445d68>"
      ]
     },
     "execution_count": 26,
     "metadata": {},
     "output_type": "execute_result"
    },
    {
     "data": {
      "image/png": "[encoded data removed]",
      "text/plain": [
       "<matplotlib.figure.Figure at 0x7f8e8f49f9e8>"
      ]
     },
     "metadata": {},
     "output_type": "display_data"
    }
   ],
   "source": [
    "plt.imshow(y[0,:,:])"
   ]
  },
  {
   "cell_type": "code",
   "execution_count": 18,
   "metadata": {},
   "outputs": [
    {
     "name": "stdout",
     "output_type": "stream",
     "text": [
      "6.26 s ± 294 ms per loop (mean ± std. dev. of 7 runs, 1 loop each)\n"
     ]
    }
   ],
   "source": [
    "%timeit y_pred = model.predict(X)"
   ]
  },
  {
   "cell_type": "code",
   "execution_count": 44,
   "metadata": {},
   "outputs": [
    {
     "name": "stderr",
     "output_type": "stream",
     "text": [
      "100%|██████████| 20/20 [00:04<00:00,  4.01it/s]\n"
     ]
    }
   ],
   "source": [
    "batch_size = 5\n",
    "\n",
    "y_pred = np.empty((len(data), 192, 240))\n",
    "\n",
    "for i in tqdm(range(0, len(data), batch_size)):\n",
    "    y_pred[i:i+batch_size,:,:] = model.predict(X[i:i+batch_size,:,:])"
   ]
  },
  {
   "cell_type": "code",
   "execution_count": 23,
   "metadata": {
    "scrolled": false
   },
   "outputs": [
    {
     "data": {
      "text/plain": [
       "<matplotlib.image.AxesImage at 0x7f36cc6f42e8>"
      ]
     },
     "execution_count": 23,
     "metadata": {},
     "output_type": "execute_result"
    },
    {
     "data": {
      "image/png": "[encoded data removed]",
      "text/plain": [
       "<matplotlib.figure.Figure at 0x7f36cc6184e0>"
      ]
     },
     "metadata": {},
     "output_type": "display_data"
    }
   ],
   "source": [
    "plt.imshow(y_pred[0,:,:])"
   ]
  },
  {
   "cell_type": "code",
   "execution_count": 11,
   "metadata": {
    "scrolled": true
   },
   "outputs": [
    {
     "name": "stderr",
     "output_type": "stream",
     "text": [
      "  0%|          | 0/5 [00:00<?, ?it/s]\n",
      "  0%|          | 0/5 [00:00<?, ?it/s]\u001b[A\n",
      " 20%|██        | 1/5 [00:02<00:10,  2.59s/it]\u001b[A\n",
      " 40%|████      | 2/5 [00:03<00:05,  1.72s/it]\u001b[A\n",
      " 60%|██████    | 3/5 [00:04<00:02,  1.43s/it]\u001b[A\n",
      " 80%|████████  | 4/5 [00:05<00:01,  1.29s/it]\u001b[A\n",
      "100%|██████████| 5/5 [00:06<00:00,  1.20s/it]\u001b[A\n",
      " 20%|██        | 1/5 [00:06<00:24,  6.03s/it]\n",
      "  0%|          | 0/5 [00:00<?, ?it/s]\u001b[A\n",
      " 20%|██        | 1/5 [00:00<00:03,  1.17it/s]\u001b[A\n",
      " 40%|████      | 2/5 [00:01<00:02,  1.17it/s]\u001b[A\n",
      " 60%|██████    | 3/5 [00:02<00:01,  1.16it/s]\u001b[A\n",
      " 80%|████████  | 4/5 [00:03<00:00,  1.17it/s]\u001b[A\n",
      "100%|██████████| 5/5 [00:04<00:00,  1.16it/s]\u001b[A\n",
      " 40%|████      | 2/5 [00:10<00:15,  5.16s/it]\n",
      "  0%|          | 0/5 [00:00<?, ?it/s]\u001b[A\n",
      " 20%|██        | 1/5 [00:00<00:03,  1.17it/s]\u001b[A\n",
      " 40%|████      | 2/5 [00:01<00:02,  1.17it/s]\u001b[A\n",
      " 60%|██████    | 3/5 [00:02<00:01,  1.17it/s]\u001b[A\n",
      " 80%|████████  | 4/5 [00:03<00:00,  1.16it/s]\u001b[A\n",
      "100%|██████████| 5/5 [00:04<00:00,  1.17it/s]\u001b[A\n",
      " 60%|██████    | 3/5 [00:14<00:09,  4.87s/it]\n",
      "  0%|          | 0/5 [00:00<?, ?it/s]\u001b[A\n",
      " 20%|██        | 1/5 [00:00<00:03,  1.21it/s]\u001b[A\n",
      " 40%|████      | 2/5 [00:01<00:02,  1.20it/s]\u001b[A\n",
      " 60%|██████    | 3/5 [00:02<00:01,  1.20it/s]\u001b[A\n",
      " 80%|████████  | 4/5 [00:03<00:00,  1.20it/s]\u001b[A\n",
      "100%|██████████| 5/5 [00:04<00:00,  1.19it/s]\u001b[A\n",
      " 80%|████████  | 4/5 [00:18<00:04,  4.71s/it]\n",
      "  0%|          | 0/5 [00:00<?, ?it/s]\u001b[A\n",
      " 20%|██        | 1/5 [00:00<00:03,  1.16it/s]\u001b[A\n",
      " 40%|████      | 2/5 [00:01<00:02,  1.14it/s]\u001b[A\n",
      " 60%|██████    | 3/5 [00:02<00:01,  1.15it/s]\u001b[A\n",
      " 80%|████████  | 4/5 [00:03<00:00,  1.15it/s]\u001b[A\n",
      "100%|██████████| 5/5 [00:04<00:00,  1.16it/s]\u001b[A\n",
      "100%|██████████| 5/5 [00:23<00:00,  4.63s/it]\n"
     ]
    }
   ],
   "source": [
    "#predict for test, for whole images\n",
    "dataset_dir = '../data/AICDDataset/'\n",
    "imgs_pred = []\n",
    "imgs_gt = []\n",
    "img_names = []\n",
    "for scene_id in tqdm(range(95,100)):\n",
    "    for view in tqdm(range(5)):\n",
    "        img_path = 'Scene{}_View{}'.format(pad_int_zeros(scene_id, 4), pad_int_zeros(view, 2))\n",
    "        img, img_gt = split_image(dataset_dir, img_path, model)\n",
    "        imgs_pred.append(img)\n",
    "        imgs_gt.append(img_gt)\n",
    "        img_names.append(img_path)"
   ]
  },
  {
   "cell_type": "code",
   "execution_count": 85,
   "metadata": {
    "collapsed": true
   },
   "outputs": [],
   "source": [
    "# write predicted to images, include gt\n",
    "RESULT_DIR='result/'\n",
    "assert len(imgs_pred) == len(imgs_gt)\n",
    "assert len(imgs_pred) == len(img_names)\n",
    "for i in range(len(imgs_pred)):\n",
    "    plt.imsave(RESULT_DIR+img_names[i]+'_gt.png', imgs_gt[i])\n",
    "    plt.imsave(RESULT_DIR+img_names[i]+'_pred.png', imgs_pred[i])"
   ]
  },
  {
   "cell_type": "code",
   "execution_count": 89,
   "metadata": {},
   "outputs": [
    {
     "data": {
      "text/plain": [
       "600"
      ]
     },
     "execution_count": 89,
     "metadata": {},
     "output_type": "execute_result"
    }
   ],
   "source": [
    "imgs_gt[0].shape[0]"
   ]
  },
  {
   "cell_type": "code",
   "execution_count": 14,
   "metadata": {},
   "outputs": [
    {
     "name": "stdout",
     "output_type": "stream",
     "text": [
      "Scene0095_View00\n",
      "0.225168161266\n",
      "0.228323699422\n",
      "1.0\n",
      "0.371764705882\n",
      "------------------------------------\n",
      "Scene0095_View01\n",
      "0.0246326566323\n",
      "0.0\n",
      "nan\n",
      "nan\n",
      "------------------------------------\n",
      "Scene0095_View02\n",
      "0.380380406928\n",
      "0.401617250674\n",
      "0.90303030303\n",
      "0.555970149254\n",
      "------------------------------------\n",
      "Scene0095_View03\n",
      "0.446841327735\n",
      "0.471052631579\n",
      "0.937172774869\n",
      "0.626970227671\n",
      "------------------------------------\n",
      "Scene0095_View04\n",
      "0.0675264721239\n",
      "0.0204603580563\n",
      "1.0\n",
      "0.0401002506266\n",
      "------------------------------------\n",
      "Scene0096_View00\n",
      "0.609303401623\n",
      "0.627218934911\n",
      "0.96803652968\n",
      "0.761220825853\n",
      "------------------------------------\n",
      "Scene0096_View01\n",
      "0.648615529486\n",
      "0.684813753582\n",
      "0.944664031621\n"
     ]
    },
    {
     "name": "stderr",
     "output_type": "stream",
     "text": [
      "/opt/anaconda/anaconda3/lib/python3.6/site-packages/ipykernel_launcher.py:20: RuntimeWarning: invalid value encountered in double_scalars\n"
     ]
    },
    {
     "name": "stdout",
     "output_type": "stream",
     "text": [
      "0.794019933555\n",
      "------------------------------------\n",
      "Scene0096_View02\n",
      "0.565917641699\n",
      "0.587078651685\n",
      "0.972093023256\n",
      "0.732049036778\n",
      "------------------------------------\n",
      "Scene0096_View03\n",
      "0.659195514143\n",
      "0.686111111111\n",
      "0.953667953668\n",
      "0.798061389338\n",
      "------------------------------------\n",
      "Scene0096_View04\n",
      "0.643046981061\n",
      "0.673184357542\n",
      "0.945098039216\n",
      "0.786296900489\n",
      "------------------------------------\n",
      "Scene0097_View00\n",
      "0.704129087282\n",
      "0.768402154399\n",
      "0.899159663866\n",
      "0.828654404647\n",
      "------------------------------------\n",
      "Scene0097_View01\n",
      "0.691455310909\n",
      "0.732600732601\n",
      "0.92807424594\n",
      "0.818833162743\n",
      "------------------------------------\n",
      "Scene0097_View02\n",
      "0.67459022521\n",
      "0.717712177122\n",
      "0.921800947867\n",
      "0.807053941909\n",
      "------------------------------------\n",
      "Scene0097_View03\n",
      "0.650471521988\n",
      "0.704460966543\n",
      "0.89598108747\n",
      "0.788761706556\n",
      "------------------------------------\n",
      "Scene0097_View04\n",
      "0.647957289116\n",
      "0.715094339623\n",
      "0.875288683603\n",
      "0.78712357217\n",
      "------------------------------------\n",
      "Scene0098_View00\n",
      "0.676340727814\n",
      "0.787671232877\n",
      "0.839416058394\n",
      "0.812720848057\n",
      "------------------------------------\n",
      "Scene0098_View01\n",
      "0.664730774689\n",
      "0.738041002278\n",
      "0.873315363881\n",
      "0.8\n",
      "------------------------------------\n",
      "Scene0098_View02\n",
      "0.73414313833\n",
      "0.825581395349\n",
      "0.878712871287\n",
      "0.851318944844\n",
      "------------------------------------\n",
      "Scene0098_View03\n",
      "0.428232355142\n",
      "0.443396226415\n",
      "0.974093264249\n",
      "0.609400324149\n",
      "------------------------------------\n",
      "Scene0098_View04\n",
      "0.722401966113\n",
      "0.788095238095\n",
      "0.911845730028\n",
      "0.845466155811\n",
      "------------------------------------\n",
      "Scene0099_View00\n",
      "0.393622704054\n",
      "0.431781701445\n",
      "0.822629969419\n",
      "0.566315789474\n",
      "------------------------------------\n",
      "Scene0099_View01\n",
      "0.390973796692\n",
      "0.426948051948\n",
      "0.814241486068\n",
      "0.560170394036\n",
      "------------------------------------\n",
      "Scene0099_View02\n",
      "0.396797220265\n",
      "0.443349753695\n",
      "0.789473684211\n",
      "0.567823343849\n",
      "------------------------------------\n",
      "Scene0099_View03\n",
      "0.450585772664\n",
      "0.506578947368\n",
      "0.810526315789\n",
      "0.623481781377\n",
      "------------------------------------\n",
      "Scene0099_View04\n",
      "0.446285173576\n",
      "0.513866231648\n",
      "0.781637717122\n",
      "0.620078740157\n",
      "------------------------------------\n"
     ]
    }
   ],
   "source": [
    "assert len(imgs_pred) == len(imgs_gt)\n",
    "y_gt = np.empty((len(imgs_gt), imgs_gt[0].shape[0], imgs_gt[0].shape[1]))\n",
    "y_pred = np.empty((len(imgs_pred), imgs_pred[0].shape[0], imgs_pred[0].shape[1]))\n",
    "for i in range(len(imgs_pred)):\n",
    "    y_gt[i, :, :] = imgs_gt[i]/255\n",
    "    y_pred[i, :, :] = imgs_pred[i]\n",
    "    print(img_names[i])\n",
    "    print(np_jaccard_coef(y_pred[i, :, :] , y_gt[i, :, :]))\n",
    "    print(np_precision(y_pred[i, :, :] ,y_gt[i, :, :]))\n",
    "    print(np_recall(y_pred[i, :, :] ,y_gt[i, :, :]))\n",
    "    print(np_f1(y_pred[i, :, :] ,y_gt[i, :, :]))\n",
    "    print('------------------------------------')"
   ]
  },
  {
   "cell_type": "code",
   "execution_count": 22,
   "metadata": {
    "collapsed": true
   },
   "outputs": [],
   "source": [
    "img_=img.reshape(224, 1024, 1)\n",
    "img_gt_=img_gt.reshape(224, 1024, 1)"
   ]
  },
  {
   "cell_type": "code",
   "execution_count": 44,
   "metadata": {},
   "outputs": [
    {
     "name": "stdout",
     "output_type": "stream",
     "text": [
      "0.700650388995\n",
      "0.853662740592\n",
      "0.798173515982\n",
      "0.824986118823\n"
     ]
    }
   ],
   "source": [
    "print(np_jaccard_coef(y_pred , y))\n",
    "print(np_precision(y_pred ,y))\n",
    "print(np_recall(y_pred ,y))\n",
    "print(np_f1(y_pred ,y))"
   ]
  },
  {
   "cell_type": "code",
   "execution_count": 95,
   "metadata": {},
   "outputs": [
    {
     "data": {
      "text/plain": [
       "255.0"
      ]
     },
     "execution_count": 95,
     "metadata": {},
     "output_type": "execute_result"
    }
   ],
   "source": [
    "np.max(y_gt[0,:,:])"
   ]
  },
  {
   "cell_type": "code",
   "execution_count": 59,
   "metadata": {
    "collapsed": true
   },
   "outputs": [],
   "source": [
    "fpr, tpr, thresholds = roc_curve(y.reshape(-1), y_pred.reshape(-1))"
   ]
  },
  {
   "cell_type": "code",
   "execution_count": 60,
   "metadata": {},
   "outputs": [
    {
     "data": {
      "text/plain": [
       "0.96270553848825235"
      ]
     },
     "execution_count": 60,
     "metadata": {},
     "output_type": "execute_result"
    }
   ],
   "source": [
    "auc(fpr, tpr)"
   ]
  },
  {
   "cell_type": "code",
   "execution_count": 62,
   "metadata": {},
   "outputs": [
    {
     "data": {
      "image/png": "[encoded data removed]",
      "text/plain": [
       "<matplotlib.figure.Figure at 0x7f3ca0e9cda0>"
      ]
     },
     "metadata": {},
     "output_type": "display_data"
    }
   ],
   "source": [
    "plt.plot(fpr, tpr, color='darkorange',\n",
    "         label='ROC curve (area = %0.2f)' % auc(fpr, tpr))\n",
    "plt.xlabel('False Positive Rate')\n",
    "plt.ylabel('True Positive Rate')\n",
    "plt.title('Receiver operating characteristic curve')\n",
    "plt.legend(loc=\"lower right\")\n",
    "plt.show()"
   ]
  },
  {
   "cell_type": "code",
   "execution_count": 86,
   "metadata": {
    "collapsed": true
   },
   "outputs": [],
   "source": [
    "model.save(\"version_2/models/model.h5\")"
   ]
  },
  {
   "cell_type": "code",
   "execution_count": 15,
   "metadata": {},
   "outputs": [
    {
     "ename": "ValueError",
     "evalue": "Unknown loss function:jaccard_loss",
     "output_type": "error",
     "traceback": [
      "\u001b[0;31m\u001b[0m",
      "\u001b[0;31mValueError\u001b[0mTraceback (most recent call last)",
      "\u001b[0;32m<ipython-input-15-d7836b468535>\u001b[0m in \u001b[0;36m<module>\u001b[0;34m()\u001b[0m\n\u001b[0;32m----> 1\u001b[0;31m \u001b[0mmodel\u001b[0m \u001b[0;34m=\u001b[0m \u001b[0mload_model\u001b[0m\u001b[0;34m(\u001b[0m\u001b[0;34m\"version_2/models/model.h5\"\u001b[0m\u001b[0;34m)\u001b[0m\u001b[0;34m\u001b[0m\u001b[0m\n\u001b[0m",
      "\u001b[0;32m/opt/anaconda/anaconda3/lib/python3.6/site-packages/keras/models.py\u001b[0m in \u001b[0;36mload_model\u001b[0;34m(filepath, custom_objects, compile)\u001b[0m\n\u001b[1;32m    272\u001b[0m                       \u001b[0mmetrics\u001b[0m\u001b[0;34m=\u001b[0m\u001b[0mmetrics\u001b[0m\u001b[0;34m,\u001b[0m\u001b[0;34m\u001b[0m\u001b[0m\n\u001b[1;32m    273\u001b[0m                       \u001b[0mloss_weights\u001b[0m\u001b[0;34m=\u001b[0m\u001b[0mloss_weights\u001b[0m\u001b[0;34m,\u001b[0m\u001b[0;34m\u001b[0m\u001b[0m\n\u001b[0;32m--> 274\u001b[0;31m                       sample_weight_mode=sample_weight_mode)\n\u001b[0m\u001b[1;32m    275\u001b[0m \u001b[0;34m\u001b[0m\u001b[0m\n\u001b[1;32m    276\u001b[0m         \u001b[0;31m# Set optimizer weights.\u001b[0m\u001b[0;34m\u001b[0m\u001b[0;34m\u001b[0m\u001b[0m\n",
      "\u001b[0;32m/opt/anaconda/anaconda3/lib/python3.6/site-packages/keras/engine/training.py\u001b[0m in \u001b[0;36mcompile\u001b[0;34m(self, optimizer, loss, metrics, loss_weights, sample_weight_mode, weighted_metrics, target_tensors, **kwargs)\u001b[0m\n\u001b[1;32m    631\u001b[0m             \u001b[0mloss_functions\u001b[0m \u001b[0;34m=\u001b[0m \u001b[0;34m[\u001b[0m\u001b[0mlosses\u001b[0m\u001b[0;34m.\u001b[0m\u001b[0mget\u001b[0m\u001b[0;34m(\u001b[0m\u001b[0ml\u001b[0m\u001b[0;34m)\u001b[0m \u001b[0;32mfor\u001b[0m \u001b[0ml\u001b[0m \u001b[0;32min\u001b[0m \u001b[0mloss\u001b[0m\u001b[0;34m]\u001b[0m\u001b[0;34m\u001b[0m\u001b[0m\n\u001b[1;32m    632\u001b[0m         \u001b[0;32melse\u001b[0m\u001b[0;34m:\u001b[0m\u001b[0;34m\u001b[0m\u001b[0m\n\u001b[0;32m--> 633\u001b[0;31m             \u001b[0mloss_function\u001b[0m \u001b[0;34m=\u001b[0m \u001b[0mlosses\u001b[0m\u001b[0;34m.\u001b[0m\u001b[0mget\u001b[0m\u001b[0;34m(\u001b[0m\u001b[0mloss\u001b[0m\u001b[0;34m)\u001b[0m\u001b[0;34m\u001b[0m\u001b[0m\n\u001b[0m\u001b[1;32m    634\u001b[0m             \u001b[0mloss_functions\u001b[0m \u001b[0;34m=\u001b[0m \u001b[0;34m[\u001b[0m\u001b[0mloss_function\u001b[0m \u001b[0;32mfor\u001b[0m \u001b[0m_\u001b[0m \u001b[0;32min\u001b[0m \u001b[0mrange\u001b[0m\u001b[0;34m(\u001b[0m\u001b[0mlen\u001b[0m\u001b[0;34m(\u001b[0m\u001b[0mself\u001b[0m\u001b[0;34m.\u001b[0m\u001b[0moutputs\u001b[0m\u001b[0;34m)\u001b[0m\u001b[0;34m)\u001b[0m\u001b[0;34m]\u001b[0m\u001b[0;34m\u001b[0m\u001b[0m\n\u001b[1;32m    635\u001b[0m         \u001b[0mself\u001b[0m\u001b[0;34m.\u001b[0m\u001b[0mloss_functions\u001b[0m \u001b[0;34m=\u001b[0m \u001b[0mloss_functions\u001b[0m\u001b[0;34m\u001b[0m\u001b[0m\n",
      "\u001b[0;32m/opt/anaconda/anaconda3/lib/python3.6/site-packages/keras/losses.py\u001b[0m in \u001b[0;36mget\u001b[0;34m(identifier)\u001b[0m\n\u001b[1;32m    120\u001b[0m     \u001b[0;32mif\u001b[0m \u001b[0misinstance\u001b[0m\u001b[0;34m(\u001b[0m\u001b[0midentifier\u001b[0m\u001b[0;34m,\u001b[0m \u001b[0msix\u001b[0m\u001b[0;34m.\u001b[0m\u001b[0mstring_types\u001b[0m\u001b[0;34m)\u001b[0m\u001b[0;34m:\u001b[0m\u001b[0;34m\u001b[0m\u001b[0m\n\u001b[1;32m    121\u001b[0m         \u001b[0midentifier\u001b[0m \u001b[0;34m=\u001b[0m \u001b[0mstr\u001b[0m\u001b[0;34m(\u001b[0m\u001b[0midentifier\u001b[0m\u001b[0;34m)\u001b[0m\u001b[0;34m\u001b[0m\u001b[0m\n\u001b[0;32m--> 122\u001b[0;31m         \u001b[0;32mreturn\u001b[0m \u001b[0mdeserialize\u001b[0m\u001b[0;34m(\u001b[0m\u001b[0midentifier\u001b[0m\u001b[0;34m)\u001b[0m\u001b[0;34m\u001b[0m\u001b[0m\n\u001b[0m\u001b[1;32m    123\u001b[0m     \u001b[0;32mif\u001b[0m \u001b[0misinstance\u001b[0m\u001b[0;34m(\u001b[0m\u001b[0midentifier\u001b[0m\u001b[0;34m,\u001b[0m \u001b[0mdict\u001b[0m\u001b[0;34m)\u001b[0m\u001b[0;34m:\u001b[0m\u001b[0;34m\u001b[0m\u001b[0m\n\u001b[1;32m    124\u001b[0m         \u001b[0;32mreturn\u001b[0m \u001b[0mdeserialize\u001b[0m\u001b[0;34m(\u001b[0m\u001b[0midentifier\u001b[0m\u001b[0;34m)\u001b[0m\u001b[0;34m\u001b[0m\u001b[0m\n",
      "\u001b[0;32m/opt/anaconda/anaconda3/lib/python3.6/site-packages/keras/losses.py\u001b[0m in \u001b[0;36mdeserialize\u001b[0;34m(name, custom_objects)\u001b[0m\n\u001b[1;32m    112\u001b[0m                                     \u001b[0mmodule_objects\u001b[0m\u001b[0;34m=\u001b[0m\u001b[0mglobals\u001b[0m\u001b[0;34m(\u001b[0m\u001b[0;34m)\u001b[0m\u001b[0;34m,\u001b[0m\u001b[0;34m\u001b[0m\u001b[0m\n\u001b[1;32m    113\u001b[0m                                     \u001b[0mcustom_objects\u001b[0m\u001b[0;34m=\u001b[0m\u001b[0mcustom_objects\u001b[0m\u001b[0;34m,\u001b[0m\u001b[0;34m\u001b[0m\u001b[0m\n\u001b[0;32m--> 114\u001b[0;31m                                     printable_module_name='loss function')\n\u001b[0m\u001b[1;32m    115\u001b[0m \u001b[0;34m\u001b[0m\u001b[0m\n\u001b[1;32m    116\u001b[0m \u001b[0;34m\u001b[0m\u001b[0m\n",
      "\u001b[0;32m/opt/anaconda/anaconda3/lib/python3.6/site-packages/keras/utils/generic_utils.py\u001b[0m in \u001b[0;36mdeserialize_keras_object\u001b[0;34m(identifier, module_objects, custom_objects, printable_module_name)\u001b[0m\n\u001b[1;32m    161\u001b[0m             \u001b[0;32mif\u001b[0m \u001b[0mfn\u001b[0m \u001b[0;32mis\u001b[0m \u001b[0;32mNone\u001b[0m\u001b[0;34m:\u001b[0m\u001b[0;34m\u001b[0m\u001b[0m\n\u001b[1;32m    162\u001b[0m                 raise ValueError('Unknown ' + printable_module_name +\n\u001b[0;32m--> 163\u001b[0;31m                                  ':' + function_name)\n\u001b[0m\u001b[1;32m    164\u001b[0m         \u001b[0;32mreturn\u001b[0m \u001b[0mfn\u001b[0m\u001b[0;34m\u001b[0m\u001b[0m\n\u001b[1;32m    165\u001b[0m     \u001b[0;32melse\u001b[0m\u001b[0;34m:\u001b[0m\u001b[0;34m\u001b[0m\u001b[0m\n",
      "\u001b[0;31mValueError\u001b[0m: Unknown loss function:jaccard_loss"
     ]
    }
   ],
   "source": [
    "model = load_model(\"version_2/models/model.h5\")"
   ]
  },
  {
   "cell_type": "code",
   "execution_count": null,
   "metadata": {
    "collapsed": true
   },
   "outputs": [],
   "source": []
  }
 ],
 "metadata": {
  "anaconda-cloud": {},
  "kernelspec": {
   "display_name": "Python 3",
   "language": "python",
   "name": "python3"
  },
  "language_info": {
   "codemirror_mode": {
    "name": "ipython",
    "version": 3
   },
   "file_extension": ".py",
   "mimetype": "text/x-python",
   "name": "python",
   "nbconvert_exporter": "python",
   "pygments_lexer": "ipython3",
   "version": "3.6.3"
  }
 },
 "nbformat": 4,
 "nbformat_minor": 2
}
